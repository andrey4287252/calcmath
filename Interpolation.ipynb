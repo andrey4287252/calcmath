{
 "cells": [
  {
   "cell_type": "code",
   "execution_count": 3,
   "metadata": {},
   "outputs": [],
   "source": [
    "import numpy as np\n",
    "import pandas as pd\n",
    "import functools\n",
    "import math\n",
    "import fractions\n",
    "import itertools as it\n",
    "from numpy import linalg as LA\n",
    "from scipy.interpolate import lagrange\n",
    "from numpy.polynomial.polynomial import Polynomial"
   ]
  },
  {
   "cell_type": "code",
   "execution_count": 1,
   "metadata": {},
   "outputs": [],
   "source": [
    "def KronDel(x, y):\n",
    "    if x == y:\n",
    "        return 1.\n",
    "    else:\n",
    "        return 0."
   ]
  },
  {
   "cell_type": "markdown",
   "metadata": {},
   "source": [
    "$\\textbf{Интерполяция данных многочленом}$\n",
    "\n",
    "$\\textbf{Интерполяционный многочлен в форме Лагранжа.}$\n",
    "\n",
    "Построение многочлена равного $\\delta_{ij}$ на наборе точек $\\{x_j\\}$:\n",
    "\n",
    "В форме Лагранжа:\n",
    "\n",
    "$l_i (x) = \\frac{(x - x_0)...(x - x_{i - 1})(x - x_{i + 1})...(x - x_k)}{(x_i - x_0)...(x_i - x_{i-1})(x - x_{i+1})...(x - x_k)}$\n",
    "\n",
    "В форме Ньютона:\n",
    "\n",
    "Вычисляем рекурсивно для p-ого порядка:\n",
    "\n",
    "$p = 0: f(x_k)$\n",
    "\n",
    "$f(x_n, ..., x_{n + p}) = \\frac{f(x_{n + 1},..., x_{n + p}) - f(x_{n},..., x_{n + p - 1})}{x_{n + p} - x_n}$\n",
    "\n",
    "Можно записать этот коэффициент в виде:\n",
    "\n",
    "$f(x_n, ..., x_{n+p}) = \\sum_{n}^{n+p}\\frac{f(x_j)}{\\Pi_{i = n\\\\ i\\neq j}^{n+p}(x_j - x_i)}$\n",
    "\n",
    "Тогда интерполяционный многочлен равен:\n",
    "$P(x) = f(x_0) + f(x_0, x_1)(x - x_0) + f(x_0, x_1, x_2)(x - x_0)(x - x_1) + ... + f(x_0, x_1, ..., x_n)(x - x_0)...(x - x_{n-1})$"
   ]
  },
  {
   "cell_type": "code",
   "execution_count": 2,
   "metadata": {},
   "outputs": [],
   "source": [
    "def SimplePolynomialInterpolation(x, y):\n",
    "    A = np.array([[x[j]**i for i in range(len(y))] for j in range(len(x))])\n",
    "    return np.linalg.solve(A, y)"
   ]
  },
  {
   "cell_type": "code",
   "execution_count": 3,
   "metadata": {},
   "outputs": [],
   "source": [
    "def Poly(P, x):\n",
    "    S = 0\n",
    "    for i in range(len(P)):\n",
    "        S+= P[i]*x**i\n",
    "    return S"
   ]
  },
  {
   "cell_type": "markdown",
   "metadata": {},
   "source": [
    "$\\textbf{Вспомогательные полиномы}$"
   ]
  },
  {
   "cell_type": "code",
   "execution_count": 4,
   "metadata": {},
   "outputs": [],
   "source": [
    "def HP(X, i):\n",
    "    Y = np.array([KronDel(i, j) for j in range(len(X))])\n",
    "    return SimplePolynomialInterpolation(X, Y)"
   ]
  },
  {
   "cell_type": "code",
   "execution_count": null,
   "metadata": {},
   "outputs": [],
   "source": []
  }
 ],
 "metadata": {
  "kernelspec": {
   "display_name": "Python 3",
   "language": "python",
   "name": "python3"
  },
  "language_info": {
   "codemirror_mode": {
    "name": "ipython",
    "version": 3
   },
   "file_extension": ".py",
   "mimetype": "text/x-python",
   "name": "python",
   "nbconvert_exporter": "python",
   "pygments_lexer": "ipython3",
   "version": "3.7.3"
  }
 },
 "nbformat": 4,
 "nbformat_minor": 2
}
