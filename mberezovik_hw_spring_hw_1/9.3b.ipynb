{
 "cells": [
  {
   "cell_type": "code",
   "execution_count": 1,
   "metadata": {},
   "outputs": [],
   "source": [
    "import numpy as np\n",
    "import math\n",
    "from matplotlib import pyplot as plt\n",
    "from numpy import linalg as LA"
   ]
  },
  {
   "cell_type": "code",
   "execution_count": 2,
   "metadata": {},
   "outputs": [],
   "source": [
    "def f(x,y):\n",
    "    return x*math.sqrt(y)"
   ]
  },
  {
   "cell_type": "code",
   "execution_count": 20,
   "metadata": {},
   "outputs": [],
   "source": [
    "N = 1001\n",
    "h = 1/(N-1)\n",
    "x = np.arange(0,1+h,h)\n",
    "y = np.zeros((2,N))"
   ]
  },
  {
   "cell_type": "code",
   "execution_count": 21,
   "metadata": {},
   "outputs": [],
   "source": [
    "alpha_min = 0\n",
    "alpha_max = 2"
   ]
  },
  {
   "cell_type": "code",
   "execution_count": 33,
   "metadata": {},
   "outputs": [],
   "source": [
    "def solve(x,y,h,N):\n",
    "    for i in range(1,N):\n",
    "        y[0][i] = y[0][i-1] + h*y[1][i-1]\n",
    "        y[1][i] = y[1][i-1] + h*x[i-1]*math.sqrt(y[0][i-1])\n",
    "    return y"
   ]
  },
  {
   "cell_type": "code",
   "execution_count": 53,
   "metadata": {},
   "outputs": [],
   "source": [
    "y[0][0] = 0\n",
    "y[1][0] = 2\n",
    "y = solve(x,y,h,N)"
   ]
  },
  {
   "cell_type": "code",
   "execution_count": 50,
   "metadata": {},
   "outputs": [
    {
     "data": {
      "text/plain": [
       "[<matplotlib.lines.Line2D at 0x7f648ac9f090>]"
      ]
     },
     "execution_count": 50,
     "metadata": {},
     "output_type": "execute_result"
    },
    {
     "data": {
      "image/png": "[encoded data removed]",
      "text/plain": [
       "<Figure size 432x288 with 1 Axes>"
      ]
     },
     "metadata": {
      "needs_background": "light"
     },
     "output_type": "display_data"
    }
   ],
   "source": [
    "plt.plot(x,y[0])"
   ]
  },
  {
   "cell_type": "code",
   "execution_count": 51,
   "metadata": {},
   "outputs": [],
   "source": [
    "#Метод трапеций\n",
    "def trapez(x,y,h,N): \n",
    "    trapz = 0 \n",
    "    for i in range(N-1):\n",
    "        trapz += (y[0][i+1] + y[0][i])/2\n",
    "    trapz *= h\n",
    "    return trapz"
   ]
  },
  {
   "cell_type": "code",
   "execution_count": 57,
   "metadata": {},
   "outputs": [],
   "source": [
    "delta = trapez(x,y,h,N)-1"
   ]
  },
  {
   "cell_type": "code",
   "execution_count": 54,
   "metadata": {},
   "outputs": [],
   "source": [
    "def strelok(alpha_max,alpha_min,x,y,h,N,eps,delta):\n",
    "    alpha = (alpha_max + alpha_min)/2\n",
    "    while(abs(delta)>eps):\n",
    "        y[0][0] = 0\n",
    "        y[1][0] = alpha\n",
    "        y = solve(x,y,h,N)\n",
    "        integral = trapez(x,y,h,N)\n",
    "        delta = integral - 1\n",
    "        if delta>0:\n",
    "            alpha_max = alpha\n",
    "        else:\n",
    "            alpha_min = alpha\n",
    "        alpha = (alpha_max + alpha_min)/2\n",
    "    return alpha"
   ]
  },
  {
   "cell_type": "code",
   "execution_count": 63,
   "metadata": {},
   "outputs": [],
   "source": [
    "eps = 0.000000001\n",
    "alpha_0 = strelok(alpha_max,alpha_min,x,y,h,N,eps,delta)"
   ]
  },
  {
   "cell_type": "code",
   "execution_count": 66,
   "metadata": {},
   "outputs": [
    {
     "data": {
      "text/plain": [
       "1.9292306546121836"
      ]
     },
     "execution_count": 66,
     "metadata": {},
     "output_type": "execute_result"
    }
   ],
   "source": [
    "alpha_0"
   ]
  },
  {
   "cell_type": "code",
   "execution_count": 62,
   "metadata": {},
   "outputs": [
    {
     "data": {
      "text/plain": [
       "1.0000072998715646"
      ]
     },
     "execution_count": 62,
     "metadata": {},
     "output_type": "execute_result"
    }
   ],
   "source": [
    "y[0][0] = 0\n",
    "y[1][0] = alpha_0\n",
    "y = solve(x,y,h,N)\n",
    "integral = trapez(x,y,h,N)       \n",
    "integral"
   ]
  },
  {
   "cell_type": "code",
   "execution_count": 65,
   "metadata": {},
   "outputs": [
    {
     "data": {
      "text/plain": [
       "[<matplotlib.lines.Line2D at 0x7f648989f790>]"
      ]
     },
     "execution_count": 65,
     "metadata": {},
     "output_type": "execute_result"
    },
    {
     "data": {
      "image/png": "[encoded data removed]",
      "text/plain": [
       "<Figure size 432x288 with 1 Axes>"
      ]
     },
     "metadata": {
      "needs_background": "light"
     },
     "output_type": "display_data"
    }
   ],
   "source": [
    "plt.plot(x,y[0])"
   ]
  },
  {
   "cell_type": "code",
   "execution_count": null,
   "metadata": {},
   "outputs": [],
   "source": []
  }
 ],
 "metadata": {
  "kernelspec": {
   "display_name": "Python 3",
   "language": "python",
   "name": "python3"
  },
  "language_info": {
   "codemirror_mode": {
    "name": "ipython",
    "version": 3
   },
   "file_extension": ".py",
   "mimetype": "text/x-python",
   "name": "python",
   "nbconvert_exporter": "python",
   "pygments_lexer": "ipython3",
   "version": "3.7.4"
  }
 },
 "nbformat": 4,
 "nbformat_minor": 2
}
