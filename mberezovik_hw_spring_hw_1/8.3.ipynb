{
 "cells": [
  {
   "cell_type": "code",
   "execution_count": 1,
   "metadata": {},
   "outputs": [],
   "source": [
    "import numpy as np\n",
    "import math\n",
    "from matplotlib import pyplot as plt"
   ]
  },
  {
   "cell_type": "markdown",
   "metadata": {},
   "source": [
    "$$\n",
    "A = \n",
    "\\begin{pmatrix}\n",
    "998 & 1998 \\\\\n",
    "-999 & -1999 \\\\\n",
    "\\end{pmatrix}\\\\\n",
    "u(0) = v(0) = 1\n",
    "$$"
   ]
  },
  {
   "cell_type": "markdown",
   "metadata": {},
   "source": [
    "Явный метод Эйлера:\n",
    "$$y_{n+1} - y_{n} = h(Ay_{n})$$\n",
    "Неявный метод Эйлера:\n",
    "$$y_{n+1} - y_{n} = h(Ay_{n+1})$$"
   ]
  },
  {
   "cell_type": "code",
   "execution_count": 47,
   "metadata": {},
   "outputs": [],
   "source": [
    "h = 0.06\n",
    "x = np.arange(0,10,h)"
   ]
  },
  {
   "cell_type": "code",
   "execution_count": 48,
   "metadata": {},
   "outputs": [],
   "source": [
    "A = np.array([[998,1998],[-999,-1999]])"
   ]
  },
  {
   "cell_type": "code",
   "execution_count": 49,
   "metadata": {},
   "outputs": [],
   "source": [
    "#Явный метод Эйлера\n",
    "u_1 = np.zeros(x.size)\n",
    "v_1 = np.zeros(x.size)\n",
    "B = h*A + np.eye(2)\n",
    "u_1[0] = 1\n",
    "v_1[0] = 1\n",
    "for i in range(1, x.size):\n",
    "    u_1[i] = B[0][0]*u_1[i-1] + B[0][1]*v_1[i-1]\n",
    "    v_1[i] = B[1][0]*u_1[i-1] + B[1][1]*v_1[i-1]"
   ]
  },
  {
   "cell_type": "code",
   "execution_count": 62,
   "metadata": {},
   "outputs": [
    {
     "data": {
      "text/plain": [
       "[<matplotlib.lines.Line2D at 0x7f61db3de690>]"
      ]
     },
     "execution_count": 62,
     "metadata": {},
     "output_type": "execute_result"
    },
    {
     "data": {
      "image/png": "[encoded data removed]",
      "text/plain": [
       "<Figure size 432x288 with 1 Axes>"
      ]
     },
     "metadata": {
      "needs_background": "light"
     },
     "output_type": "display_data"
    }
   ],
   "source": [
    "plt.plot(x,v_1)"
   ]
  },
  {
   "cell_type": "code",
   "execution_count": 51,
   "metadata": {},
   "outputs": [],
   "source": [
    "#Неявный метод Эйлера:\n",
    "u_2 = np.zeros(x.size)\n",
    "v_2 = np.zeros(x.size)\n",
    "C = np.linalg.inv(np.eye(2) - h*A)\n",
    "u_2[0] = 1\n",
    "v_2[0] = 1\n",
    "for i in range(1, x.size):\n",
    "    u_2[i] = C[0][0]*u_2[i-1] + C[0][1]*v_2[i-1]\n",
    "    v_2[i] = C[1][0]*u_2[i-1] + C[1][1]*v_2[i-1]"
   ]
  },
  {
   "cell_type": "code",
   "execution_count": 61,
   "metadata": {},
   "outputs": [
    {
     "data": {
      "text/plain": [
       "[<matplotlib.lines.Line2D at 0x7f61db3f6f50>]"
      ]
     },
     "execution_count": 61,
     "metadata": {},
     "output_type": "execute_result"
    },
    {
     "data": {
      "image/png": "[encoded data removed]",
      "text/plain": [
       "<Figure size 432x288 with 1 Axes>"
      ]
     },
     "metadata": {
      "needs_background": "light"
     },
     "output_type": "display_data"
    }
   ],
   "source": [
    "plt.plot(x,v_2)"
   ]
  },
  {
   "cell_type": "markdown",
   "metadata": {},
   "source": [
    "Общее решение:\n",
    "$$\n",
    "\\begin{pmatrix}\n",
    "u(t)\\\\\n",
    "v(t)\\\\\n",
    "\\end{pmatrix}\n",
    " = C_1\n",
    "\\begin{pmatrix} \n",
    "-1\\\\\n",
    "1\\\\\n",
    "\\end{pmatrix}\n",
    "e^{-1000t} +\n",
    "C_2\n",
    "\\begin{pmatrix} \n",
    "-2\\\\\n",
    "1\\\\\n",
    "\\end{pmatrix}\n",
    "e^{-t}\n",
    "$$"
   ]
  },
  {
   "cell_type": "markdown",
   "metadata": {},
   "source": [
    "В нашем случае:\n",
    "$$\n",
    "\\begin{pmatrix}\n",
    "u(t)\\\\\n",
    "v(t)\\\\\n",
    "\\end{pmatrix}\n",
    " = 3\n",
    "\\begin{pmatrix} \n",
    "-1\\\\\n",
    "1\\\\\n",
    "\\end{pmatrix}\n",
    "e^{-1000t} -\n",
    "2\n",
    "\\begin{pmatrix} \n",
    "-2\\\\\n",
    "1\\\\\n",
    "\\end{pmatrix}\n",
    "e^{-t}\n",
    "$$"
   ]
  },
  {
   "cell_type": "code",
   "execution_count": 59,
   "metadata": {},
   "outputs": [],
   "source": [
    "u_3 = np.array([(-3)*math.e**(-1000 * a) + 4*math.e**(-a) for a in x])\n",
    "v_3 = np.array([(3)*math.e**(-1000 * a) - 2*math.e**(-a) for a in x])"
   ]
  },
  {
   "cell_type": "code",
   "execution_count": 60,
   "metadata": {},
   "outputs": [
    {
     "data": {
      "text/plain": [
       "[<matplotlib.lines.Line2D at 0x7f61db540550>]"
      ]
     },
     "execution_count": 60,
     "metadata": {},
     "output_type": "execute_result"
    },
    {
     "data": {
      "image/png": "[encoded data removed]",
      "text/plain": [
       "<Figure size 432x288 with 1 Axes>"
      ]
     },
     "metadata": {
      "needs_background": "light"
     },
     "output_type": "display_data"
    }
   ],
   "source": [
    "plt.plot(x,v_3)"
   ]
  },
  {
   "cell_type": "code",
   "execution_count": null,
   "metadata": {},
   "outputs": [],
   "source": []
  }
 ],
 "metadata": {
  "kernelspec": {
   "display_name": "Python 3",
   "language": "python",
   "name": "python3"
  },
  "language_info": {
   "codemirror_mode": {
    "name": "ipython",
    "version": 3
   },
   "file_extension": ".py",
   "mimetype": "text/x-python",
   "name": "python",
   "nbconvert_exporter": "python",
   "pygments_lexer": "ipython3",
   "version": "3.7.4"
  }
 },
 "nbformat": 4,
 "nbformat_minor": 2
}
