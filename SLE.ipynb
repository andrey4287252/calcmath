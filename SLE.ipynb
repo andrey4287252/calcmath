{
 "cells": [
  {
   "cell_type": "code",
   "execution_count": 3,
   "metadata": {},
   "outputs": [],
   "source": [
    "import numpy as np"
   ]
  },
  {
   "cell_type": "code",
   "execution_count": 2,
   "metadata": {},
   "outputs": [],
   "source": [
    "import pandas as pd\n",
    "import functools\n",
    "import math\n",
    "import fractions\n"
   ]
  },
  {
   "cell_type": "code",
   "execution_count": 10,
   "metadata": {},
   "outputs": [],
   "source": [
    "#Поиск максимального модуля в массиве\n",
    "def AbsMax(A):\n",
    "    return np.max(np.array([np.max(A), -np.min(A)]))"
   ]
  },
  {
   "cell_type": "code",
   "execution_count": null,
   "metadata": {},
   "outputs": [],
   "source": [
    "#Спектральный радиус матрицы\n",
    "def SpecRad (A):\n",
    "        return AbsMax(np.linalg.eig(A)[0])"
   ]
  },
  {
   "cell_type": "code",
   "execution_count": 8,
   "metadata": {},
   "outputs": [],
   "source": [
    "#Замена вектора на вектор из целых\n",
    "def integer_collinear_vector(numbers, max_denominator=1000000):\n",
    "    t = np.array([])\n",
    "    for i in range(len(numbers)):\n",
    "        if numbers[i] != 0:\n",
    "            a = np.array([numbers[i]])\n",
    "            t = np.concatenate((t, a))\n",
    "    norma = np.min(t)\n",
    "    numbers = [num / norma for num in numbers]\n",
    "    fracts = [fractions.Fraction(f).limit_denominator(max_denominator) for f in numbers]\n",
    "    denoms = [f.denominator for f in fracts]\n",
    "    denoms_gcd = functools.reduce(math.gcd, denoms)\n",
    "    denoms_lcm = functools.reduce(lambda a, b: a*b, [d // denoms_gcd for d in denoms]) * denoms_gcd\n",
    "    result_integers = [f.numerator * (denoms_lcm // f.denominator) for f in fracts]\n",
    "    return result_integers"
   ]
  },
  {
   "cell_type": "markdown",
   "metadata": {},
   "source": [
    "Метод Якоби"
   ]
  },
  {
   "cell_type": "code",
   "execution_count": 12,
   "metadata": {},
   "outputs": [],
   "source": [
    "def yakob(A,X,F,N):\n",
    "    Y = np.zeros(N)\n",
    "    for i in range(N):\n",
    "        for j in range(N):\n",
    "            if j == i:\n",
    "                continue\n",
    "            Y[i] += -(X[j]*(A[i][j]))\n",
    "        Y[i] += F[i]\n",
    "        Y[i] = Y[i]/(A[i][i])\n",
    "    X = Y\n",
    "    return X"
   ]
  },
  {
   "cell_type": "code",
   "execution_count": 23,
   "metadata": {},
   "outputs": [
    {
     "name": "stdout",
     "output_type": "stream",
     "text": [
      "[-0.33333333 -1.33333333  1.66666667]\n",
      "[ 0.11111111 -0.22222222  1.14814815]\n",
      "[-0.25925926 -1.27160494  1.58024691]\n",
      "[ 0.09053498 -0.39711934  1.17215364]\n",
      "[-0.20096022 -1.22302241  1.51223137]\n",
      "[ 0.0743408  -0.53476985  1.19104684]\n",
      "[-0.15507672 -1.18478615  1.45870061]\n",
      "[ 0.06159538 -0.6431059   1.2059165 ]\n",
      "[-0.1189647  -1.1546928   1.41656993]\n",
      "[ 0.05156427 -0.72837039  1.21761946]\n"
     ]
    }
   ],
   "source": [
    "#Размер матриц NxN\n",
    "N = 3\n",
    "A = np.array([[18.0,6.0,0.0],[6.0,6.0,-7.0],[0.0,-7.0,18.0]])\n",
    "F = np.array([-6.0,-15.0,30.0])\n",
    "X = np.array([0.0,0.0,1.0])\n",
    "for i in range(10):\n",
    "    X = yakob(A,X,F,N)\n",
    "    print(X)"
   ]
  },
  {
   "cell_type": "markdown",
   "metadata": {},
   "source": [
    "Метод Зейделя"
   ]
  },
  {
   "cell_type": "code",
   "execution_count": 20,
   "metadata": {},
   "outputs": [],
   "source": [
    "def zeid(A,X,F,N):\n",
    "    for i in range(N):\n",
    "        X[i] = 0\n",
    "        for j in range(N):\n",
    "            if j == i:\n",
    "                continue\n",
    "            X[i] += -(X[j]*(A[i][j]))\n",
    "        X[i] += F[i]\n",
    "        X[i] = X[i]/(A[i][i])\n",
    "    return X"
   ]
  },
  {
   "cell_type": "code",
   "execution_count": 21,
   "metadata": {},
   "outputs": [
    {
     "name": "stdout",
     "output_type": "stream",
     "text": [
      "[-0.33333333 -1.          1.27777778]\n",
      "[ 0.         -1.00925926  1.27417695]\n",
      "[ 0.00308642 -1.01654664  1.27134297]\n",
      "[ 0.00551555 -1.02228208  1.26911253]\n",
      "[ 0.00742736 -1.02679608  1.26735708]\n",
      "[ 0.00893203 -1.03034877  1.26597548]\n",
      "[ 0.01011626 -1.03314486  1.26488811]\n",
      "[ 0.01104829 -1.03534549  1.26403231]\n",
      "[ 0.01178183 -1.03707747  1.26335876]\n",
      "[ 0.01235916 -1.0384406   1.26282865]\n"
     ]
    }
   ],
   "source": [
    "#Размер матриц NxN\n",
    "N = 3\n",
    "A = np.array([[18,6,0],[6,6,-7],[0,-7,18]])\n",
    "F = np.array([-6,-15,30])\n",
    "X = np.array([0.0,0.0,1.0])\n",
    "for i in range(10):\n",
    "    X = zeid(A,X,F,N)\n",
    "    print(X)"
   ]
  },
  {
   "cell_type": "markdown",
   "metadata": {},
   "source": [
    "Метод верхрней релаксации\n",
    "<br>\n",
    "$1<w<2$\n",
    "<br>\n",
    "$U_i^{s+1} =  U_i^s (1-w)  - \\frac{w}{a_{ii}} (\\sum_{j=1}^{i-1}a_{ij} u_j^{s+1} +\\sum_{j=i+1}^{n}a_{ij} u_j^{s} - f_i)$"
   ]
  },
  {
   "cell_type": "code",
   "execution_count": 15,
   "metadata": {},
   "outputs": [],
   "source": [
    "#Оптимальное значение для метода релаксации (если выполнен критерий)\n",
    "def OptRel(A):\n",
    "    D = np.diag(A)\n",
    "    Q = np.identity(len(A))\n",
    "    G = np.identity(len(A))\n",
    "    for i in range(len(A)):\n",
    "        Q[i][i] = 1/D[i]\n",
    "        G[i][i] = D[i]\n",
    "    R = -Q@(A - G)\n",
    "    return (2/(1 + (1 - (SpecRad(R))**2)**0.5))\n",
    "#Метод релаксации\n",
    "def relax(A,X,F,N,w):\n",
    "    for i in range(N):\n",
    "        X[i] = X[i]*(1-w)*A[i][i]/w\n",
    "        for j in range(N):\n",
    "            if j == i:\n",
    "                continue\n",
    "            X[i] += -(X[j]*(A[i][j]))\n",
    "        X[i] += F[i]\n",
    "        X[i] = X[i]*w/(A[i][i])\n",
    "    return X"
   ]
  },
  {
   "cell_type": "code",
   "execution_count": 27,
   "metadata": {},
   "outputs": [
    {
     "name": "stdout",
     "output_type": "stream",
     "text": [
      "[ 0.55   -0.8525]\n",
      "[ 0.963875   -0.99488125]\n",
      "[ 1.00079719 -1.00095033]\n",
      "[ 1.00044296 -1.0001486 ]\n",
      "[ 1.00003743 -1.00000573]\n",
      "[ 0.99999941 -0.9999991 ]\n",
      "[ 0.99999956 -0.99999985]\n",
      "[ 0.99999996 -0.99999999]\n",
      "[ 1. -1.]\n",
      "[ 1. -1.]\n",
      "[ 1. -1.]\n",
      "[ 1. -1.]\n",
      "[ 1. -1.]\n",
      "[ 1. -1.]\n",
      "[ 1. -1.]\n",
      "[ 1. -1.]\n",
      "[ 1. -1.]\n",
      "[ 1. -1.]\n",
      "[ 1. -1.]\n",
      "[ 1. -1.]\n"
     ]
    }
   ],
   "source": [
    "#Размер матриц NxN\n",
    "N = 2\n",
    "A = np.array([[2,1],[1,2]])\n",
    "F = np.array([1,-1])\n",
    "X = np.zeros(N)\n",
    "w = 1.1\n",
    "for i in range(20):\n",
    "    X = relax(A,X,F,N,w)\n",
    "    print(X)"
   ]
  },
  {
   "cell_type": "markdown",
   "metadata": {},
   "source": [
    "Метод простых итераций:"
   ]
  },
  {
   "cell_type": "markdown",
   "metadata": {},
   "source": [
    "$u + \\tau A u = \\tau f + u$\n",
    "<br>\n",
    "$u^{s+1} = u^s  + \\tau(f - A u^s)$\n",
    "<br>\n",
    "$r^s := f - A u^s$\n",
    "<br>\n",
    "$u^{s+1} = u^s  + \\tau r^s$\n",
    "<br>\n",
    "$\\delta^s = u^s - u^{*}$"
   ]
  },
  {
   "cell_type": "code",
   "execution_count": 30,
   "metadata": {},
   "outputs": [],
   "source": [
    "def k(u,t,A,f):\n",
    "    u = u+(f-A@u)*t\n",
    "    return  u"
   ]
  },
  {
   "cell_type": "markdown",
   "metadata": {},
   "source": [
    "Вычисление максимального по модулю собственного числа"
   ]
  },
  {
   "cell_type": "markdown",
   "metadata": {},
   "source": [
    "$\\lambda^{s+1} = \\frac{(u^s,Au^s)}{(u^s,u^s)}$\n",
    "<br>\n",
    "$O(\\frac{|\\lambda_{beforemax}|}{|\\lambda_{max}|})$"
   ]
  },
  {
   "cell_type": "code",
   "execution_count": 17,
   "metadata": {},
   "outputs": [],
   "source": [
    "def scal(x,y):\n",
    "    m = x@(y.transpose())\n",
    "    return m"
   ]
  },
  {
   "cell_type": "code",
   "execution_count": 21,
   "metadata": {},
   "outputs": [
    {
     "name": "stdout",
     "output_type": "stream",
     "text": [
      "Шаг №: 1\n",
      "Вектор: [1 0]\n",
      "(u,Au): 5.0\n",
      "(u,u): 1\n",
      "lambda 5.0\n",
      "Шаг №: 2\n",
      "Вектор: [ 5. -2.]\n",
      "(u,Au): 173.0\n",
      "(u,u): 29.0\n",
      "lambda 5.9655172413793105\n",
      "Шаг №: 3\n",
      "Вектор: [ 29. -14.]\n",
      "(u,Au): 6221.0\n",
      "(u,u): 1037.0\n",
      "lambda 5.999035679845709\n",
      "Шаг №: 4\n",
      "Вектор: [173. -86.]\n",
      "(u,Au): 223949.0\n",
      "(u,u): 37325.0\n",
      "lambda 5.999973208305425\n",
      "Шаг №: 5\n",
      "Вектор: [1037. -518.]\n",
      "(u,Au): 8062157.0\n",
      "(u,u): 1343693.0\n",
      "lambda 5.9999992557823845\n"
     ]
    }
   ],
   "source": [
    "u = np.array([1, 0])\n",
    "t = 0.5\n",
    "A = np.array([[5.0,-2.0],[-2,2]])\n",
    "f = np.array([4, 5,6])\n",
    "for j in range(5):\n",
    "    print(\"Шаг №:\", j+1)\n",
    "    print(\"Вектор:\",u)\n",
    "    print(\"(u,Au):\",scal(u,A@u))\n",
    "    print(\"(u,u):\",scal(u,u))\n",
    "    print(\"lambda\",scal(u,A@u)/scal(u,u))\n",
    "    u = A@u"
   ]
  },
  {
   "cell_type": "markdown",
   "metadata": {},
   "source": [
    "$tg (2\\alpha) = \\frac{2a_{ij}}{a_{ii} - a{jj}}$"
   ]
  },
  {
   "cell_type": "markdown",
   "metadata": {},
   "source": [
    "Вычисление решения при матрице $A_{(m,n)}$, $rk(A) = n$:\n",
    "<br>\n",
    "$Au = f$\n",
    "<br>\n",
    "$A^{T} A x = A^{T} f$\n",
    "<br>\n",
    "$(A^{T}A)_{(n,n)}$\n",
    "<br>\n",
    "Тоесть это уже система с квадратной матрицей, которую мы решать умеем"
   ]
  },
  {
   "cell_type": "markdown",
   "metadata": {},
   "source": [
    "Невязка:\n",
    "<br>\n",
    "$F(u) = \\sum_i(\\sum_j a_{ij}u_j - f_i)^2$"
   ]
  },
  {
   "cell_type": "code",
   "execution_count": 30,
   "metadata": {},
   "outputs": [],
   "source": [
    "def nevya(u,A,f,n):\n",
    "    s = 0\n",
    "    for i in range(n):\n",
    "        k = 0\n",
    "        for j in range(n):\n",
    "            k += (A[i][j] * u[j] - f[i])\n",
    "        s += k ** 2\n",
    "    return s"
   ]
  },
  {
   "cell_type": "code",
   "execution_count": 31,
   "metadata": {},
   "outputs": [
    {
     "name": "stdout",
     "output_type": "stream",
     "text": [
      "Вектор: [1.03741935 1.96774194]\n",
      "Невязка: 9.054851196670137\n"
     ]
    }
   ],
   "source": [
    "n = 2\n",
    "A = np.array([[1,1],[2,-1],[1,3],[3,1]])\n",
    "f = np.array([3,0.2,7.0,5.0])\n",
    "u = np.linalg.inv((A.transpose()@A))@A.transpose()@f\n",
    "print(\"Вектор:\",u)\n",
    "print(\"Невязка:\",nevya(u,A,f,n))"
   ]
  },
  {
   "cell_type": "code",
   "execution_count": null,
   "metadata": {},
   "outputs": [],
   "source": []
  }
 ],
 "metadata": {
  "kernelspec": {
   "display_name": "Python 3",
   "language": "python",
   "name": "python3"
  },
  "language_info": {
   "codemirror_mode": {
    "name": "ipython",
    "version": 3
   },
   "file_extension": ".py",
   "mimetype": "text/x-python",
   "name": "python",
   "nbconvert_exporter": "python",
   "pygments_lexer": "ipython3",
   "version": "3.7.3"
  }
 },
 "nbformat": 4,
 "nbformat_minor": 4
}
