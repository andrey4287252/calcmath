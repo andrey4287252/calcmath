{
 "cells": [
  {
   "cell_type": "code",
   "execution_count": 3,
   "metadata": {},
   "outputs": [],
   "source": [
    "import numpy as np"
   ]
  },
  {
   "cell_type": "code",
   "execution_count": 2,
   "metadata": {},
   "outputs": [],
   "source": [
    "import pandas as pd\n",
    "import functools\n",
    "import math\n",
    "import fractions\n"
   ]
  },
  {
   "cell_type": "code",
   "execution_count": 8,
   "metadata": {},
   "outputs": [],
   "source": [
    "#Замена вектора на вектор из целых\n",
    "def integer_collinear_vector(numbers, max_denominator=1000000):\n",
    "    t = np.array([])\n",
    "    for i in range(len(numbers)):\n",
    "        if numbers[i] != 0:\n",
    "            a = np.array([numbers[i]])\n",
    "            t = np.concatenate((t, a))\n",
    "    norma = np.min(t)\n",
    "    numbers = [num / norma for num in numbers]\n",
    "    fracts = [fractions.Fraction(f).limit_denominator(max_denominator) for f in numbers]\n",
    "    denoms = [f.denominator for f in fracts]\n",
    "    denoms_gcd = functools.reduce(math.gcd, denoms)\n",
    "    denoms_lcm = functools.reduce(lambda a, b: a*b, [d // denoms_gcd for d in denoms]) * denoms_gcd\n",
    "    result_integers = [f.numerator * (denoms_lcm // f.denominator) for f in fracts]\n",
    "    return result_integers"
   ]
  },
  {
   "cell_type": "markdown",
   "metadata": {},
   "source": [
    "Метод Якоби"
   ]
  },
  {
   "cell_type": "code",
   "execution_count": 12,
   "metadata": {},
   "outputs": [],
   "source": [
    "def yakob(A,X,F,N):\n",
    "    Y = np.zeros(N)\n",
    "    for i in range(N):\n",
    "        for j in range(N):\n",
    "            if j == i:\n",
    "                continue\n",
    "            Y[i] += -(X[j]*(A[i][j]))\n",
    "        Y[i] += F[i]\n",
    "        Y[i] = Y[i]/(A[i][i])\n",
    "    X = Y\n",
    "    return X"
   ]
  },
  {
   "cell_type": "code",
   "execution_count": 13,
   "metadata": {},
   "outputs": [
    {
     "name": "stdout",
     "output_type": "stream",
     "text": [
      "[ 0.5 -0.5]\n",
      "[ 0.75 -0.75]\n",
      "[ 0.875 -0.875]\n",
      "[ 0.9375 -0.9375]\n",
      "[ 0.96875 -0.96875]\n",
      "[ 0.984375 -0.984375]\n",
      "[ 0.9921875 -0.9921875]\n",
      "[ 0.99609375 -0.99609375]\n",
      "[ 0.99804688 -0.99804688]\n",
      "[ 0.99902344 -0.99902344]\n"
     ]
    }
   ],
   "source": [
    "#Размер матриц NxN\n",
    "N = 2\n",
    "A = np.array([[2,1],[1,2]])\n",
    "F = np.array([1,-1])\n",
    "X = np.zeros(N)\n",
    "for i in range(10):\n",
    "    X = yakob(A,X,F,N)\n",
    "    print(X)"
   ]
  },
  {
   "cell_type": "markdown",
   "metadata": {},
   "source": [
    "Метод Зейделя"
   ]
  },
  {
   "cell_type": "code",
   "execution_count": 8,
   "metadata": {},
   "outputs": [],
   "source": [
    "def zeid(A,X,F,N):\n",
    "    for i in range(N):\n",
    "        X[i] = 0\n",
    "        for j in range(N):\n",
    "            if j == i:\n",
    "                continue\n",
    "            X[i] += -(X[j]*(A[i][j]))\n",
    "        X[i] += F[i]\n",
    "        X[i] = X[i]/(A[i][i])\n",
    "    return X"
   ]
  },
  {
   "cell_type": "code",
   "execution_count": 10,
   "metadata": {},
   "outputs": [
    {
     "name": "stdout",
     "output_type": "stream",
     "text": [
      "[ 0.5  -0.75]\n",
      "[ 0.875  -0.9375]\n",
      "[ 0.96875  -0.984375]\n",
      "[ 0.9921875  -0.99609375]\n",
      "[ 0.99804688 -0.99902344]\n",
      "[ 0.99951172 -0.99975586]\n",
      "[ 0.99987793 -0.99993896]\n",
      "[ 0.99996948 -0.99998474]\n",
      "[ 0.99999237 -0.99999619]\n",
      "[ 0.99999809 -0.99999905]\n"
     ]
    }
   ],
   "source": [
    "#Размер матриц NxN\n",
    "N = 2\n",
    "A = np.array([[2,1],[1,2]])\n",
    "F = np.array([1,-1])\n",
    "X = np.zeros(N)\n",
    "for i in range(10):\n",
    "    X = zeid(A,X,F,N)\n",
    "    print(X)"
   ]
  },
  {
   "cell_type": "markdown",
   "metadata": {},
   "source": [
    "Метод верхрней релаксации\n",
    "<br>\n",
    "$1<w<2$\n",
    "<br>\n",
    "$U_i^{s+1} =  U_i^s (1-w)  - \\frac{w}{a_{ii}} (\\sum_{j=1}^{i-1}a_{ij} u_j^{s+1} +\\sum_{j=i+1}^{n}a_{ij} u_j^{s} - f_i)$"
   ]
  },
  {
   "cell_type": "code",
   "execution_count": 14,
   "metadata": {},
   "outputs": [],
   "source": [
    "def relax(A,X,F,N,w):\n",
    "    for i in range(N):\n",
    "        X[i] = X[i]*(1-w)*A[i][i]/w\n",
    "        for j in range(N):\n",
    "            if j == i:\n",
    "                continue\n",
    "            X[i] += -(X[j]*(A[i][j]))\n",
    "        X[i] += F[i]\n",
    "        X[i] = X[i]*w/(A[i][i])\n",
    "    return X"
   ]
  },
  {
   "cell_type": "code",
   "execution_count": 15,
   "metadata": {},
   "outputs": [
    {
     "name": "stdout",
     "output_type": "stream",
     "text": [
      "[ 0.55   -0.8525]\n",
      "[ 0.963875   -0.99488125]\n",
      "[ 1.00079719 -1.00095033]\n",
      "[ 1.00044296 -1.0001486 ]\n",
      "[ 1.00003743 -1.00000573]\n",
      "[ 0.99999941 -0.9999991 ]\n",
      "[ 0.99999956 -0.99999985]\n",
      "[ 0.99999996 -0.99999999]\n",
      "[ 1. -1.]\n",
      "[ 1. -1.]\n",
      "[ 1. -1.]\n",
      "[ 1. -1.]\n",
      "[ 1. -1.]\n",
      "[ 1. -1.]\n",
      "[ 1. -1.]\n",
      "[ 1. -1.]\n",
      "[ 1. -1.]\n",
      "[ 1. -1.]\n",
      "[ 1. -1.]\n",
      "[ 1. -1.]\n"
     ]
    }
   ],
   "source": [
    "#Размер матриц NxN\n",
    "N = 2\n",
    "A = np.array([[2,1],[1,2]])\n",
    "F = np.array([1,-1])\n",
    "X = np.zeros(N)\n",
    "w = 1.1\n",
    "for i in range(20):\n",
    "    X = relax(A,X,F,N,w)\n",
    "    print(X)"
   ]
  },
  {
   "cell_type": "markdown",
   "metadata": {},
   "source": [
    "Метод простых итераций:"
   ]
  },
  {
   "cell_type": "markdown",
   "metadata": {},
   "source": [
    "$u + \\tau A u = \\tau f + u$\n",
    "<br>\n",
    "$u^{s+1} = u^s  + \\tau(f - A u^s)$\n",
    "<br>\n",
    "$r^s := f - A u^s$\n",
    "<br>\n",
    "$u^{s+1} = u^s  + \\tau r^s$\n",
    "<br>\n",
    "$\\delta^s = u^s - u^{*}$"
   ]
  },
  {
   "cell_type": "code",
   "execution_count": 30,
   "metadata": {},
   "outputs": [],
   "source": [
    "def k(u,t,A,f):\n",
    "    u = u+(f-A@u)*t\n",
    "    return  u"
   ]
  },
  {
   "cell_type": "markdown",
   "metadata": {},
   "source": [
    "Вычисление максимального по модулю собственного числа"
   ]
  },
  {
   "cell_type": "markdown",
   "metadata": {},
   "source": [
    "$\\lambda^{s+1} = \\frac{(u^s,Au^s)}{(u^s,u^s)}$\n",
    "<br>\n",
    "$O(\\frac{|\\lambda_{beforemax}|}{|\\lambda_{max}|})$"
   ]
  },
  {
   "cell_type": "code",
   "execution_count": 17,
   "metadata": {},
   "outputs": [],
   "source": [
    "def scal(x,y):\n",
    "    m = x@(y.transpose())\n",
    "    return m"
   ]
  },
  {
   "cell_type": "code",
   "execution_count": 21,
   "metadata": {},
   "outputs": [
    {
     "name": "stdout",
     "output_type": "stream",
     "text": [
      "Шаг №: 1\n",
      "Вектор: [1 0]\n",
      "(u,Au): 5.0\n",
      "(u,u): 1\n",
      "lambda 5.0\n",
      "Шаг №: 2\n",
      "Вектор: [ 5. -2.]\n",
      "(u,Au): 173.0\n",
      "(u,u): 29.0\n",
      "lambda 5.9655172413793105\n",
      "Шаг №: 3\n",
      "Вектор: [ 29. -14.]\n",
      "(u,Au): 6221.0\n",
      "(u,u): 1037.0\n",
      "lambda 5.999035679845709\n",
      "Шаг №: 4\n",
      "Вектор: [173. -86.]\n",
      "(u,Au): 223949.0\n",
      "(u,u): 37325.0\n",
      "lambda 5.999973208305425\n",
      "Шаг №: 5\n",
      "Вектор: [1037. -518.]\n",
      "(u,Au): 8062157.0\n",
      "(u,u): 1343693.0\n",
      "lambda 5.9999992557823845\n"
     ]
    }
   ],
   "source": [
    "u = np.array([1, 0])\n",
    "t = 0.5\n",
    "A = np.array([[5.0,-2.0],[-2,2]])\n",
    "f = np.array([4, 5,6])\n",
    "for j in range(5):\n",
    "    print(\"Шаг №:\", j+1)\n",
    "    print(\"Вектор:\",u)\n",
    "    print(\"(u,Au):\",scal(u,A@u))\n",
    "    print(\"(u,u):\",scal(u,u))\n",
    "    print(\"lambda\",scal(u,A@u)/scal(u,u))\n",
    "    u = A@u"
   ]
  },
  {
   "cell_type": "markdown",
   "metadata": {},
   "source": [
    "$tg (2\\alpha) = \\frac{2a_{ij}}{a_{ii} - a{jj}}$"
   ]
  },
  {
   "cell_type": "markdown",
   "metadata": {},
   "source": [
    "Вычисление решения при матрице $A_{(m,n)}$, $rk(A) = n$:\n",
    "<br>\n",
    "$Au = f$\n",
    "<br>\n",
    "$A^{T} A x = A^{T} f$\n",
    "<br>\n",
    "$(A^{T}A)_{(n,n)}$\n",
    "<br>\n",
    "Тоесть это уже система с квадратной матрицей, которую мы решать умеем"
   ]
  },
  {
   "cell_type": "markdown",
   "metadata": {},
   "source": [
    "Невязка:\n",
    "<br>\n",
    "$F(u) = \\sum_i(\\sum_j a_{ij}u_j - f_i)^2$"
   ]
  },
  {
   "cell_type": "code",
   "execution_count": 22,
   "metadata": {},
   "outputs": [],
   "source": [
    "def nevya(u,A,f,n):\n",
    "    s = 0\n",
    "    for i in range(n):\n",
    "        k = 0\n",
    "        for j in range(n):\n",
    "            k += (A[i][j] * u[j] - f[i])\n",
    "        s += k ** 2\n",
    "    return s"
   ]
  },
  {
   "cell_type": "code",
   "execution_count": 25,
   "metadata": {},
   "outputs": [
    {
     "name": "stdout",
     "output_type": "stream",
     "text": [
      "Вектор: [1.03741935 1.96774194]\n",
      "Невязка: 9.054851196670137\n"
     ]
    }
   ],
   "source": [
    "n = 2\n",
    "A = np.array([[1,1],[2,-1],[1,3],[3,1]])\n",
    "f = np.array([3,0.2,7.0,5.0])\n",
    "u = np.linalg.inv((A.transpose()@A))@A.transpose()@f\n",
    "print(\"Вектор:\",u)\n",
    "print(\"Невязка:\",nevya(u,A,f,n))"
   ]
  },
  {
   "cell_type": "code",
   "execution_count": null,
   "metadata": {},
   "outputs": [],
   "source": []
  }
 ],
 "metadata": {
  "kernelspec": {
   "display_name": "Python 3",
   "language": "python",
   "name": "python3"
  },
  "language_info": {
   "codemirror_mode": {
    "name": "ipython",
    "version": 3
   },
   "file_extension": ".py",
   "mimetype": "text/x-python",
   "name": "python",
   "nbconvert_exporter": "python",
   "pygments_lexer": "ipython3",
   "version": "3.7.3"
  }
 },
 "nbformat": 4,
 "nbformat_minor": 4
}
