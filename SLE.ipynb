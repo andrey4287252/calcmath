{
 "cells": [
  {
   "cell_type": "code",
   "execution_count": 1,
   "metadata": {},
   "outputs": [],
   "source": [
    "import numpy as np\n",
    "import pandas as pd\n",
    "import functools\n",
    "import math\n",
    "import fractions\n",
    "import itertools as it\n",
    "from numpy import linalg as LA"
   ]
  },
  {
   "cell_type": "markdown",
   "metadata": {},
   "source": [
    "$\\textbf{Технические вещи}$"
   ]
  },
  {
   "cell_type": "code",
   "execution_count": 2,
   "metadata": {},
   "outputs": [],
   "source": [
    "#Поиск максимального модуля в массиве\n",
    "def AbsMax(A):\n",
    "    return np.max(np.array([np.max(A), -np.min(A)]))"
   ]
  },
  {
   "cell_type": "code",
   "execution_count": 3,
   "metadata": {},
   "outputs": [],
   "source": [
    "#Спектральный радиус матрицы\n",
    "def SpecRad (A):\n",
    "        return AbsMax(np.linalg.eig(A)[0])"
   ]
  },
  {
   "cell_type": "code",
   "execution_count": 4,
   "metadata": {},
   "outputs": [],
   "source": [
    "#Попытка замены вектора на вектор из целых\n",
    "def integer_collinear_vector(numbers, max_denominator=1000000):\n",
    "    t = np.array([])\n",
    "    for i in range(len(numbers)):\n",
    "        if numbers[i] != 0:\n",
    "            a = np.array([numbers[i]])\n",
    "            t = np.concatenate((t, a))\n",
    "    norma = np.min(t)\n",
    "    numbers = [num / norma for num in numbers]\n",
    "    fracts = [fractions.Fraction(f).limit_denominator(max_denominator) for f in numbers]\n",
    "    denoms = [f.denominator for f in fracts]\n",
    "    denoms_gcd = functools.reduce(math.gcd, denoms)\n",
    "    denoms_lcm = functools.reduce(lambda a, b: a*b, [d // denoms_gcd for d in denoms]) * denoms_gcd\n",
    "    result_integers = [f.numerator * (denoms_lcm // f.denominator) for f in fracts]\n",
    "    return result_integers"
   ]
  },
  {
   "cell_type": "markdown",
   "metadata": {},
   "source": [
    "$\\textbf{Итерационные методы}$"
   ]
  },
  {
   "cell_type": "markdown",
   "metadata": {},
   "source": [
    "$\\textbf{Метод Якоби}$"
   ]
  },
  {
   "cell_type": "code",
   "execution_count": 5,
   "metadata": {},
   "outputs": [],
   "source": [
    "def yakob(A,X,F,N):\n",
    "    Y = np.zeros(N)\n",
    "    for i in range(N):\n",
    "        for j in range(N):\n",
    "            if j == i:\n",
    "                continue\n",
    "            Y[i] += -(X[j]*(A[i][j]))\n",
    "        Y[i] += F[i]\n",
    "        Y[i] = Y[i]/(A[i][i])\n",
    "    X = Y\n",
    "    return X"
   ]
  },
  {
   "cell_type": "code",
   "execution_count": 24,
   "metadata": {
    "collapsed": true
   },
   "outputs": [
    {
     "name": "stdout",
     "output_type": "stream",
     "text": [
      "Iteration: 1\n",
      "X:  [-0.3        -1.33333333  1.66666667]\n",
      "Iteration: 2\n",
      "X:  [ 0.1        -0.25555556  1.14814815]\n",
      "Iteration: 3\n",
      "X:  [-0.22333333 -1.26049383  1.56728395]\n",
      "Iteration: 4\n",
      "X:  [ 0.07814815 -0.44816872  1.17647462]\n",
      "Iteration: 5\n",
      "X:  [-0.16554938 -1.20559442  1.49237883]\n",
      "Iteration: 6\n",
      "X:  [ 0.06167833 -0.59334198  1.19782439]\n",
      "Iteration: 7\n",
      "X:  [-0.12199741 -1.16421654  1.43592256]\n",
      "Iteration: 8\n",
      "X:  [ 0.04926496 -0.70275961  1.21391579]\n",
      "Iteration: 9\n",
      "X:  [-0.08917212 -1.13302987  1.39337126]\n",
      "Iteration: 10\n",
      "X:  [ 0.03990896 -0.78522807  1.22604394]\n"
     ]
    }
   ],
   "source": [
    "#Пример\n",
    "#Размер матриц NxN\n",
    "N = 3\n",
    "A = np.array([[20.0,6.0,0.0],[6.0,6.0,-7.0],[0.0,-7.0,18.0]])\n",
    "F = np.array([-6.0,-15.0,30.0])\n",
    "X = np.array([0.0,0.0,1.0])\n",
    "for i in range(10):\n",
    "    X = yakob(A,X,F,N)\n",
    "    print(\"Iteration:\", i + 1)\n",
    "    print(\"X: \", X)"
   ]
  },
  {
   "cell_type": "markdown",
   "metadata": {},
   "source": [
    "$\\textbf{Метод Зейделя}$"
   ]
  },
  {
   "cell_type": "code",
   "execution_count": 7,
   "metadata": {},
   "outputs": [],
   "source": [
    "def zeid(A,X,F,N):\n",
    "    for i in range(N):\n",
    "        X[i] = 0\n",
    "        for j in range(N):\n",
    "            if j == i:\n",
    "                continue\n",
    "            X[i] += -(X[j]*(A[i][j]))\n",
    "        X[i] += F[i]\n",
    "        X[i] = X[i]/(A[i][i])\n",
    "    return X"
   ]
  },
  {
   "cell_type": "code",
   "execution_count": 26,
   "metadata": {
    "collapsed": true
   },
   "outputs": [
    {
     "name": "stdout",
     "output_type": "stream",
     "text": [
      "Iteration: 1\n",
      "X:  [-0.33333333  1.66666667 -0.22222222]\n",
      "Iteration: 2\n",
      "X:  [-0.25925926  1.58024691 -0.39711934]\n",
      "Iteration: 3\n",
      "X:  [-0.20096022  1.51223137 -0.53476985]\n",
      "Iteration: 4\n",
      "X:  [-0.15507672  1.45870061 -0.6431059 ]\n",
      "Iteration: 5\n",
      "X:  [-0.1189647   1.41656993 -0.72837039]\n",
      "Iteration: 6\n",
      "X:  [-0.0905432   1.38341152 -0.79547669]\n",
      "Iteration: 7\n",
      "X:  [-0.06817444  1.35731462 -0.84829184]\n",
      "Iteration: 8\n",
      "X:  [-0.05056939  1.33677539 -0.88985932]\n",
      "Iteration: 9\n",
      "X:  [-0.03671356  1.32061026 -0.92257446]\n",
      "Iteration: 10\n",
      "X:  [-0.02580851  1.30788771 -0.9483225 ]\n"
     ]
    }
   ],
   "source": [
    "#Пример\n",
    "#Размер матриц NxN\n",
    "N = 3\n",
    "A = np.array([[18,0,6],[0,18,-7],[6,-7,6]])\n",
    "F = np.array([-6,30,-15])\n",
    "X = np.array([0.0,1.0,0.0])\n",
    "for i in range(10):\n",
    "    X = zeid(A,X,F,N)\n",
    "    print(\"Iteration:\", i + 1)\n",
    "    print(\"X: \", X)"
   ]
  },
  {
   "cell_type": "markdown",
   "metadata": {},
   "source": [
    "$\\textbf{Метод верхней релаксации}$\n",
    "<br>\n",
    "$1<w<2$\n",
    "<br>\n",
    "$U_i^{s+1} =  U_i^s (1-w)  - \\frac{w}{a_{ii}} (\\sum_{j=1}^{i-1}a_{ij} u_j^{s+1} +\\sum_{j=i+1}^{n}a_{ij} u_j^{s} - f_i)$"
   ]
  },
  {
   "cell_type": "code",
   "execution_count": 9,
   "metadata": {},
   "outputs": [],
   "source": [
    "#Оптимальное значение для метода релаксации (если выполнен критерий)\n",
    "def OptRel(A):\n",
    "    D = np.diag(A)\n",
    "    Q = np.identity(len(A))\n",
    "    G = np.identity(len(A))\n",
    "    for i in range(len(A)):\n",
    "        Q[i][i] = 1/D[i]\n",
    "        G[i][i] = D[i]\n",
    "    R = -Q@(A - G)\n",
    "    return (2/(1 + (1 - (SpecRad(R))**2)**0.5))\n",
    "#Метод релаксации\n",
    "def relax(A,X,F,N,w):\n",
    "    for i in range(N):\n",
    "        X[i] = X[i]*(1-w)*A[i][i]/w\n",
    "        for j in range(N):\n",
    "            if j == i:\n",
    "                continue\n",
    "            X[i] += -(X[j]*(A[i][j]))\n",
    "        X[i] += F[i]\n",
    "        X[i] = X[i]*w/(A[i][i])\n",
    "    return X"
   ]
  },
  {
   "cell_type": "code",
   "execution_count": 25,
   "metadata": {
    "collapsed": true
   },
   "outputs": [
    {
     "name": "stdout",
     "output_type": "stream",
     "text": [
      "Iteration: 1\n",
      "X:  [-0.456    1.912    0.25536]\n",
      "Iteration: 2\n",
      "X:  [-0.40463616  1.71223552 -0.22770232]\n",
      "Iteration: 3\n",
      "X:  [-0.20326163  1.52875969 -0.61824316]\n",
      "Iteration: 4\n",
      "X:  [-0.09928084  1.38851107 -0.84060666]\n",
      "Iteration: 5\n",
      "X:  [-0.03614801  1.32182518 -0.95157327]\n",
      "Iteration: 6\n",
      "X:  [-0.00878012  1.28733135 -1.003229  ]\n",
      "Iteration: 7\n",
      "X:  [ 0.00470351  1.27254424 -1.02626552]\n",
      "Iteration: 8\n",
      "X:  [ 0.01024619  1.26573046 -1.03624526]\n",
      "Iteration: 9\n",
      "X:  [ 0.01275724  1.26292871 -1.04047942]\n",
      "Iteration: 10\n",
      "X:  [ 0.01376395  1.26170718 -1.042248  ]\n",
      "Iteration: 11\n",
      "X:  [ 0.01419995  1.26121582 -1.04297782]\n",
      "Iteration: 12\n",
      "X:  [ 0.0143723   1.26100838 -1.0432761 ]\n",
      "Iteration: 13\n",
      "X:  [ 0.0144449   1.26092603 -1.04339707]\n",
      "Iteration: 14\n",
      "X:  [ 0.01447334  1.26089198 -1.04344581]\n",
      "Iteration: 15\n",
      "X:  [ 0.0144851   1.26087858 -1.04346534]\n",
      "Iteration: 16\n",
      "X:  [ 0.01448968  1.26087312 -1.04347314]\n",
      "Iteration: 17\n",
      "X:  [ 0.01449155  1.26087098 -1.04347623]\n",
      "Iteration: 18\n",
      "X:  [ 0.01449227  1.26087012 -1.04347746]\n",
      "Iteration: 19\n",
      "X:  [ 0.01449257  1.26086979 -1.04347795]\n",
      "Iteration: 20\n",
      "X:  [ 0.01449268  1.26086965 -1.04347814]\n"
     ]
    }
   ],
   "source": [
    "#Размер матриц NxN\n",
    "N = 3\n",
    "A = np.array([[18,0,6],[0,18,-7],[6,-7,6]])\n",
    "F = np.array([-6,30,-15])\n",
    "X = np.array([0.0,1.0,0.0])\n",
    "w = 1.368\n",
    "for i in range(20):\n",
    "    print(\"Iteration:\", i + 1)\n",
    "    X = relax(A,X,F,N,w)\n",
    "    print(\"X: \", X)"
   ]
  },
  {
   "cell_type": "code",
   "execution_count": 14,
   "metadata": {},
   "outputs": [],
   "source": [
    "#Орбита матрицы A при действии группы перестановок PAP^(-1)\n",
    "def PermutationsOrbit(A):\n",
    "    E = np.identity(len(A[0]))\n",
    "    for P in it.permutations(E):\n",
    "        print(\"Result: \")\n",
    "        print(P@A@np.transpose(P))\n",
    "        print(\"Permutation: \")\n",
    "        print(P)"
   ]
  },
  {
   "cell_type": "markdown",
   "metadata": {},
   "source": [
    "$\\textbf{Метод простых итераций:}$"
   ]
  },
  {
   "cell_type": "markdown",
   "metadata": {},
   "source": [
    "$u + \\tau A u = \\tau f + u$\n",
    "<br>\n",
    "$u^{s+1} = u^s  + \\tau(f - A u^s)$\n",
    "<br>\n",
    "$r^s := f - A u^s$\n",
    "<br>\n",
    "$u^{s+1} = u^s  + \\tau r^s$\n",
    "<br>\n",
    "$\\delta^s = u^s - u^{*}$"
   ]
  },
  {
   "cell_type": "code",
   "execution_count": 14,
   "metadata": {},
   "outputs": [],
   "source": [
    "#Шаг итерации, u - переменная,\n",
    "# t - параметр МПИ, A - матрица, f - правая часть\n",
    "def k(u,t,A,f):\n",
    "    u = u+(f-A@u)*t\n",
    "    return  u"
   ]
  },
  {
   "cell_type": "markdown",
   "metadata": {},
   "source": [
    "$\\textbf{Вычисление максимального по модулю собственного числа}$"
   ]
  },
  {
   "cell_type": "markdown",
   "metadata": {},
   "source": [
    "$\\lambda^{s+1} = \\frac{(u^s,Au^s)}{(u^s,u^s)}$\n",
    "<br>\n",
    "$O(\\frac{|\\lambda_{beforemax}|}{|\\lambda_{max}|})$"
   ]
  },
  {
   "cell_type": "code",
   "execution_count": 15,
   "metadata": {},
   "outputs": [],
   "source": [
    "#Скалярное произведение двух векторов\n",
    "def scal(x,y):\n",
    "    m = x@(y.transpose())\n",
    "    return m"
   ]
  },
  {
   "cell_type": "code",
   "execution_count": 21,
   "metadata": {
    "collapsed": true
   },
   "outputs": [
    {
     "name": "stdout",
     "output_type": "stream",
     "text": [
      "Шаг №: 1\n",
      "Вектор: [1 0]\n",
      "(u,Au): 5.0\n",
      "(u,u): 1\n",
      "lambda 5.0\n",
      "Шаг №: 2\n",
      "Вектор: [ 5. -2.]\n",
      "(u,Au): 173.0\n",
      "(u,u): 29.0\n",
      "lambda 5.9655172413793105\n",
      "Шаг №: 3\n",
      "Вектор: [ 29. -14.]\n",
      "(u,Au): 6221.0\n",
      "(u,u): 1037.0\n",
      "lambda 5.999035679845709\n",
      "Шаг №: 4\n",
      "Вектор: [173. -86.]\n",
      "(u,Au): 223949.0\n",
      "(u,u): 37325.0\n",
      "lambda 5.999973208305425\n",
      "Шаг №: 5\n",
      "Вектор: [1037. -518.]\n",
      "(u,Au): 8062157.0\n",
      "(u,u): 1343693.0\n",
      "lambda 5.9999992557823845\n"
     ]
    }
   ],
   "source": [
    "u = np.array([1, 0])\n",
    "t = 0.5\n",
    "A = np.array([[5.0,-2.0],[-2,2]])\n",
    "f = np.array([4, 5,6])\n",
    "for j in range(5):\n",
    "    print(\"Шаг №:\", j+1)\n",
    "    print(\"Вектор:\",u)\n",
    "    print(\"(u,Au):\",scal(u,A@u))\n",
    "    print(\"(u,u):\",scal(u,u))\n",
    "    print(\"lambda\",scal(u,A@u)/scal(u,u))\n",
    "    u = A@u"
   ]
  },
  {
   "cell_type": "markdown",
   "metadata": {},
   "source": [
    "$\\textbf{Метод вращений}$\n",
    "$tg (2\\alpha) = \\frac{2a_{ij}}{a_{ii} - a{jj}}$"
   ]
  },
  {
   "cell_type": "markdown",
   "metadata": {},
   "source": [
    "$\\textbf{Вычисление невязки:}$\n",
    "\n",
    "$F(u) = \\sum_i(\\sum_j a_{ij}u_j - f_i)^2$"
   ]
  },
  {
   "cell_type": "code",
   "execution_count": 30,
   "metadata": {},
   "outputs": [],
   "source": [
    "def nevya(u,A,f,n):\n",
    "    s = 0\n",
    "    for i in range(n):\n",
    "        k = 0\n",
    "        for j in range(n):\n",
    "            k += (A[i][j] * u[j] - f[i])\n",
    "        s += k ** 2\n",
    "    return s"
   ]
  },
  {
   "cell_type": "code",
   "execution_count": 31,
   "metadata": {
    "collapsed": true
   },
   "outputs": [
    {
     "name": "stdout",
     "output_type": "stream",
     "text": [
      "Вектор: [1.03741935 1.96774194]\n",
      "Невязка: 9.054851196670137\n"
     ]
    }
   ],
   "source": [
    "n = 2\n",
    "A = np.array([[1,1],[2,-1],[1,3],[3,1]])\n",
    "f = np.array([3,0.2,7.0,5.0])\n",
    "u = np.linalg.inv((A.transpose()@A))@A.transpose()@f\n",
    "print(\"Вектор:\",u)\n",
    "print(\"Невязка:\",nevya(u,A,f,n))"
   ]
  },
  {
   "cell_type": "markdown",
   "metadata": {},
   "source": [
    "$\\textbf{Метод наискорейшего спуска}$"
   ]
  },
  {
   "cell_type": "code",
   "execution_count": null,
   "metadata": {},
   "outputs": [],
   "source": [
    "#A - матрица, u - начальный ветор, f - правая часть, k - число итераций\n",
    "def desc (A, u, f ,k):\n",
    "    for i in range(k):\n",
    "        r = A@u - f\n",
    "        if(scal(r,r) == 0):\n",
    "            return u\n",
    "        t = scal(r, r)/scal(A@r, r)\n",
    "        u = u - t*r\n",
    "    return u"
   ]
  },
  {
   "cell_type": "markdown",
   "metadata": {},
   "source": [
    "$\\textbf{Метод минимальных невязок}$"
   ]
  },
  {
   "cell_type": "code",
   "execution_count": 2,
   "metadata": {},
   "outputs": [],
   "source": [
    "#A - матрица, u - начальный ветор, f - правая часть, k - число итераций\n",
    "def minnev (A, u, f ,k):\n",
    "    for i in range(k):\n",
    "        r = A@u - f\n",
    "        if(scal(r,r) == 0):\n",
    "            return u\n",
    "        t = scal(A@r, r)/scal(A@r, A@r)\n",
    "        u = u - t*r\n",
    "    return u"
   ]
  },
  {
   "cell_type": "code",
   "execution_count": null,
   "metadata": {},
   "outputs": [],
   "source": []
  },
  {
   "cell_type": "markdown",
   "metadata": {},
   "source": [
    "$\\textbf{Линейный МНК}$"
   ]
  },
  {
   "cell_type": "markdown",
   "metadata": {},
   "source": [
    "Вычисление решения при матрице $A_{(m,n)}$, $rk(A) = n$:\n",
    "<br>\n",
    "$Au = f$\n",
    "<br>\n",
    "$A^{T} A x = A^{T} f$\n",
    "<br>\n",
    "$(A^{T}A)_{(n,n)}$\n",
    "<br>\n",
    "Тоесть это уже система с квадратной матрицей, которую мы решать умеем"
   ]
  },
  {
   "cell_type": "code",
   "execution_count": 20,
   "metadata": {},
   "outputs": [],
   "source": [
    "#Выдаёт линейную систему, решение которой минимизирует сумму квадратов отклонений\n",
    "def MNK_mat(A, f):\n",
    "    return (np.transpose(A)@A, np.transpose(A)@f)\n",
    "#Доверяем решение линейной системы python, вообще \n",
    "# можно использовать итерационные методы\n",
    "def MNK_py(A, f):\n",
    "    return np.linalg.solve(MNK_mat(A, f))"
   ]
  },
  {
   "cell_type": "markdown",
   "metadata": {},
   "source": [
    "$\\textbf{Интерполяция данных многочленом}$"
   ]
  },
  {
   "cell_type": "code",
   "execution_count": null,
   "metadata": {},
   "outputs": [],
   "source": [
    "def SimplePolynomialInterpolation(x, y):\n",
    "    A = np.array([[x[j]**i for i in range(len(y))] for j in range(len(x))])\n",
    "    return np.linalg.solve(A, y)"
   ]
  },
  {
   "cell_type": "markdown",
   "metadata": {},
   "source": [
    "Определение функции:"
   ]
  },
  {
   "cell_type": "code",
   "execution_count": null,
   "metadata": {},
   "outputs": [],
   "source": [
    "def f:\n",
    "    #Здесь надо написать функцию\n",
    "def df:\n",
    "    #Здесь надо написать её производную"
   ]
  },
  {
   "cell_type": "markdown",
   "metadata": {},
   "source": [
    "$\\textbf{Метод дихотомии:}$"
   ]
  },
  {
   "cell_type": "code",
   "execution_count": 1,
   "metadata": {},
   "outputs": [],
   "source": [
    "def dych (a, b, f, k):\n",
    "    x1 = a\n",
    "    x2 = b\n",
    "    for i in range(k):\n",
    "        if(f(x1)*f((x1 + x2)/2) < 0):\n",
    "            x2 = (x1 + x2)/2\n",
    "        else:\n",
    "            x1 = (x1 + x2)/2\n",
    "    return x1"
   ]
  },
  {
   "cell_type": "markdown",
   "metadata": {},
   "source": [
    "$\\textbf{Метод простой итерации:}$"
   ]
  },
  {
   "cell_type": "code",
   "execution_count": null,
   "metadata": {},
   "outputs": [],
   "source": [
    "def f:\n",
    "    #Здесь надо написать функцию\n",
    "def df:\n",
    "    #Здесь надо написать её производную\n",
    "    \n",
    "    \n",
    "def MPI(func, lambd, x, k, say = 0):\n",
    "    for i in range(k):\n",
    "        x = x - lambd(x)*func(x)\n",
    "        if(say != 0):\n",
    "            print (k, \"th iteration, x is \", x)\n",
    "    return x\n",
    "\n"
   ]
  }
 ],
 "metadata": {
  "kernelspec": {
   "display_name": "Python 3",
   "language": "python",
   "name": "python3"
  },
  "language_info": {
   "codemirror_mode": {
    "name": "ipython",
    "version": 3
   },
   "file_extension": ".py",
   "mimetype": "text/x-python",
   "name": "python",
   "nbconvert_exporter": "python",
   "pygments_lexer": "ipython3",
   "version": "3.7.3"
  }
 },
 "nbformat": 4,
 "nbformat_minor": 4
}
