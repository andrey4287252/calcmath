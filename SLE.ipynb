{
 "cells": [
  {
   "cell_type": "code",
   "execution_count": 3,
   "metadata": {},
   "outputs": [],
   "source": [
    "import numpy as np"
   ]
  },
  {
   "cell_type": "code",
   "execution_count": 2,
   "metadata": {},
   "outputs": [],
   "source": [
    "import pandas as pd\n",
    "import functools\n",
    "import math\n",
    "import fractions\n"
   ]
  },
  {
   "cell_type": "code",
   "execution_count": 10,
   "metadata": {},
   "outputs": [],
   "source": [
    "#Поиск максимального модуля в массиве\n",
    "def AbsMax(A):\n",
    "    return np.max(np.array([np.max(A), -np.min(A)]))"
   ]
  },
  {
   "cell_type": "code",
   "execution_count": null,
   "metadata": {},
   "outputs": [],
   "source": [
    "#Спектральный радиус матрицы\n",
    "def SpecRad (A):\n",
    "        return AbsMax(np.linalg.eig(A)[0])"
   ]
  },
  {
   "cell_type": "code",
   "execution_count": 8,
   "metadata": {},
   "outputs": [],
   "source": [
    "#Замена вектора на вектор из целых\n",
    "def integer_collinear_vector(numbers, max_denominator=1000000):\n",
    "    t = np.array([])\n",
    "    for i in range(len(numbers)):\n",
    "        if numbers[i] != 0:\n",
    "            a = np.array([numbers[i]])\n",
    "            t = np.concatenate((t, a))\n",
    "    norma = np.min(t)\n",
    "    numbers = [num / norma for num in numbers]\n",
    "    fracts = [fractions.Fraction(f).limit_denominator(max_denominator) for f in numbers]\n",
    "    denoms = [f.denominator for f in fracts]\n",
    "    denoms_gcd = functools.reduce(math.gcd, denoms)\n",
    "    denoms_lcm = functools.reduce(lambda a, b: a*b, [d // denoms_gcd for d in denoms]) * denoms_gcd\n",
    "    result_integers = [f.numerator * (denoms_lcm // f.denominator) for f in fracts]\n",
    "    return result_integers"
   ]
  },
  {
   "cell_type": "markdown",
   "metadata": {},
   "source": [
    "Метод Якоби"
   ]
  },
  {
   "cell_type": "code",
   "execution_count": 12,
   "metadata": {},
   "outputs": [],
   "source": [
    "def yakob(A,X,F,N):\n",
    "    Y = np.zeros(N)\n",
    "    for i in range(N):\n",
    "        for j in range(N):\n",
    "            if j == i:\n",
    "                continue\n",
    "            Y[i] += -(X[j]*(A[i][j]))\n",
    "        Y[i] += F[i]\n",
    "        Y[i] = Y[i]/(A[i][i])\n",
    "    X = Y\n",
    "    return X"
   ]
  },
  {
   "cell_type": "code",
   "execution_count": 23,
   "metadata": {},
   "outputs": [
    {
     "name": "stdout",
     "output_type": "stream",
     "text": [
      "[-0.33333333 -1.33333333  1.66666667]\n",
      "[ 0.11111111 -0.22222222  1.14814815]\n",
      "[-0.25925926 -1.27160494  1.58024691]\n",
      "[ 0.09053498 -0.39711934  1.17215364]\n",
      "[-0.20096022 -1.22302241  1.51223137]\n",
      "[ 0.0743408  -0.53476985  1.19104684]\n",
      "[-0.15507672 -1.18478615  1.45870061]\n",
      "[ 0.06159538 -0.6431059   1.2059165 ]\n",
      "[-0.1189647  -1.1546928   1.41656993]\n",
      "[ 0.05156427 -0.72837039  1.21761946]\n"
     ]
    }
   ],
   "source": [
    "#Размер матриц NxN\n",
    "N = 3\n",
    "A = np.array([[18.0,6.0,0.0],[6.0,6.0,-7.0],[0.0,-7.0,18.0]])\n",
    "F = np.array([-6.0,-15.0,30.0])\n",
    "X = np.array([0.0,0.0,1.0])\n",
    "for i in range(10):\n",
    "    X = yakob(A,X,F,N)\n",
    "    print(X)"
   ]
  },
  {
   "cell_type": "markdown",
   "metadata": {},
   "source": [
    "Метод Зейделя"
   ]
  },
  {
   "cell_type": "code",
   "execution_count": 20,
   "metadata": {},
   "outputs": [],
   "source": [
    "def zeid(A,X,F,N):\n",
    "    for i in range(N):\n",
    "        X[i] = 0\n",
    "        for j in range(N):\n",
    "            if j == i:\n",
    "                continue\n",
    "            X[i] += -(X[j]*(A[i][j]))\n",
    "        X[i] += F[i]\n",
    "        X[i] = X[i]/(A[i][i])\n",
    "    return X"
   ]
  },
  {
   "cell_type": "code",
   "execution_count": 24,
   "metadata": {},
   "outputs": [
    {
     "name": "stdout",
     "output_type": "stream",
     "text": [
      "[-0.33333333  1.66666667 -0.22222222]\n",
      "[-0.25925926  1.58024691 -0.39711934]\n",
      "[-0.20096022  1.51223137 -0.53476985]\n",
      "[-0.15507672  1.45870061 -0.6431059 ]\n",
      "[-0.1189647   1.41656993 -0.72837039]\n",
      "[-0.0905432   1.38341152 -0.79547669]\n",
      "[-0.06817444  1.35731462 -0.84829184]\n",
      "[-0.05056939  1.33677539 -0.88985932]\n",
      "[-0.03671356  1.32061026 -0.92257446]\n",
      "[-0.02580851  1.30788771 -0.9483225 ]\n"
     ]
    }
   ],
   "source": [
    "#Размер матриц NxN\n",
    "N = 3\n",
    "A = np.array([[18,0,6],[0,18,-7],[6,-7,6]])\n",
    "F = np.array([-6,30,-15])\n",
    "X = np.array([0.0,1.0,0.0])\n",
    "for i in range(10):\n",
    "    X = zeid(A,X,F,N)\n",
    "    print(X)"
   ]
  },
  {
   "cell_type": "markdown",
   "metadata": {},
   "source": [
    "Метод верхрней релаксации\n",
    "<br>\n",
    "$1<w<2$\n",
    "<br>\n",
    "$U_i^{s+1} =  U_i^s (1-w)  - \\frac{w}{a_{ii}} (\\sum_{j=1}^{i-1}a_{ij} u_j^{s+1} +\\sum_{j=i+1}^{n}a_{ij} u_j^{s} - f_i)$"
   ]
  },
  {
   "cell_type": "code",
   "execution_count": 26,
   "metadata": {},
   "outputs": [],
   "source": [
    "#Оптимальное значение для метода релаксации (если выполнен критерий)\n",
    "def OptRel(A):\n",
    "    D = np.diag(A)\n",
    "    Q = np.identity(len(A))\n",
    "    G = np.identity(len(A))\n",
    "    for i in range(len(A)):\n",
    "        Q[i][i] = 1/D[i]\n",
    "        G[i][i] = D[i]\n",
    "    R = -Q@(A - G)\n",
    "    return (2/(1 + (1 - (SpecRad(R))**2)**0.5))\n",
    "#Метод релаксации\n",
    "def relax(A,X,F,N,w):\n",
    "    for i in range(N):\n",
    "        X[i] = X[i]*(1-w)*A[i][i]/w\n",
    "        for j in range(N):\n",
    "            if j == i:\n",
    "                continue\n",
    "            X[i] += -(X[j]*(A[i][j]))\n",
    "        X[i] += F[i]\n",
    "        X[i] = X[i]*w/(A[i][i])\n",
    "    return X"
   ]
  },
  {
   "cell_type": "code",
   "execution_count": 27,
   "metadata": {},
   "outputs": [
    {
     "name": "stdout",
     "output_type": "stream",
     "text": [
      "[-0.456    1.912    0.25536]\n",
      "[-0.40463616  1.71223552 -0.22770232]\n",
      "[-0.20326163  1.52875969 -0.61824316]\n",
      "[-0.09928084  1.38851107 -0.84060666]\n",
      "[-0.03614801  1.32182518 -0.95157327]\n",
      "[-0.00878012  1.28733135 -1.003229  ]\n",
      "[ 0.00470351  1.27254424 -1.02626552]\n",
      "[ 0.01024619  1.26573046 -1.03624526]\n",
      "[ 0.01275724  1.26292871 -1.04047942]\n",
      "[ 0.01376395  1.26170718 -1.042248  ]\n",
      "[ 0.01419995  1.26121582 -1.04297782]\n",
      "[ 0.0143723   1.26100838 -1.0432761 ]\n",
      "[ 0.0144449   1.26092603 -1.04339707]\n",
      "[ 0.01447334  1.26089198 -1.04344581]\n",
      "[ 0.0144851   1.26087858 -1.04346534]\n",
      "[ 0.01448968  1.26087312 -1.04347314]\n",
      "[ 0.01449155  1.26087098 -1.04347623]\n",
      "[ 0.01449227  1.26087012 -1.04347746]\n",
      "[ 0.01449257  1.26086979 -1.04347795]\n",
      "[ 0.01449268  1.26086965 -1.04347814]\n"
     ]
    }
   ],
   "source": [
    "#Размер матриц NxN\n",
    "N = 3\n",
    "A = np.array([[18,0,6],[0,18,-7],[6,-7,6]])\n",
    "F = np.array([-6,30,-15])\n",
    "X = np.array([0.0,1.0,0.0])\n",
    "w = 1.368\n",
    "for i in range(20):\n",
    "    X = relax(A,X,F,N,w)\n",
    "    print(X)"
   ]
  },
  {
   "cell_type": "markdown",
   "metadata": {},
   "source": [
    "Метод простых итераций:"
   ]
  },
  {
   "cell_type": "markdown",
   "metadata": {},
   "source": [
    "$u + \\tau A u = \\tau f + u$\n",
    "<br>\n",
    "$u^{s+1} = u^s  + \\tau(f - A u^s)$\n",
    "<br>\n",
    "$r^s := f - A u^s$\n",
    "<br>\n",
    "$u^{s+1} = u^s  + \\tau r^s$\n",
    "<br>\n",
    "$\\delta^s = u^s - u^{*}$"
   ]
  },
  {
   "cell_type": "code",
   "execution_count": 30,
   "metadata": {},
   "outputs": [],
   "source": [
    "def k(u,t,A,f):\n",
    "    u = u+(f-A@u)*t\n",
    "    return  u"
   ]
  },
  {
   "cell_type": "markdown",
   "metadata": {},
   "source": [
    "Вычисление максимального по модулю собственного числа"
   ]
  },
  {
   "cell_type": "markdown",
   "metadata": {},
   "source": [
    "$\\lambda^{s+1} = \\frac{(u^s,Au^s)}{(u^s,u^s)}$\n",
    "<br>\n",
    "$O(\\frac{|\\lambda_{beforemax}|}{|\\lambda_{max}|})$"
   ]
  },
  {
   "cell_type": "code",
   "execution_count": 17,
   "metadata": {},
   "outputs": [],
   "source": [
    "def scal(x,y):\n",
    "    m = x@(y.transpose())\n",
    "    return m"
   ]
  },
  {
   "cell_type": "code",
   "execution_count": 21,
   "metadata": {},
   "outputs": [
    {
     "name": "stdout",
     "output_type": "stream",
     "text": [
      "Шаг №: 1\n",
      "Вектор: [1 0]\n",
      "(u,Au): 5.0\n",
      "(u,u): 1\n",
      "lambda 5.0\n",
      "Шаг №: 2\n",
      "Вектор: [ 5. -2.]\n",
      "(u,Au): 173.0\n",
      "(u,u): 29.0\n",
      "lambda 5.9655172413793105\n",
      "Шаг №: 3\n",
      "Вектор: [ 29. -14.]\n",
      "(u,Au): 6221.0\n",
      "(u,u): 1037.0\n",
      "lambda 5.999035679845709\n",
      "Шаг №: 4\n",
      "Вектор: [173. -86.]\n",
      "(u,Au): 223949.0\n",
      "(u,u): 37325.0\n",
      "lambda 5.999973208305425\n",
      "Шаг №: 5\n",
      "Вектор: [1037. -518.]\n",
      "(u,Au): 8062157.0\n",
      "(u,u): 1343693.0\n",
      "lambda 5.9999992557823845\n"
     ]
    }
   ],
   "source": [
    "u = np.array([1, 0])\n",
    "t = 0.5\n",
    "A = np.array([[5.0,-2.0],[-2,2]])\n",
    "f = np.array([4, 5,6])\n",
    "for j in range(5):\n",
    "    print(\"Шаг №:\", j+1)\n",
    "    print(\"Вектор:\",u)\n",
    "    print(\"(u,Au):\",scal(u,A@u))\n",
    "    print(\"(u,u):\",scal(u,u))\n",
    "    print(\"lambda\",scal(u,A@u)/scal(u,u))\n",
    "    u = A@u"
   ]
  },
  {
   "cell_type": "markdown",
   "metadata": {},
   "source": [
    "$tg (2\\alpha) = \\frac{2a_{ij}}{a_{ii} - a{jj}}$"
   ]
  },
  {
   "cell_type": "markdown",
   "metadata": {},
   "source": [
    "Вычисление решения при матрице $A_{(m,n)}$, $rk(A) = n$:\n",
    "<br>\n",
    "$Au = f$\n",
    "<br>\n",
    "$A^{T} A x = A^{T} f$\n",
    "<br>\n",
    "$(A^{T}A)_{(n,n)}$\n",
    "<br>\n",
    "Тоесть это уже система с квадратной матрицей, которую мы решать умеем"
   ]
  },
  {
   "cell_type": "markdown",
   "metadata": {},
   "source": [
    "Невязка:\n",
    "<br>\n",
    "$F(u) = \\sum_i(\\sum_j a_{ij}u_j - f_i)^2$"
   ]
  },
  {
   "cell_type": "code",
   "execution_count": 30,
   "metadata": {},
   "outputs": [],
   "source": [
    "def nevya(u,A,f,n):\n",
    "    s = 0\n",
    "    for i in range(n):\n",
    "        k = 0\n",
    "        for j in range(n):\n",
    "            k += (A[i][j] * u[j] - f[i])\n",
    "        s += k ** 2\n",
    "    return s"
   ]
  },
  {
   "cell_type": "code",
   "execution_count": 31,
   "metadata": {},
   "outputs": [
    {
     "name": "stdout",
     "output_type": "stream",
     "text": [
      "Вектор: [1.03741935 1.96774194]\n",
      "Невязка: 9.054851196670137\n"
     ]
    }
   ],
   "source": [
    "n = 2\n",
    "A = np.array([[1,1],[2,-1],[1,3],[3,1]])\n",
    "f = np.array([3,0.2,7.0,5.0])\n",
    "u = np.linalg.inv((A.transpose()@A))@A.transpose()@f\n",
    "print(\"Вектор:\",u)\n",
    "print(\"Невязка:\",nevya(u,A,f,n))"
   ]
  },
  {
   "cell_type": "code",
   "execution_count": null,
   "metadata": {},
   "outputs": [],
   "source": []
  }
 ],
 "metadata": {
  "kernelspec": {
   "display_name": "Python 3",
   "language": "python",
   "name": "python3"
  },
  "language_info": {
   "codemirror_mode": {
    "name": "ipython",
    "version": 3
   },
   "file_extension": ".py",
   "mimetype": "text/x-python",
   "name": "python",
   "nbconvert_exporter": "python",
   "pygments_lexer": "ipython3",
   "version": "3.7.3"
  }
 },
 "nbformat": 4,
 "nbformat_minor": 4
}
