{
 "cells": [
  {
   "cell_type": "code",
   "execution_count": 2,
   "metadata": {},
   "outputs": [],
   "source": [
    "import numpy as np\n",
    "import pandas as pd\n",
    "import functools\n",
    "import math\n",
    "import fractions\n",
    "import itertools as it\n",
    "from numpy import linalg as LA\n",
    "from scipy.interpolate import lagrange\n",
    "from numpy.polynomial.polynomial import Polynomial"
   ]
  },
  {
   "cell_type": "markdown",
   "metadata": {},
   "source": [
    "$\\textbf{Технические вещи}$"
   ]
  },
  {
   "cell_type": "code",
   "execution_count": 10,
   "metadata": {},
   "outputs": [],
   "source": [
    "#Поиск максимального модуля в массиве\n",
    "def AbsMax(A):\n",
    "    return np.max(np.array([np.max(A), -np.min(A)]))"
   ]
  },
  {
   "cell_type": "code",
   "execution_count": 11,
   "metadata": {},
   "outputs": [],
   "source": [
    "#Спектральный радиус матрицы\n",
    "def SpecRad (A):\n",
    "        return AbsMax(np.linalg.eig(A)[0])"
   ]
  },
  {
   "cell_type": "code",
   "execution_count": 12,
   "metadata": {},
   "outputs": [],
   "source": [
    "#Попытка замены вектора на вектор из целых\n",
    "def integer_collinear_vector(numbers, max_denominator=1000000):\n",
    "    t = np.array([])\n",
    "    for i in range(len(numbers)):\n",
    "        if numbers[i] != 0:\n",
    "            a = np.array([numbers[i]])\n",
    "            t = np.concatenate((t, a))\n",
    "    norma = np.min(t)\n",
    "    numbers = [num / norma for num in numbers]\n",
    "    fracts = [fractions.Fraction(f).limit_denominator(max_denominator) for f in numbers]\n",
    "    denoms = [f.denominator for f in fracts]\n",
    "    denoms_gcd = functools.reduce(math.gcd, denoms)\n",
    "    denoms_lcm = functools.reduce(lambda a, b: a*b, [d // denoms_gcd for d in denoms]) * denoms_gcd\n",
    "    result_integers = [f.numerator * (denoms_lcm // f.denominator) for f in fracts]\n",
    "    return result_integers"
   ]
  },
  {
   "cell_type": "markdown",
   "metadata": {},
   "source": [
    "$\\textbf{Итерационные методы}$"
   ]
  },
  {
   "cell_type": "markdown",
   "metadata": {},
   "source": [
    "$\\textbf{Метод Якоби}$"
   ]
  },
  {
   "cell_type": "code",
   "execution_count": 13,
   "metadata": {},
   "outputs": [],
   "source": [
    "def yakob(A,X,F,N):\n",
    "    Y = np.zeros(N)\n",
    "    for i in range(N):\n",
    "        for j in range(N):\n",
    "            if j == i:\n",
    "                continue\n",
    "            Y[i] += -(X[j]*(A[i][j]))\n",
    "        Y[i] += F[i]\n",
    "        Y[i] = Y[i]/(A[i][i])\n",
    "    X = Y\n",
    "    return X"
   ]
  },
  {
   "cell_type": "code",
   "execution_count": 14,
   "metadata": {},
   "outputs": [
    {
     "name": "stdout",
     "output_type": "stream",
     "text": [
      "Iteration: 1\n",
      "X:  [-0.3        -1.33333333  1.66666667]\n",
      "Iteration: 2\n",
      "X:  [ 0.1        -0.25555556  1.14814815]\n",
      "Iteration: 3\n",
      "X:  [-0.22333333 -1.26049383  1.56728395]\n",
      "Iteration: 4\n",
      "X:  [ 0.07814815 -0.44816872  1.17647462]\n",
      "Iteration: 5\n",
      "X:  [-0.16554938 -1.20559442  1.49237883]\n",
      "Iteration: 6\n",
      "X:  [ 0.06167833 -0.59334198  1.19782439]\n",
      "Iteration: 7\n",
      "X:  [-0.12199741 -1.16421654  1.43592256]\n",
      "Iteration: 8\n",
      "X:  [ 0.04926496 -0.70275961  1.21391579]\n",
      "Iteration: 9\n",
      "X:  [-0.08917212 -1.13302987  1.39337126]\n",
      "Iteration: 10\n",
      "X:  [ 0.03990896 -0.78522807  1.22604394]\n"
     ]
    }
   ],
   "source": [
    "#Пример\n",
    "#Размер матриц NxN\n",
    "N = 3\n",
    "A = np.array([[20.0,6.0,0.0],[6.0,6.0,-7.0],[0.0,-7.0,18.0]])\n",
    "F = np.array([-6.0,-15.0,30.0])\n",
    "X = np.array([0.0,0.0,1.0])\n",
    "for i in range(10):\n",
    "    X = yakob(A,X,F,N)\n",
    "    print(\"Iteration:\", i + 1)\n",
    "    print(\"X: \", X)"
   ]
  },
  {
   "cell_type": "markdown",
   "metadata": {},
   "source": [
    "$\\textbf{Метод Зейделя}$"
   ]
  },
  {
   "cell_type": "code",
   "execution_count": 15,
   "metadata": {},
   "outputs": [],
   "source": [
    "def zeid(A,X,F,N):\n",
    "    for i in range(N):\n",
    "        X[i] = 0\n",
    "        for j in range(N):\n",
    "            if j == i:\n",
    "                continue\n",
    "            X[i] += -(X[j]*(A[i][j]))\n",
    "        X[i] += F[i]\n",
    "        X[i] = X[i]/(A[i][i])\n",
    "    return X"
   ]
  },
  {
   "cell_type": "code",
   "execution_count": 16,
   "metadata": {},
   "outputs": [
    {
     "name": "stdout",
     "output_type": "stream",
     "text": [
      "Iteration: 1\n",
      "X:  [-0.33333333  1.66666667 -0.22222222]\n",
      "Iteration: 2\n",
      "X:  [-0.25925926  1.58024691 -0.39711934]\n",
      "Iteration: 3\n",
      "X:  [-0.20096022  1.51223137 -0.53476985]\n",
      "Iteration: 4\n",
      "X:  [-0.15507672  1.45870061 -0.6431059 ]\n",
      "Iteration: 5\n",
      "X:  [-0.1189647   1.41656993 -0.72837039]\n",
      "Iteration: 6\n",
      "X:  [-0.0905432   1.38341152 -0.79547669]\n",
      "Iteration: 7\n",
      "X:  [-0.06817444  1.35731462 -0.84829184]\n",
      "Iteration: 8\n",
      "X:  [-0.05056939  1.33677539 -0.88985932]\n",
      "Iteration: 9\n",
      "X:  [-0.03671356  1.32061026 -0.92257446]\n",
      "Iteration: 10\n",
      "X:  [-0.02580851  1.30788771 -0.9483225 ]\n"
     ]
    }
   ],
   "source": [
    "#Пример\n",
    "#Размер матриц NxN\n",
    "N = 3\n",
    "A = np.array([[18,0,6],[0,18,-7],[6,-7,6]])\n",
    "F = np.array([-6,30,-15])\n",
    "X = np.array([0.0,1.0,0.0])\n",
    "for i in range(10):\n",
    "    X = zeid(A,X,F,N)\n",
    "    print(\"Iteration:\", i + 1)\n",
    "    print(\"X: \", X)"
   ]
  },
  {
   "cell_type": "markdown",
   "metadata": {},
   "source": [
    "$\\textbf{Метод верхней релаксации}$\n",
    "<br>\n",
    "$1<w<2$\n",
    "<br>\n",
    "$U_i^{s+1} =  U_i^s (1-w)  - \\frac{w}{a_{ii}} (\\sum_{j=1}^{i-1}a_{ij} u_j^{s+1} +\\sum_{j=i+1}^{n}a_{ij} u_j^{s} - f_i)$"
   ]
  },
  {
   "cell_type": "code",
   "execution_count": 17,
   "metadata": {},
   "outputs": [],
   "source": [
    "#Оптимальное значение для метода релаксации (если выполнен критерий)\n",
    "def OptRel(A):\n",
    "    D = np.diag(A)\n",
    "    Q = np.identity(len(A))\n",
    "    G = np.identity(len(A))\n",
    "    for i in range(len(A)):\n",
    "        Q[i][i] = 1/D[i]\n",
    "        G[i][i] = D[i]\n",
    "    R = -Q@(A - G)\n",
    "    return (2/(1 + (1 - (SpecRad(R))**2)**0.5))\n",
    "#Метод релаксации\n",
    "def relax(A,X,F,N,w):\n",
    "    for i in range(N):\n",
    "        X[i] = X[i]*(1-w)*A[i][i]/w\n",
    "        for j in range(N):\n",
    "            if j == i:\n",
    "                continue\n",
    "            X[i] += -(X[j]*(A[i][j]))\n",
    "        X[i] += F[i]\n",
    "        X[i] = X[i]*w/(A[i][i])\n",
    "    return X"
   ]
  },
  {
   "cell_type": "code",
   "execution_count": 18,
   "metadata": {},
   "outputs": [
    {
     "name": "stdout",
     "output_type": "stream",
     "text": [
      "Iteration: 1\n",
      "X:  [-0.456    1.912    0.25536]\n",
      "Iteration: 2\n",
      "X:  [-0.40463616  1.71223552 -0.22770232]\n",
      "Iteration: 3\n",
      "X:  [-0.20326163  1.52875969 -0.61824316]\n",
      "Iteration: 4\n",
      "X:  [-0.09928084  1.38851107 -0.84060666]\n",
      "Iteration: 5\n",
      "X:  [-0.03614801  1.32182518 -0.95157327]\n",
      "Iteration: 6\n",
      "X:  [-0.00878012  1.28733135 -1.003229  ]\n",
      "Iteration: 7\n",
      "X:  [ 0.00470351  1.27254424 -1.02626552]\n",
      "Iteration: 8\n",
      "X:  [ 0.01024619  1.26573046 -1.03624526]\n",
      "Iteration: 9\n",
      "X:  [ 0.01275724  1.26292871 -1.04047942]\n",
      "Iteration: 10\n",
      "X:  [ 0.01376395  1.26170718 -1.042248  ]\n",
      "Iteration: 11\n",
      "X:  [ 0.01419995  1.26121582 -1.04297782]\n",
      "Iteration: 12\n",
      "X:  [ 0.0143723   1.26100838 -1.0432761 ]\n",
      "Iteration: 13\n",
      "X:  [ 0.0144449   1.26092603 -1.04339707]\n",
      "Iteration: 14\n",
      "X:  [ 0.01447334  1.26089198 -1.04344581]\n",
      "Iteration: 15\n",
      "X:  [ 0.0144851   1.26087858 -1.04346534]\n",
      "Iteration: 16\n",
      "X:  [ 0.01448968  1.26087312 -1.04347314]\n",
      "Iteration: 17\n",
      "X:  [ 0.01449155  1.26087098 -1.04347623]\n",
      "Iteration: 18\n",
      "X:  [ 0.01449227  1.26087012 -1.04347746]\n",
      "Iteration: 19\n",
      "X:  [ 0.01449257  1.26086979 -1.04347795]\n",
      "Iteration: 20\n",
      "X:  [ 0.01449268  1.26086965 -1.04347814]\n"
     ]
    }
   ],
   "source": [
    "#Размер матриц NxN\n",
    "N = 3\n",
    "A = np.array([[18,0,6],[0,18,-7],[6,-7,6]])\n",
    "F = np.array([-6,30,-15])\n",
    "X = np.array([0.0,1.0,0.0])\n",
    "w = 1.368\n",
    "for i in range(20):\n",
    "    print(\"Iteration:\", i + 1)\n",
    "    X = relax(A,X,F,N,w)\n",
    "    print(\"X: \", X)"
   ]
  },
  {
   "cell_type": "code",
   "execution_count": 19,
   "metadata": {},
   "outputs": [],
   "source": [
    "#Орбита матрицы A при действии группы перестановок PAP^(-1)\n",
    "def PermutationsOrbit(A):\n",
    "    E = np.identity(len(A[0]))\n",
    "    for P in it.permutations(E):\n",
    "        print(\"Result: \")\n",
    "        print(P@A@np.transpose(P))\n",
    "        print(\"Permutation: \")\n",
    "        print(P)"
   ]
  },
  {
   "cell_type": "markdown",
   "metadata": {},
   "source": [
    "$\\textbf{Метод простых итераций:}$"
   ]
  },
  {
   "cell_type": "markdown",
   "metadata": {},
   "source": [
    "$u + \\tau A u = \\tau f + u$\n",
    "<br>\n",
    "$u^{s+1} = u^s  + \\tau(f - A u^s)$\n",
    "<br>\n",
    "$r^s := f - A u^s$\n",
    "<br>\n",
    "$u^{s+1} = u^s  + \\tau r^s$\n",
    "<br>\n",
    "$\\delta^s = u^s - u^{*}$"
   ]
  },
  {
   "cell_type": "code",
   "execution_count": 20,
   "metadata": {},
   "outputs": [],
   "source": [
    "#Шаг итерации, u - переменная,\n",
    "# t - параметр МПИ, A - матрица, f - правая часть\n",
    "def k(u,t,A,f):\n",
    "    u = u+(f-A@u)*t\n",
    "    return  u"
   ]
  },
  {
   "cell_type": "markdown",
   "metadata": {},
   "source": [
    "$\\textbf{Вычисление максимального по модулю собственного числа}$"
   ]
  },
  {
   "cell_type": "markdown",
   "metadata": {},
   "source": [
    "$\\lambda^{s+1} = \\frac{(u^s,Au^s)}{(u^s,u^s)}$\n",
    "<br>\n",
    "$O(\\frac{|\\lambda_{beforemax}|}{|\\lambda_{max}|})$"
   ]
  },
  {
   "cell_type": "markdown",
   "metadata": {},
   "source": [
    "Скалярное произведение двух векторов"
   ]
  },
  {
   "cell_type": "code",
   "execution_count": 21,
   "metadata": {},
   "outputs": [],
   "source": [
    "def scal(x,y):\n",
    "    m = x@(y.transpose())\n",
    "    return m"
   ]
  },
  {
   "cell_type": "code",
   "execution_count": 22,
   "metadata": {},
   "outputs": [],
   "source": [
    "#Не протестирована\n",
    "def disc_scal (f, g, X):\n",
    "    v = np.array([f[x] for x in X])\n",
    "    u = np.array([g[y] for y in X])\n",
    "    return scal(v, u)"
   ]
  },
  {
   "cell_type": "code",
   "execution_count": 23,
   "metadata": {},
   "outputs": [
    {
     "name": "stdout",
     "output_type": "stream",
     "text": [
      "Шаг №: 1\n",
      "Вектор: [1 0]\n",
      "(u,Au): 5.0\n",
      "(u,u): 1\n",
      "lambda 5.0\n",
      "Шаг №: 2\n",
      "Вектор: [ 5. -2.]\n",
      "(u,Au): 173.0\n",
      "(u,u): 29.0\n",
      "lambda 5.9655172413793105\n",
      "Шаг №: 3\n",
      "Вектор: [ 29. -14.]\n",
      "(u,Au): 6221.0\n",
      "(u,u): 1037.0\n",
      "lambda 5.999035679845709\n",
      "Шаг №: 4\n",
      "Вектор: [173. -86.]\n",
      "(u,Au): 223949.0\n",
      "(u,u): 37325.0\n",
      "lambda 5.999973208305425\n",
      "Шаг №: 5\n",
      "Вектор: [1037. -518.]\n",
      "(u,Au): 8062157.0\n",
      "(u,u): 1343693.0\n",
      "lambda 5.9999992557823845\n"
     ]
    }
   ],
   "source": [
    "u = np.array([1, 0])\n",
    "t = 0.5\n",
    "A = np.array([[5.0,-2.0],[-2,2]])\n",
    "f = np.array([4, 5,6])\n",
    "for j in range(5):\n",
    "    print(\"Шаг №:\", j+1)\n",
    "    print(\"Вектор:\",u)\n",
    "    print(\"(u,Au):\",scal(u,A@u))\n",
    "    print(\"(u,u):\",scal(u,u))\n",
    "    print(\"lambda\",scal(u,A@u)/scal(u,u))\n",
    "    u = A@u"
   ]
  },
  {
   "cell_type": "markdown",
   "metadata": {},
   "source": [
    "$\\textbf{Метод вращений}$\n",
    "$tg (2\\alpha) = \\frac{2a_{ij}}{a_{ii} - a{jj}}$"
   ]
  },
  {
   "cell_type": "markdown",
   "metadata": {},
   "source": [
    "$\\textbf{Вычисление невязки:}$\n",
    "\n",
    "$F(u) = \\sum_i(\\sum_j a_{ij}u_j - f_i)^2$"
   ]
  },
  {
   "cell_type": "code",
   "execution_count": 24,
   "metadata": {},
   "outputs": [],
   "source": [
    "def nevya(u,A,f,n):\n",
    "    s = 0\n",
    "    for i in range(n):\n",
    "        k = 0\n",
    "        for j in range(n):\n",
    "            k += (A[i][j] * u[j] - f[i])\n",
    "        s += k ** 2\n",
    "    return s"
   ]
  },
  {
   "cell_type": "code",
   "execution_count": 25,
   "metadata": {},
   "outputs": [
    {
     "name": "stdout",
     "output_type": "stream",
     "text": [
      "Вектор: [1.03741935 1.96774194]\n",
      "Невязка: 9.054851196670137\n"
     ]
    }
   ],
   "source": [
    "n = 2\n",
    "A = np.array([[1,1],[2,-1],[1,3],[3,1]])\n",
    "f = np.array([3,0.2,7.0,5.0])\n",
    "u = np.linalg.inv((A.transpose()@A))@A.transpose()@f\n",
    "print(\"Вектор:\",u)\n",
    "print(\"Невязка:\",nevya(u,A,f,n))"
   ]
  },
  {
   "cell_type": "markdown",
   "metadata": {},
   "source": [
    "$\\textbf{Метод наискорейшего спуска}$"
   ]
  },
  {
   "cell_type": "code",
   "execution_count": 26,
   "metadata": {},
   "outputs": [],
   "source": [
    "#A - матрица, u - начальный ветор, f - правая часть, k - число итераций\n",
    "def desc (A, u, f ,k):\n",
    "    for i in range(k):\n",
    "        r = A@u - f\n",
    "        if(scal(r,r) == 0):\n",
    "            return u\n",
    "        t = scal(r, r)/scal(A@r, r)\n",
    "        u = u - t*r\n",
    "    return u"
   ]
  },
  {
   "cell_type": "markdown",
   "metadata": {},
   "source": [
    "$\\textbf{Метод минимальных невязок}$"
   ]
  },
  {
   "cell_type": "code",
   "execution_count": 27,
   "metadata": {},
   "outputs": [],
   "source": [
    "#A - матрица, u - начальный ветор, f - правая часть, k - число итераций\n",
    "def minnev (A, u, f ,k):\n",
    "    for i in range(k):\n",
    "        r = A@u - f\n",
    "        if(scal(r,r) == 0):\n",
    "            return u\n",
    "        t = scal(A@r, r)/scal(A@r, A@r)\n",
    "        u = u - t*r\n",
    "    return u"
   ]
  },
  {
   "cell_type": "markdown",
   "metadata": {},
   "source": [
    "$\\textbf{Линейный МНК}$"
   ]
  },
  {
   "cell_type": "markdown",
   "metadata": {},
   "source": [
    "Вычисление решения при матрице $A_{(m,n)}$, $rk(A) = n$:\n",
    "<br>\n",
    "$Au = f$\n",
    "<br>\n",
    "$A^{T} A x = A^{T} f$\n",
    "<br>\n",
    "$(A^{T}A)_{(n,n)}$\n",
    "<br>\n",
    "То есть это уже система с квадратной матрицей, которую мы решать умеем"
   ]
  },
  {
   "cell_type": "code",
   "execution_count": 28,
   "metadata": {},
   "outputs": [],
   "source": [
    "#Выдаёт линейную систему, решение которой минимизирует сумму квадратов отклонений\n",
    "def MNK_mat(A, f):\n",
    "    return (np.transpose(A)@A, np.transpose(A)@f)\n",
    "#Доверяем решение линейной системы python, вообще \n",
    "# можно использовать итерационные методы\n",
    "def MNK_py(A, f):\n",
    "    return np.linalg.solve(MNK_mat(A, f)[0], MNK_mat(A, f)[1])"
   ]
  },
  {
   "cell_type": "markdown",
   "metadata": {},
   "source": [
    "$\\textbf{Интерполяция данных многочленом}$"
   ]
  },
  {
   "cell_type": "code",
   "execution_count": 29,
   "metadata": {},
   "outputs": [],
   "source": [
    "def SimplePolynomialInterpolation(x, y):\n",
    "    A = np.array([[x[j]**i for i in range(len(y))] for j in range(len(x))])\n",
    "    return np.linalg.solve(A, y)"
   ]
  },
  {
   "cell_type": "code",
   "execution_count": 30,
   "metadata": {},
   "outputs": [],
   "source": [
    "def Poly(P, x):\n",
    "    S = 0\n",
    "    for i in range(len(P)):\n",
    "        S+= P[i]*x**i\n",
    "    return S"
   ]
  },
  {
   "cell_type": "markdown",
   "metadata": {},
   "source": [
    "$\\textbf{Интерполяция данных обобщёнными многочленами}$"
   ]
  },
  {
   "cell_type": "code",
   "execution_count": 66,
   "metadata": {},
   "outputs": [
    {
     "ename": "SyntaxError",
     "evalue": "invalid syntax (<ipython-input-66-d9e99b698964>, line 5)",
     "output_type": "error",
     "traceback": [
      "\u001b[0;36m  File \u001b[0;32m\"<ipython-input-66-d9e99b698964>\"\u001b[0;36m, line \u001b[0;32m5\u001b[0m\n\u001b[0;31m    A = np.array([[disc_scal(i(P, k[l]), i(P, k[j]), X) for j in range(len(k))] for l in range(len(k))])\u001b[0m\n\u001b[0m    ^\u001b[0m\n\u001b[0;31mSyntaxError\u001b[0m\u001b[0;31m:\u001b[0m invalid syntax\n"
     ]
    }
   ],
   "source": [
    "#Не протестирована\n",
    "#Здесь P - семейство функций, по первому индексу (целое число), выдающий функцию с данным номером, а по второму значение функции\n",
    "def QPolyInterpolation (P, k, X, Y):\n",
    "    print((i(P, k[0])(X[0]))\n",
    "    A = np.array([[disc_scal(i(P, k[l]), i(P, k[j]), X) for j in range(len(k))] for l in range(len(k))])\n",
    "    PS = np.array([[P[i][X[j]] for j in range(len(X))] for j in range(len(k))])\n",
    "    F = PS@Y\n",
    "    return LA.solve(A, F)"
   ]
  },
  {
   "cell_type": "code",
   "execution_count": 81,
   "metadata": {},
   "outputs": [
    {
     "data": {
      "text/plain": [
       "1.0"
      ]
     },
     "execution_count": 81,
     "metadata": {},
     "output_type": "execute_result"
    }
   ],
   "source": [
    "#Example:\n",
    "def P(k, x):\n",
    "    return k*x\n",
    "def Q(k, x):\n",
    "    return x/k\n",
    "Y = np.array([1., (3.**0.5)/2., 0.5])\n",
    "X = np.array([0., 3.14/6, 3.14/3])\n",
    "K = np.array([0, 1, 2])\n",
    "f = i(Q, 3)\n",
    "h = i(P, 3)"
   ]
  },
  {
   "cell_type": "markdown",
   "metadata": {},
   "source": [
    "Определение функции:"
   ]
  },
  {
   "cell_type": "code",
   "execution_count": 29,
   "metadata": {},
   "outputs": [
    {
     "ename": "SyntaxError",
     "evalue": "invalid syntax (<ipython-input-29-71f2c28425b0>, line 1)",
     "output_type": "error",
     "traceback": [
      "\u001b[0;36m  File \u001b[0;32m\"<ipython-input-29-71f2c28425b0>\"\u001b[0;36m, line \u001b[0;32m1\u001b[0m\n\u001b[0;31m    def f:\u001b[0m\n\u001b[0m         ^\u001b[0m\n\u001b[0;31mSyntaxError\u001b[0m\u001b[0;31m:\u001b[0m invalid syntax\n"
     ]
    }
   ],
   "source": [
    "def f:\n",
    "    #Здесь надо написать функцию\n",
    "def df:\n",
    "    #Здесь надо написать её производную"
   ]
  },
  {
   "cell_type": "code",
   "execution_count": 59,
   "metadata": {},
   "outputs": [
    {
     "data": {
      "text/plain": [
       "-0.7596879128588213"
      ]
     },
     "execution_count": 59,
     "metadata": {},
     "output_type": "execute_result"
    }
   ],
   "source": [
    "def i(f, k):\n",
    "    def g(x):\n",
    "        return f(k, x)\n",
    "    return g\n",
    "def m(a,b):\n",
    "    return np.cos(a*b)\n",
    "h = i(m, 5)\n",
    "h(3)"
   ]
  },
  {
   "cell_type": "markdown",
   "metadata": {},
   "source": [
    "$\\textbf{Метод дихотомии:}$"
   ]
  },
  {
   "cell_type": "code",
   "execution_count": 85,
   "metadata": {},
   "outputs": [
    {
     "name": "stdout",
     "output_type": "stream",
     "text": [
      "5.1872320277721595   -3.79363207514416e-13\n"
     ]
    }
   ],
   "source": [
    "def dych (a, b, f, k):\n",
    "    x1 = a\n",
    "    x2 = b\n",
    "    for i in range(k):\n",
    "        if(f(x1)*f((x1 + x2)/2) < 0):\n",
    "            x2 = (x1 + x2)/2\n",
    "        else:\n",
    "            x1 = (x1 + x2)/2\n",
    "    return x1"
   ]
  },
  {
   "cell_type": "code",
   "execution_count": null,
   "metadata": {},
   "outputs": [],
   "source": [
    "def dych (a, b, f, k):\n",
    "    x1 = a\n",
    "    x2 = b\n",
    "    for i in range(k):\n",
    "        if(f(x1)*f((x1 + x2)/2) < 0):\n",
    "            x2 = (x1 + x2)/2\n",
    "        else:\n",
    "            x1 = (x1 + x2)/2\n",
    "    return x1"
   ]
  },
  {
   "cell_type": "code",
   "execution_count": null,
   "metadata": {},
   "outputs": [],
   "source": [
    "#Пример:\n",
    "def f(x):\n",
    "    return (x - 3)*np.cos(x) - 1\n",
    "y = dych(3*np.pi/2, 2*np.pi, f, 40)\n",
    "print(y, \" \", f(y))"
   ]
  },
  {
   "cell_type": "markdown",
   "metadata": {},
   "source": [
    "$\\textbf{Метод простой итерации:}$"
   ]
  },
  {
   "cell_type": "code",
   "execution_count": null,
   "metadata": {},
   "outputs": [],
   "source": [
    "def f:\n",
    "    #Здесь надо написать функцию\n",
    "def df:\n",
    "    #Здесь надо написать её производную\n",
    "    \n",
    "    \n",
    "def MPI(func, lambd, x, k, say = 0):\n",
    "    for i in range(k):\n",
    "        x = x - lambd(x)*func(x)\n",
    "        if(say != 0):\n",
    "            print (k, \"th iteration, x is \", x)\n",
    "    return x\n",
    "\n"
   ]
  },
  {
   "cell_type": "markdown",
   "metadata": {},
   "source": [
    "$\\textbf{Интерполяционный многочлен в форме Лагранжа.}$\n",
    "\n",
    "Построение многочлена равного $\\delta_{ij}$ на наборе точек\\\\\n",
    "В форме Лагранжа:\\\\\n",
    "$\\{x_j\\}$:\\\\\n",
    "$l_i (x) = \\frac{(x - x_0)...(x - x_{i - 1})(x - x_{i + 1})...(x - x_k)}{(x_i - x_0)...(x_i - x_{i-1})(x - x_{i+1})...(x - x_k)}$\n",
    "\n",
    "В форме Ньютона:\\\\\n",
    "Вычисляем рекурсивно для p-ого порядка:\\\\\n",
    "\n",
    "$p = 0: f(x_k)$\n",
    "\n",
    "$f(x_n, ..., x_{n + p}) = \\frac{f(x_{n + 1},..., x_{n + p}) - f(x_{n},..., x_{n + p - 1})}{x_{n + p} - x_n}$\n",
    "\n",
    "Можно записать этот коэффициент в виде:\n",
    "\n",
    "$f(x_n, ..., x_{n+p}) = \\sum_{n}^{n+p}\\frac{f(x_j)}{\\Pi_{i = n\\\\ i\\neq j}^{n+p}(x_j - x_i)}$\n",
    "\n",
    "Тогда интерполяционный многочлен равен:\n",
    "$P(x) = f(x_0) + f(x_0, x_1)(x - x_0) + f(x_0, x_1, x_2)(x - x_0)(x - x_1) + ... + f(x_0, x_1, ..., x_n)(x - x_0)...(x - x_{n-1})$"
   ]
  },
  {
   "cell_type": "markdown",
   "metadata": {},
   "source": [
    "x = np.array([-2.,0.,2., 4.])\n",
    "y = np.array([0., -2., 4., 20.])\n",
    "print(Poly(SimplePolynomialInterpolation(x, y), 5))\n",
    "C = Polynomial(lagrange(x,y)).coef\n",
    "np.polyval(C, 5)"
   ]
  },
  {
   "cell_type": "markdown",
   "metadata": {},
   "source": [
    "$\\textbf{Формула Ньютона - Котеса}$\n",
    "\n",
    "$\\int_{a}^{b} f(x)dx= \\sum_{i = 0}^{n - 1} f(\\xi_i)(x_{i + 1} - x_{i})$\n",
    "\n",
    "$\\xi_i = \\frac{x_{i+1} - x_{i}}{2}$\n",
    "\n"
   ]
  },
  {
   "cell_type": "code",
   "execution_count": 27,
   "metadata": {},
   "outputs": [],
   "source": [
    "def SimInt (X, Y):\n",
    "    S = 0.\n",
    "    for i in range(len(X) - 1):\n",
    "        S += (Y[i] + Y[i + 1])*(X[i + 1] - X[i])/2\n",
    "#        print((Y[i] + Y[i+1])*(X[i + 1] - X[i])/2)\n",
    "    return S"
   ]
  },
  {
   "cell_type": "markdown",
   "metadata": {},
   "source": [
    "\n",
    "$\\textbf{Формула трапеции}$\n",
    "\n",
    "$\\int_{a}^{b} f(x)dx= \\sum_{i = 0}^{n - 1} \\frac{(f(x_i) + f(x_{i + 1})}{2}(x_{i + 1} - x_{i})$\n",
    "\n",
    "$\\xi_i = \\frac{x_{i+1} - x_{i}}{2}$"
   ]
  },
  {
   "cell_type": "code",
   "execution_count": 7,
   "metadata": {},
   "outputs": [
    {
     "data": {
      "text/plain": [
       "-2.746236242492604e-14"
      ]
     },
     "execution_count": 7,
     "metadata": {},
     "output_type": "execute_result"
    }
   ],
   "source": [
    "def TrapInt (X, Y):\n",
    "    S = 0.\n",
    "    for i in range(len(X) - 1):\n",
    "        S += (Y[i] + Y[i + 1])*(X[i + 1] - X[i])/2\n",
    "#        print((Y[i] + Y[i+1])*(X[i + 1] - X[i])/2)\n",
    "    return S\n",
    "X = np.array([np.pi + np.pi*n/70 for n in range(71)])\n",
    "Y = np.array([X[i]**2*np.sin(70*X[i]) for i in range(71)])\n",
    "TrapInt(X,Y)\n"
   ]
  },
  {
   "cell_type": "markdown",
   "metadata": {},
   "source": [
    "$\\textbf{Квадратуры Гаусса}$\n",
    "$\\int_{a}^{b} f(x)dx = \\sum_{i = 1}^{n}c_i f(x_i)\n",
    "\n",
    "$\\{c_i\\}$ - веса квадратур (n штук)\n",
    "\n",
    "$\\{x_i\\}$ - узлы квадратур (n штук)\n",
    "\n",
    "Требуем, чтобы формула была точна для многочленов как можно большей степени\n",
    "\n",
    "$\\frac{b^k - a^k}{k + 1} = \\sum_{i = 1}^{n} c_i (x_i)^k$"
   ]
  },
  {
   "cell_type": "code",
   "execution_count": 29,
   "metadata": {},
   "outputs": [
    {
     "data": {
      "text/plain": [
       "0.7847469999999999"
      ]
     },
     "execution_count": 29,
     "metadata": {},
     "output_type": "execute_result"
    }
   ],
   "source": [
    "X = np.array([0.000, 0.125, 0.25, 0.375, 0.5, 0.625, 0.750, 0.875, 1.000], float)\n",
    "Y = np.array([1.0000, 0.984615, 0.941176, 0.876712, 0.8, 0.719101, 0.64, 0.566372, 0.5], float)\n",
    "TrapInt(X,Y)"
   ]
  },
  {
   "cell_type": "markdown",
   "metadata": {},
   "source": [
    "$\\textbf{Формула Эйлера-Маклорена}$\n",
    "$\\int_{a}^{b}f(x)dx = \\sum_{i = 0}^{n}(\\frac{(f(x_i) + f(x_{i + 1}))}{2}(x_{i + 1} - x_i) - \\frac{(x_{i+1} - x_{i})^2}{2}(f'(x_{i+1}) - f'(x_{i}))$"
   ]
  },
  {
   "cell_type": "code",
   "execution_count": 23,
   "metadata": {},
   "outputs": [],
   "source": [
    "def EuMac(X , Y, U):\n",
    "    S = 0.\n",
    "    for i in range(len(X) - 1):\n",
    "        S += (Y[i] + Y[i + 1])*(X[i + 1] - X[i])/2 - ((X[i + 1] - X[i])**2)*(U[i + 1] - U[i])/2\n",
    "        #print((Y[i] + Y[i+1])*(X[i + 1] - X[i])/2)\n",
    "    return S\n"
   ]
  },
  {
   "cell_type": "code",
   "execution_count": null,
   "metadata": {},
   "outputs": [],
   "source": []
  },
  {
   "cell_type": "code",
   "execution_count": null,
   "metadata": {},
   "outputs": [],
   "source": [
    "A = np.array([i for i in range(1, 5, 1)])"
   ]
  },
  {
   "cell_type": "code",
   "execution_count": null,
   "metadata": {},
   "outputs": [],
   "source": []
  },
  {
   "cell_type": "code",
   "execution_count": 82,
   "metadata": {},
   "outputs": [
    {
     "data": {
      "text/plain": [
       "3.141592653589793"
      ]
     },
     "execution_count": 82,
     "metadata": {},
     "output_type": "execute_result"
    }
   ],
   "source": [
    "np.pi"
   ]
  },
  {
   "cell_type": "code",
   "execution_count": 86,
   "metadata": {
    "scrolled": true
   },
   "outputs": [
    {
     "name": "stdout",
     "output_type": "stream",
     "text": [
      "5.497787143782138   0.7662022273289273\n",
      "6.211892102462183   2.20373298343589\n",
      "8.824514409855485   -5.8063122571965815\n",
      "9.992449570685087   -6.895719977107204\n",
      "7.970928677523477   -1.5800112020068782\n",
      "8.085699306826772   -2.167928947495745\n",
      "8.311193232378544   -3.344614727682157\n",
      "8.761464843809403   -5.539784085754229\n",
      "9.808591485364236   -7.313221326843433\n",
      "5.9170583323806225   1.7237183174266208\n",
      "7.29404156347992   1.2807175752732407\n",
      "6.560019186896914   2.4244735749752566\n",
      "-302.8314621059727   -100.74721192660357\n",
      "-302.4860551929997   -192.5253963478483\n",
      "-301.67917084352246   -304.54592441170576\n",
      "-289.6611916269137   -236.670951603228\n",
      "-288.2966951014551   -218.10004984224975\n",
      "-289.4102280177436   -272.1474489723428\n",
      "-286.91206430380066   148.96419056351135\n",
      "-286.30638109215323   262.9911716376551\n",
      "-284.05846184914566   -73.59618932569732\n",
      "-283.79682965783036   -142.83250162218002\n",
      "-283.22670907688234   -254.4347383338818\n",
      "-281.3088265487748   -39.626927570567446\n",
      "-281.44589455372875   -77.78916943076482\n",
      "-281.7259887816878   -150.6582897967562\n",
      "-282.34250794115667   -263.7254376753888\n",
      "-284.6829071723808   102.70113885013237\n",
      "-285.0688398617627   196.34835396096338\n",
      "-286.0062027783398   285.88363812896256\n",
      "-277.56091219163386   -128.07160726216608\n",
      "-277.0519773962673   -233.42201457667073\n",
      "-275.55638113594625   -173.32905715140092\n",
      "-276.3415830640354   -278.380257566886\n",
      "-284.49093793035877   49.56479723840686\n",
      "-284.6694953111093   99.08828556999971\n",
      "-285.0401320044226   190.22444522022153\n",
      "-285.925138483232   287.691631265929\n",
      "-258.7272666842692   -115.81404033622344\n",
      "-258.238198950275   -212.45621176699672\n"
     ]
    }
   ],
   "source": [
    "y = 7*np.pi/4\n",
    "for i in range(40):\n",
    "    print(y, ' ', (y-3)*np.cos(y) - 1)\n",
    "    y = y + (y-3)*np.cos(y)/(np.cos(y) - (y-3)*np.sin(y))"
   ]
  },
  {
   "cell_type": "code",
   "execution_count": null,
   "metadata": {},
   "outputs": [],
   "source": []
  }
 ],
 "metadata": {
  "kernelspec": {
   "display_name": "Python 3",
   "language": "python",
   "name": "python3"
  },
  "language_info": {
   "codemirror_mode": {
    "name": "ipython",
    "version": 3
   },
   "file_extension": ".py",
   "mimetype": "text/x-python",
   "name": "python",
   "nbconvert_exporter": "python",
   "pygments_lexer": "ipython3",
   "version": "3.7.3"
  }
 },
 "nbformat": 4,
 "nbformat_minor": 4
}
