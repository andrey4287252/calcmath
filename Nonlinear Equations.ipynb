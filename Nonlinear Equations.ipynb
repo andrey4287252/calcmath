{
 "cells": [
  {
   "cell_type": "code",
   "execution_count": 4,
   "metadata": {},
   "outputs": [],
   "source": [
    "import numpy as np\n",
    "import pandas as pd\n",
    "import functools\n",
    "import math\n",
    "import fractions\n",
    "import itertools as it"
   ]
  },
  {
   "cell_type": "markdown",
   "metadata": {},
   "source": [
    "$\\textbf{Метод простой итерации:}$"
   ]
  },
  {
   "cell_type": "code",
   "execution_count": 36,
   "metadata": {},
   "outputs": [],
   "source": [
    "#def f:\n",
    "    #Здесь надо написать функцию\n",
    "#def df:\n",
    "    #Здесь надо написать её производную\n",
    "    \n",
    "def CanonicalMPI(func, x, k, say = 0):\n",
    "    for i in range(k):\n",
    "        if(say != 0):\n",
    "            print (i, \"th iteration, x is \", x)\n",
    "        x = func(x)\n",
    "    if(say != 0):\n",
    "            print (k, \"th iteration, x is \", x)\n",
    "    return x\n",
    "    \n",
    "def MPI(func, lambd, x, k, say = 0):\n",
    "    for i in range(k):\n",
    "        x = x - lambd(x)*func(x)\n",
    "        if(say != 0):\n",
    "            print (i, \"th iteration, x is \", x)\n",
    "    if(say != 0):\n",
    "            print (k, \"th iteration, x is \", x)\n",
    "    return x"
   ]
  },
  {
   "cell_type": "code",
   "execution_count": 37,
   "metadata": {},
   "outputs": [
    {
     "name": "stdout",
     "output_type": "stream",
     "text": [
      "0 th iteration, x is  2\n",
      "1 th iteration, x is  0.9092974268256817\n",
      "2 th iteration, x is  0.7890723435728884\n",
      "3 th iteration, x is  0.7097000402345258\n"
     ]
    },
    {
     "data": {
      "text/plain": [
       "0.7097000402345258"
      ]
     },
     "execution_count": 37,
     "metadata": {},
     "output_type": "execute_result"
    }
   ],
   "source": [
    "CanonicalMPI(np.sin,2, 3,1)"
   ]
  },
  {
   "cell_type": "code",
   "execution_count": null,
   "metadata": {},
   "outputs": [],
   "source": []
  },
  {
   "cell_type": "markdown",
   "metadata": {},
   "source": [
    "$\\textbf{Теорема:}$\n",
    "Пусть функция f липшицева с константой $q\\leq 1$ на некоторой окрестности точки $x_0$, тогда в этой окрестности МПИ сходится со скоростью:\n",
    "\n",
    "$|x^{(n)} - x^*| < q^n|x^{(0)} - x^*|$\n",
    "\n",
    "$|x^{(n)} - x^*| < \\frac{q^n}{1 - q}|x^{(1)} - x^{(0)}|$"
   ]
  },
  {
   "cell_type": "markdown",
   "metadata": {},
   "source": [
    "$\\textbf{Метод дихотомии:}$\n",
    "\n",
    "(Поиск нуля функции)"
   ]
  },
  {
   "cell_type": "code",
   "execution_count": 63,
   "metadata": {},
   "outputs": [],
   "source": [
    "def dych (f, a, b, k, say = 0):\n",
    "    x1 = a\n",
    "    x2 = b\n",
    "    for i in range(k):\n",
    "        if(f(x1)*f((x1 + x2)/2) < 0):\n",
    "            x2 = (x1 + x2)/2\n",
    "        else:\n",
    "            x1 = (x1 + x2)/2\n",
    "        if(say != 0):\n",
    "            print (i, \"th iteration, x is \", x1)\n",
    "    if(say != 0):\n",
    "        print (k, \"th iteration, x is \", x1)\n",
    "    return x1"
   ]
  },
  {
   "cell_type": "code",
   "execution_count": 64,
   "metadata": {},
   "outputs": [
    {
     "ename": "TypeError",
     "evalue": "'float' object is not callable",
     "output_type": "error",
     "traceback": [
      "\u001b[0;31m---------------------------------------------------------------------------\u001b[0m",
      "\u001b[0;31mTypeError\u001b[0m                                 Traceback (most recent call last)",
      "\u001b[0;32m<ipython-input-64-0ad19543e6cd>\u001b[0m in \u001b[0;36m<module>\u001b[0;34m\u001b[0m\n\u001b[1;32m      2\u001b[0m \u001b[0;32mdef\u001b[0m \u001b[0mf\u001b[0m\u001b[0;34m(\u001b[0m\u001b[0mx\u001b[0m\u001b[0;34m)\u001b[0m\u001b[0;34m:\u001b[0m\u001b[0;34m\u001b[0m\u001b[0;34m\u001b[0m\u001b[0m\n\u001b[1;32m      3\u001b[0m     \u001b[0;32mreturn\u001b[0m \u001b[0;34m(\u001b[0m\u001b[0mx\u001b[0m \u001b[0;34m-\u001b[0m \u001b[0;36m3\u001b[0m\u001b[0;34m)\u001b[0m\u001b[0;34m*\u001b[0m\u001b[0mnp\u001b[0m\u001b[0;34m.\u001b[0m\u001b[0mcos\u001b[0m\u001b[0;34m(\u001b[0m\u001b[0mx\u001b[0m\u001b[0;34m)\u001b[0m \u001b[0;34m-\u001b[0m \u001b[0;36m1\u001b[0m\u001b[0;34m\u001b[0m\u001b[0;34m\u001b[0m\u001b[0m\n\u001b[0;32m----> 4\u001b[0;31m \u001b[0my\u001b[0m \u001b[0;34m=\u001b[0m \u001b[0mdych\u001b[0m\u001b[0;34m(\u001b[0m\u001b[0;36m3\u001b[0m\u001b[0;34m*\u001b[0m\u001b[0mnp\u001b[0m\u001b[0;34m.\u001b[0m\u001b[0mpi\u001b[0m\u001b[0;34m/\u001b[0m\u001b[0;36m2\u001b[0m\u001b[0;34m,\u001b[0m \u001b[0;36m2\u001b[0m\u001b[0;34m*\u001b[0m\u001b[0mnp\u001b[0m\u001b[0;34m.\u001b[0m\u001b[0mpi\u001b[0m\u001b[0;34m,\u001b[0m \u001b[0mf\u001b[0m\u001b[0;34m,\u001b[0m \u001b[0;36m40\u001b[0m\u001b[0;34m)\u001b[0m\u001b[0;34m\u001b[0m\u001b[0;34m\u001b[0m\u001b[0m\n\u001b[0m\u001b[1;32m      5\u001b[0m \u001b[0mprint\u001b[0m\u001b[0;34m(\u001b[0m\u001b[0my\u001b[0m\u001b[0;34m,\u001b[0m \u001b[0;34m\" \"\u001b[0m\u001b[0;34m,\u001b[0m \u001b[0mf\u001b[0m\u001b[0;34m(\u001b[0m\u001b[0my\u001b[0m\u001b[0;34m)\u001b[0m\u001b[0;34m)\u001b[0m\u001b[0;34m\u001b[0m\u001b[0;34m\u001b[0m\u001b[0m\n",
      "\u001b[0;32m<ipython-input-63-124f9d579afe>\u001b[0m in \u001b[0;36mdych\u001b[0;34m(f, a, b, k, say)\u001b[0m\n\u001b[1;32m      3\u001b[0m     \u001b[0mx2\u001b[0m \u001b[0;34m=\u001b[0m \u001b[0mb\u001b[0m\u001b[0;34m\u001b[0m\u001b[0;34m\u001b[0m\u001b[0m\n\u001b[1;32m      4\u001b[0m     \u001b[0;32mfor\u001b[0m \u001b[0mi\u001b[0m \u001b[0;32min\u001b[0m \u001b[0mrange\u001b[0m\u001b[0;34m(\u001b[0m\u001b[0mk\u001b[0m\u001b[0;34m)\u001b[0m\u001b[0;34m:\u001b[0m\u001b[0;34m\u001b[0m\u001b[0;34m\u001b[0m\u001b[0m\n\u001b[0;32m----> 5\u001b[0;31m         \u001b[0;32mif\u001b[0m\u001b[0;34m(\u001b[0m\u001b[0mf\u001b[0m\u001b[0;34m(\u001b[0m\u001b[0mx1\u001b[0m\u001b[0;34m)\u001b[0m\u001b[0;34m*\u001b[0m\u001b[0mf\u001b[0m\u001b[0;34m(\u001b[0m\u001b[0;34m(\u001b[0m\u001b[0mx1\u001b[0m \u001b[0;34m+\u001b[0m \u001b[0mx2\u001b[0m\u001b[0;34m)\u001b[0m\u001b[0;34m/\u001b[0m\u001b[0;36m2\u001b[0m\u001b[0;34m)\u001b[0m \u001b[0;34m<\u001b[0m \u001b[0;36m0\u001b[0m\u001b[0;34m)\u001b[0m\u001b[0;34m:\u001b[0m\u001b[0;34m\u001b[0m\u001b[0;34m\u001b[0m\u001b[0m\n\u001b[0m\u001b[1;32m      6\u001b[0m             \u001b[0mx2\u001b[0m \u001b[0;34m=\u001b[0m \u001b[0;34m(\u001b[0m\u001b[0mx1\u001b[0m \u001b[0;34m+\u001b[0m \u001b[0mx2\u001b[0m\u001b[0;34m)\u001b[0m\u001b[0;34m/\u001b[0m\u001b[0;36m2\u001b[0m\u001b[0;34m\u001b[0m\u001b[0;34m\u001b[0m\u001b[0m\n\u001b[1;32m      7\u001b[0m         \u001b[0;32melse\u001b[0m\u001b[0;34m:\u001b[0m\u001b[0;34m\u001b[0m\u001b[0;34m\u001b[0m\u001b[0m\n",
      "\u001b[0;31mTypeError\u001b[0m: 'float' object is not callable"
     ]
    }
   ],
   "source": [
    "#Пример:\n",
    "def f(x):\n",
    "    return (x - 3)*np.cos(x) - 1\n",
    "y = dych(3*np.pi/2, 2*np.pi, f, 40)\n",
    "print(y, \" \", f(y))"
   ]
  },
  {
   "cell_type": "markdown",
   "metadata": {},
   "source": [
    "$\\textbf{Метод секущих с проверкой знаков}$"
   ]
  },
  {
   "cell_type": "code",
   "execution_count": 65,
   "metadata": {},
   "outputs": [],
   "source": [
    "def se(f, a, b, k, say = 0):\n",
    "    x1 = a\n",
    "    x2 = b\n",
    "    for i in range(k):\n",
    "        c = (x1*f(x2) - x2*f(x1))/(f(x2) -  f(x1))\n",
    "        if(f(x1)*f(c) < 0):\n",
    "            x2 = c\n",
    "        else:\n",
    "            x1 = c\n",
    "        if(say != 0):\n",
    "            print (i, \"th iteration, x is \", x1)\n",
    "    if(say != 0):\n",
    "            print (k, \"th iteration, x is \", x1)\n",
    "    return x1"
   ]
  },
  {
   "cell_type": "code",
   "execution_count": 59,
   "metadata": {
    "collapsed": true
   },
   "outputs": [
    {
     "name": "stdout",
     "output_type": "stream",
     "text": [
      "0 th iteration, x is  0.1308183889577046\n",
      "1 th iteration, x is  0.1308183889577046\n",
      "2 th iteration, x is  3.5780945720155552e-06\n",
      "3 th iteration, x is  3.5780945720155552e-06\n",
      "4 th iteration, x is  2.028039441356705e-24\n",
      "5 th iteration, x is  2.028039441356705e-24\n",
      "2.028039441356705e-24\n"
     ]
    }
   ],
   "source": [
    "#Пример:\n",
    "print(se(np.pi/2, -np.pi/10, np.sin, 5, 1))"
   ]
  },
  {
   "cell_type": "markdown",
   "metadata": {},
   "source": [
    "$\\textbf{Метод Ньютона}$"
   ]
  },
  {
   "cell_type": "code",
   "execution_count": 69,
   "metadata": {},
   "outputs": [],
   "source": [
    "def Newt(f, df, x0, k, say = 0):\n",
    "    def tmp(y):\n",
    "        return y - f(y)/df(y)\n",
    "    a = CanonicalMPI(tmp, x0, k, say)\n",
    "    return a"
   ]
  },
  {
   "cell_type": "code",
   "execution_count": 72,
   "metadata": {
    "collapsed": true
   },
   "outputs": [
    {
     "name": "stdout",
     "output_type": "stream",
     "text": [
      "0 th iteration, x is  1\n",
      "1 th iteration, x is  -0.5574077246549021\n",
      "2 th iteration, x is  0.06593645192484066\n",
      "3 th iteration, x is  -9.572191932508134e-05\n",
      "4 th iteration, x is  2.923566201412306e-13\n",
      "5 th iteration, x is  0.0\n",
      "6 th iteration, x is  0.0\n",
      "7 th iteration, x is  0.0\n",
      "8 th iteration, x is  0.0\n",
      "9 th iteration, x is  0.0\n",
      "10 th iteration, x is  0.0\n"
     ]
    },
    {
     "data": {
      "text/plain": [
       "0.0"
      ]
     },
     "execution_count": 72,
     "metadata": {},
     "output_type": "execute_result"
    }
   ],
   "source": [
    "#Пример\n",
    "Newt(np.sin, np.cos, 1, 10, 1)"
   ]
  }
 ],
 "metadata": {
  "kernelspec": {
   "display_name": "Python 3",
   "language": "python",
   "name": "python3"
  },
  "language_info": {
   "codemirror_mode": {
    "name": "ipython",
    "version": 3
   },
   "file_extension": ".py",
   "mimetype": "text/x-python",
   "name": "python",
   "nbconvert_exporter": "python",
   "pygments_lexer": "ipython3",
   "version": "3.7.3"
  }
 },
 "nbformat": 4,
 "nbformat_minor": 2
}
