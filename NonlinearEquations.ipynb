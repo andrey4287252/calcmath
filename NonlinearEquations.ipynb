{
 "cells": [
  {
   "cell_type": "code",
   "execution_count": 4,
   "metadata": {},
   "outputs": [],
   "source": [
    "import numpy as np\n",
    "import pandas as pd\n",
    "import functools\n",
    "import math\n",
    "import fractions\n",
    "import itertools as it"
   ]
  },
  {
   "cell_type": "markdown",
   "metadata": {},
   "source": [
    "$\\textbf{Метод простой итерации:}$"
   ]
  },
  {
   "cell_type": "code",
   "execution_count": 36,
   "metadata": {},
   "outputs": [],
   "source": [
    "#def f:\n",
    "    #Здесь надо написать функцию\n",
    "#def df:\n",
    "    #Здесь надо написать её производную\n",
    "    \n",
    "def CanonicalMPI(func, x, k, say = 0):\n",
    "    for i in range(k):\n",
    "        if(say != 0):\n",
    "            print (i, \"th iteration, x is \", x)\n",
    "        x = func(x)\n",
    "    if(say != 0):\n",
    "            print (k, \"th iteration, x is \", x)\n",
    "    return x\n",
    "    \n",
    "def MPI(func, lambd, x, k, say = 0):\n",
    "    for i in range(k):\n",
    "        x = x - lambd(x)*func(x)\n",
    "        if(say != 0):\n",
    "            print (i, \"th iteration, x is \", x)\n",
    "    if(say != 0):\n",
    "            print (k, \"th iteration, x is \", x)\n",
    "    return x"
   ]
  },
  {
   "cell_type": "code",
   "execution_count": 37,
   "metadata": {},
   "outputs": [
    {
     "name": "stdout",
     "output_type": "stream",
     "text": [
      "0 th iteration, x is  2\n",
      "1 th iteration, x is  0.9092974268256817\n",
      "2 th iteration, x is  0.7890723435728884\n",
      "3 th iteration, x is  0.7097000402345258\n"
     ]
    },
    {
     "data": {
      "text/plain": [
       "0.7097000402345258"
      ]
     },
     "execution_count": 37,
     "metadata": {},
     "output_type": "execute_result"
    }
   ],
   "source": [
    "CanonicalMPI(np.sin,2, 3,1)"
   ]
  },
  {
   "cell_type": "code",
   "execution_count": null,
   "metadata": {},
   "outputs": [],
   "source": []
  },
  {
   "cell_type": "markdown",
   "metadata": {},
   "source": [
    "$\\textbf{Теорема:}$\n",
    "Пусть функция f липшицева с константой $q\\leq 1$ на некоторой окрестности точки $x_0$, тогда в этой окрестности МПИ сходится со скоростью:\n",
    "\n",
    "$|x^{(n)} - x^*| < q^n|x^{(0)} - x^*|$\n",
    "\n",
    "$|x^{(n)} - x^*| < \\frac{q^n}{1 - q}|x^{(1)} - x^{(0)}|$"
   ]
  },
  {
   "cell_type": "markdown",
   "metadata": {},
   "source": [
    "$\\textbf{Метод дихотомии:}$\n",
    "\n",
    "(Поиск нуля функции)"
   ]
  },
  {
   "cell_type": "code",
   "execution_count": 63,
   "metadata": {},
   "outputs": [],
   "source": [
    "def dych (f, a, b, k, say = 0):\n",
    "    x1 = a\n",
    "    x2 = b\n",
    "    for i in range(k):\n",
    "        if(f(x1)*f((x1 + x2)/2) < 0):\n",
    "            x2 = (x1 + x2)/2\n",
    "        else:\n",
    "            x1 = (x1 + x2)/2\n",
    "        if(say != 0):\n",
    "            print (i, \"th iteration, x is \", x1)\n",
    "    if(say != 0):\n",
    "        print (k, \"th iteration, x is \", x1)\n",
    "    return x1"
   ]
  },
  {
   "cell_type": "code",
   "execution_count": 97,
   "metadata": {
    "collapsed": true
   },
   "outputs": [
    {
     "name": "stdout",
     "output_type": "stream",
     "text": [
      "5.1872320277721595   -3.79363207514416e-13\n"
     ]
    }
   ],
   "source": [
    "#Пример:\n",
    "def f(x):\n",
    "    return (x - 3)*np.cos(x) - 1\n",
    "y = dych(f,3*np.pi/2, 2*np.pi, 40)\n",
    "print(y, \" \", f(y))"
   ]
  },
  {
   "cell_type": "markdown",
   "metadata": {},
   "source": [
    "$\\textbf{Метод секущих с проверкой знаков}$"
   ]
  },
  {
   "cell_type": "code",
   "execution_count": 65,
   "metadata": {},
   "outputs": [],
   "source": [
    "def se(f, a, b, k, say = 0):\n",
    "    x1 = a\n",
    "    x2 = b\n",
    "    for i in range(k):\n",
    "        c = (x1*f(x2) - x2*f(x1))/(f(x2) -  f(x1))\n",
    "        if(f(x1)*f(c) < 0):\n",
    "            x2 = c\n",
    "        else:\n",
    "            x1 = c\n",
    "        if(say != 0):\n",
    "            print (i, \"th iteration, x is \", x1)\n",
    "    if(say != 0):\n",
    "            print (k, \"th iteration, x is \", x1)\n",
    "    return x1"
   ]
  },
  {
   "cell_type": "code",
   "execution_count": 59,
   "metadata": {
    "collapsed": true
   },
   "outputs": [
    {
     "name": "stdout",
     "output_type": "stream",
     "text": [
      "0 th iteration, x is  0.1308183889577046\n",
      "1 th iteration, x is  0.1308183889577046\n",
      "2 th iteration, x is  3.5780945720155552e-06\n",
      "3 th iteration, x is  3.5780945720155552e-06\n",
      "4 th iteration, x is  2.028039441356705e-24\n",
      "5 th iteration, x is  2.028039441356705e-24\n",
      "2.028039441356705e-24\n"
     ]
    }
   ],
   "source": [
    "#Пример:\n",
    "print(se(np.pi/2, -np.pi/10, np.sin, 5, 1))"
   ]
  },
  {
   "cell_type": "markdown",
   "metadata": {},
   "source": [
    "$\\textbf{Метод Ньютона}$"
   ]
  },
  {
   "cell_type": "code",
   "execution_count": 98,
   "metadata": {},
   "outputs": [],
   "source": [
    "def Newt(f, df, x0, k, say = 0):\n",
    "    def tmp(y):\n",
    "        return y - f(y)/df(y)\n",
    "    return CanonicalMPI(tmp, x0, k, say)"
   ]
  },
  {
   "cell_type": "code",
   "execution_count": 99,
   "metadata": {
    "collapsed": true
   },
   "outputs": [
    {
     "name": "stdout",
     "output_type": "stream",
     "text": [
      "0 th iteration, x is  1\n",
      "1 th iteration, x is  -0.5574077246549021\n",
      "2 th iteration, x is  0.06593645192484066\n",
      "3 th iteration, x is  -9.572191932508134e-05\n",
      "4 th iteration, x is  2.923566201412306e-13\n",
      "5 th iteration, x is  0.0\n",
      "6 th iteration, x is  0.0\n",
      "7 th iteration, x is  0.0\n",
      "8 th iteration, x is  0.0\n",
      "9 th iteration, x is  0.0\n",
      "10 th iteration, x is  0.0\n"
     ]
    },
    {
     "data": {
      "text/plain": [
       "0.0"
      ]
     },
     "execution_count": 99,
     "metadata": {},
     "output_type": "execute_result"
    }
   ],
   "source": [
    "#Пример\n",
    "Newt(np.sin, np.cos, 1, 10, 1)"
   ]
  },
  {
   "cell_type": "markdown",
   "metadata": {},
   "source": [
    "$\\textbf{Теорема:}$\n",
    "\n",
    "Пусть f - дважды дифференцируема в окрестности $U(x^*)$ $(f(x^*))$, тогда для итерационного процесса Ньютона:\n",
    "\n",
    "$|x^{(n + 1)} - x^{*}| < q|x^{(n + 1)} - x^{*}|^2$, где $q = \\frac{sup_U\\{|f''(x)|\\}}{sup_U\\{|f'(x)|\\}}$"
   ]
  },
  {
   "cell_type": "markdown",
   "metadata": {},
   "source": [
    "$\\textbf{Многомерное обобщение метода Ньютона}$"
   ]
  },
  {
   "cell_type": "code",
   "execution_count": 102,
   "metadata": {},
   "outputs": [],
   "source": [
    "def HDNewt(f, J, x0, k, say = 0):\n",
    "    def tmp(y):\n",
    "        return y - np.linalg.inv(J(y))@(f(y))\n",
    "    return CanonicalMPI(tmp, x0, k, say)"
   ]
  },
  {
   "cell_type": "markdown",
   "metadata": {},
   "source": [
    "$\\textbf{Методы с третим и четвёртым порядком  сходимости}$"
   ]
  },
  {
   "cell_type": "code",
   "execution_count": 80,
   "metadata": {},
   "outputs": [],
   "source": [
    "#Третий порядок\n",
    "def Third(f, df, ddf, x0, k, say = 0):\n",
    "    def tmp(y):\n",
    "        return y - f(y)/df(y) - (1/2)*(ddf(y)*(f(y)**2))/(df(y)**3)\n",
    "    a = CanonicalMPI(tmp, x0, k, say)\n",
    "    return a"
   ]
  },
  {
   "cell_type": "code",
   "execution_count": 85,
   "metadata": {
    "collapsed": true
   },
   "outputs": [
    {
     "name": "stdout",
     "output_type": "stream",
     "text": [
      "0 th iteration, x is  0.1\n",
      "1 th iteration, x is  0.0001703648153844866\n",
      "2 th iteration, x is  8.241163135753463e-13\n",
      "3 th iteration, x is  2.798565899116442e-37\n",
      "4 th iteration, x is  1.0959143610045087e-110\n",
      "5 th iteration, x is  0.0\n",
      "6 th iteration, x is  0.0\n",
      "7 th iteration, x is  0.0\n",
      "8 th iteration, x is  0.0\n",
      "9 th iteration, x is  0.0\n",
      "10 th iteration, x is  0.0\n"
     ]
    },
    {
     "data": {
      "text/plain": [
       "0.0"
      ]
     },
     "execution_count": 85,
     "metadata": {},
     "output_type": "execute_result"
    }
   ],
   "source": [
    "#Пример\n",
    "def minussin(x):\n",
    "    return -np.sin(x)\n",
    "Third(np.sin, np.cos, minussin, 0.1, 10, 1)"
   ]
  },
  {
   "cell_type": "code",
   "execution_count": 88,
   "metadata": {},
   "outputs": [],
   "source": [
    "#Четвёртый порядок\n",
    "#Не проверен! (С формулой что-то не так по размерности)\n",
    "def Fourth(f, df, ddf, x0, k, say = 0):\n",
    "    def tmp(y):\n",
    "        return y - f(y)/df(y) - (1/2)*(ddf(y)*(f(y)**2))/(df(y)**3) - (1/2)*((ddf(y)**2)*(f(y)**4))/(df(y)**5) + (1/6)*((ddf(y))*(f(y)**3))/(df(y)**7)\n",
    "    a = CanonicalMPI(tmp, x0, k, say)\n",
    "    return a"
   ]
  },
  {
   "cell_type": "code",
   "execution_count": 89,
   "metadata": {
    "collapsed": true
   },
   "outputs": [
    {
     "name": "stdout",
     "output_type": "stream",
     "text": [
      "0 th iteration, x is  0.1\n",
      "1 th iteration, x is  0.00015271063226540964\n",
      "2 th iteration, x is  5.934583908936744e-13\n",
      "3 th iteration, x is  1.045059045009e-37\n",
      "4 th iteration, x is  5.706797859038284e-112\n",
      "5 th iteration, x is  0.0\n",
      "6 th iteration, x is  0.0\n",
      "7 th iteration, x is  0.0\n",
      "8 th iteration, x is  0.0\n",
      "9 th iteration, x is  0.0\n",
      "10 th iteration, x is  0.0\n"
     ]
    },
    {
     "data": {
      "text/plain": [
       "0.0"
      ]
     },
     "execution_count": 89,
     "metadata": {},
     "output_type": "execute_result"
    }
   ],
   "source": [
    "#Пример\n",
    "Fourth(np.sin, np.cos, minussin, 0.1, 10, 1)"
   ]
  }
 ],
 "metadata": {
  "kernelspec": {
   "display_name": "Python 3",
   "language": "python",
   "name": "python3"
  },
  "language_info": {
   "codemirror_mode": {
    "name": "ipython",
    "version": 3
   },
   "file_extension": ".py",
   "mimetype": "text/x-python",
   "name": "python",
   "nbconvert_exporter": "python",
   "pygments_lexer": "ipython3",
   "version": "3.7.3"
  }
 },
 "nbformat": 4,
 "nbformat_minor": 2
}
