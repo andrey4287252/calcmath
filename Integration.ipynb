{
 "cells": [
  {
   "cell_type": "code",
   "execution_count": 2,
   "metadata": {},
   "outputs": [],
   "source": [
    "import numpy as np\n",
    "import pandas as pd\n",
    "import functools\n",
    "import math\n",
    "import fractions\n",
    "import itertools as it"
   ]
  },
  {
   "cell_type": "markdown",
   "metadata": {},
   "source": [
    "$\\textbf{Формула Ньютона - Котеса}$\n",
    "\n",
    "$\\int_{a}^{b} f(x)dx= \\sum_{i = 0}^{n - 1} f(\\xi_i)(x_{i + 1} - x_{i})$\n",
    "\n",
    "$\\xi_i = \\frac{x_{i+1} - x_{i}}{2}$"
   ]
  },
  {
   "cell_type": "markdown",
   "metadata": {},
   "source": [
    "\n",
    "$\\textbf{Формула трапеции}$\n",
    "\n",
    "$\\int_{a}^{b} f(x)dx= \\sum_{i = 0}^{n - 1} \\frac{(f(x_i) + f(x_{i + 1})}{2}(x_{i + 1} - x_{i})$\n",
    "\n",
    "$\\xi_i = \\frac{x_{i+1} - x_{i}}{2}$"
   ]
  },
  {
   "cell_type": "code",
   "execution_count": 3,
   "metadata": {},
   "outputs": [],
   "source": [
    "def TrapInt (X, Y):\n",
    "    S = 0.\n",
    "    for i in range(len(X) - 1):\n",
    "        S += (Y[i] + Y[i + 1])*(X[i + 1] - X[i])/2\n",
    "#        print((Y[i] + Y[i+1])*(X[i + 1] - X[i])/2)\n",
    "    return S"
   ]
  },
  {
   "cell_type": "markdown",
   "metadata": {},
   "source": [
    "$\\textbf{Квадратуры Гаусса}$\n",
    "$\\int_{a}^{b} f(x)dx = \\sum_{i = 1}^{n}c_i f(x_i)\n",
    "\n",
    "$\\{c_i\\}$ - веса квадратур (n штук)\n",
    "\n",
    "$\\{x_i\\}$ - узлы квадратур (n штук)\n",
    "\n",
    "Требуем, чтобы формула была точна для многочленов как можно большей степени\n",
    "\n",
    "$\\frac{b^k - a^k}{k + 1} = \\sum_{i = 1}^{n} c_i (x_i)^k$"
   ]
  },
  {
   "cell_type": "markdown",
   "metadata": {},
   "source": [
    "$\\textbf{Формула Эйлера-Маклорена}$\n",
    "$\\int_{a}^{b}f(x)dx = \\sum_{i = 0}^{n}(\\frac{(f(x_i) + f(x_{i + 1}))}{2}(x_{i + 1} - x_i) - \\frac{(x_{i+1} - x_{i})^2}{2}(f'(x_{i+1}) - f'(x_{i}))$"
   ]
  },
  {
   "cell_type": "code",
   "execution_count": 4,
   "metadata": {},
   "outputs": [],
   "source": [
    "def EuMac(X , Y, U):#U - массив значений производной\n",
    "    S = 0.\n",
    "    for i in range(len(X) - 1):\n",
    "        S += (Y[i] + Y[i + 1])*(X[i + 1] - X[i])/2 - ((X[i + 1] - X[i])**2)*(U[i + 1] - U[i])/2\n",
    "        #print((Y[i] + Y[i+1])*(X[i + 1] - X[i])/2)\n",
    "    return S"
   ]
  },
  {
   "cell_type": "markdown",
   "metadata": {},
   "source": [
    "$\\textbf{Вычисление интегралов от функций с особенностями.}$\n",
    "\n",
    "1.Несобственные интегралы 1,2 рода.\n",
    "\n",
    "2.Интегралы от быстроосциллирующих функций\n",
    "\n",
    "Пример:\n",
    "\n",
    "$$I = \\int_0^1\\frac{\\cos(x)}{\\sqrt(x)}dx$$\n",
    "\n",
    "Для интегрирования неограниченных функций комбинируют аналитические и численные методы.\\\\\n",
    "1)Замена переменной\n",
    "\n",
    "$$I = | x = t^2 | = 2\\int_0^1\\cos(t^2)dt$$\n",
    "\n",
    "2)Интегрирование по частям\n",
    "\n",
    "$$I = 2\\sqrt x \\cos(x)|_0^1 + 2\\int_0^1\\sqrt x\\sin(x)dx$$ (Особенность пропала)\n",
    "\n",
    "3)Метод явного выделения особенности Канторовича\n",
    "\n",
    "$$I = \\int_0^1\\frac{\\cos(x)}{\\sqrt(x)}dx = \\int_0^1\\frac{1}{\\sqrt(x)}dx + \\int_0^1\\frac{\\cos(x) - 1}{\\sqrt(x)}dx = 2\\sqrt(x)|_0^1 - 2\\int_0^1\\frac{\\sin^2(\\frac{x}{2})}{\\sqrt x}dx$$\n",
    "\n",
    "4) Разложение в ряд\n",
    "$$I = \\int\\limits_0^{\\delta} \\frac{\\cos x}{\\sqrt{x}} \\, dx + \\int\\limits_{\\delta}^{1} \\frac{\\cos x}{\\sqrt{x}} \\, dx = \\int\\limits_0^{\\delta} \\frac{1 - x^2/2 + x^4/24 + ...}{\\sqrt{x}} \\, dx + \\int\\limits_{\\delta}^{1} \\frac{\\cos x}{\\sqrt{x}} \\, dx$$\n",
    "\n",
    "\n",
    "\n",
    "\n",
    "Задача:\n",
    "Описать алгортм вычисления методом трапеций для заданной функции.\n",
    "\n",
    "$\\int_0^{\\frac{\\pi}{2}}\\ln (\\sin (x))dx$ - с точностью $\\epsilon = 10^{-4}$\n",
    "\n",
    "Решение:\n",
    "\n",
    "$$\\int_0^\\frac{\\pi}{2}\\ln(\\sin(x))dx = \\int_0^{\\frac{\\pi}{2}}\\ln(\\frac{\\sin(x)}{x})dx = (x\\ln(x) - x)|_0^{\\frac{\\pi}{2}} + \\int_0^{\\frac{\\pi}{2}}\\ln(\\frac{\\sin(x)}{x})dx $$ "
   ]
  },
  {
   "cell_type": "code",
   "execution_count": null,
   "metadata": {},
   "outputs": [],
   "source": []
  }
 ],
 "metadata": {
  "kernelspec": {
   "display_name": "Python 3",
   "language": "python",
   "name": "python3"
  },
  "language_info": {
   "codemirror_mode": {
    "name": "ipython",
    "version": 3
   },
   "file_extension": ".py",
   "mimetype": "text/x-python",
   "name": "python",
   "nbconvert_exporter": "python",
   "pygments_lexer": "ipython3",
   "version": "3.7.3"
  }
 },
 "nbformat": 4,
 "nbformat_minor": 2
}
