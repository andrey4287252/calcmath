{
 "cells": [
  {
   "cell_type": "code",
   "execution_count": 5,
   "metadata": {},
   "outputs": [],
   "source": [
    "import numpy as np\n",
    "import pandas as pd\n",
    "import functools\n",
    "import math\n",
    "import fractions\n",
    "import itertools as it\n",
    "import scipy.integrate"
   ]
  },
  {
   "cell_type": "markdown",
   "metadata": {},
   "source": [
    "$\\textbf{Формулы Ньютона - Котеса}$\n",
    "\n",
    "$\\int_{a}^{b} f(x)dx= \\sum_{i = 0}^{n - 1} f(\\xi_i)(x_{i + 1} - x_{i})$\n",
    "\n",
    "$\\xi_i = \\frac{x_{i+1} - x_{i}}{2}$"
   ]
  },
  {
   "cell_type": "markdown",
   "metadata": {},
   "source": [
    "\n",
    "$\\textbf{Формула трапеции}$\n",
    "\n",
    "$\\int_{a}^{b} f(x)dx= \\sum_{i = 0}^{n - 1} \\frac{(f(x_i) + f(x_{i + 1})}{2}(x_{i + 1} - x_{i})$\n",
    "\n",
    "$\\xi_i = \\frac{x_{i+1} - x_{i}}{2}$"
   ]
  },
  {
   "cell_type": "code",
   "execution_count": 6,
   "metadata": {},
   "outputs": [],
   "source": [
    "def TrapInt (X, Y):\n",
    "    S = 0.\n",
    "    for i in range(len(X) - 1):\n",
    "        S += (Y[i] + Y[i + 1])*(X[i + 1] - X[i])/2\n",
    "#        print((Y[i] + Y[i+1])*(X[i + 1] - X[i])/2)\n",
    "    return S"
   ]
  },
  {
   "cell_type": "code",
   "execution_count": 7,
   "metadata": {},
   "outputs": [
    {
     "name": "stdout",
     "output_type": "stream",
     "text": [
      "scipy:  0.6799999999999999\n",
      "TrapInt:  0.6799999999999999\n"
     ]
    }
   ],
   "source": [
    "#Реализация scipy, пример:\n",
    "def f(x):\n",
    "    return x**2\n",
    "X = np.array([-1.0 + i*0.2 for i in range(11)])\n",
    "Y = f(X)\n",
    "print(\"scipy: \", scipy.integrate.trapz(Y, X))\n",
    "print(\"TrapInt: \", TrapInt(X, Y))"
   ]
  },
  {
   "cell_type": "markdown",
   "metadata": {},
   "source": [
    "$\\textbf{Формула Симпсона}$\n",
    "\n",
    "$\\int_a^b f(x)dx \\approx \\sum_{i = 0}^{\\frac{n}{2}}\\frac{h_i}{2}(f_{2i} + 4f(x_{i + \\frac{1}{2}}) + f(x_{i + 1}))$"
   ]
  },
  {
   "cell_type": "code",
   "execution_count": 8,
   "metadata": {
    "scrolled": true
   },
   "outputs": [
    {
     "data": {
      "text/plain": [
       "0.6470653333333349"
      ]
     },
     "execution_count": 8,
     "metadata": {},
     "output_type": "execute_result"
    }
   ],
   "source": [
    "#Пример реализации scipy:\n",
    "f = lambda x: x*x\n",
    "#Или, что тоже самое def f(x): return x**2\n",
    "scipy.integrate.simps(f(np.arange(-1, 1, 0.02)), np.arange(-1, 1, 0.02))"
   ]
  },
  {
   "cell_type": "markdown",
   "metadata": {},
   "source": [
    "$\\textbf{Удобный способ быстро посчитать определённый интеграл}$"
   ]
  },
  {
   "cell_type": "code",
   "execution_count": 9,
   "metadata": {},
   "outputs": [
    {
     "data": {
      "text/plain": [
       "(2.0, 2.220446049250313e-14)"
      ]
     },
     "execution_count": 9,
     "metadata": {},
     "output_type": "execute_result"
    }
   ],
   "source": [
    "scipy.integrate.quad(lambda x: np.sin(x), 0, np.pi)"
   ]
  },
  {
   "cell_type": "markdown",
   "metadata": {},
   "source": [
    "$\\textbf{Квадратуры Гаусса}$\n",
    "$\\int_{a}^{b} f(x)dx = \\sum_{i = 1}^{n}c_i f(x_i)$\n",
    "\n",
    "$\\{c_i\\}$ - веса квадратур (n штук)\n",
    "\n",
    "$\\{x_i\\}$ - узлы квадратур (n штук)\n",
    "\n",
    "Требуем, чтобы формула была точна для многочленов как можно большей степени\n",
    "\n",
    "$\\frac{b^k - a^k}{k + 1} = \\sum_{i = 1}^{n} c_i (x_i)^k$"
   ]
  },
  {
   "cell_type": "markdown",
   "metadata": {},
   "source": [
    "$\\textbf{Формула Эйлера-Маклорена}$\n",
    "$\\int_{a}^{b}f(x)dx = \\sum_{i = 0}^{n}(\\frac{(f(x_i) + f(x_{i + 1}))}{2}(x_{i + 1} - x_i) - \\frac{(x_{i+1} - x_{i})^2}{2}(f'(x_{i+1}) - f'(x_{i}))$"
   ]
  },
  {
   "cell_type": "code",
   "execution_count": 10,
   "metadata": {},
   "outputs": [],
   "source": [
    "def EuMac(X , Y, U):#U - массив значений производной\n",
    "    S = 0.\n",
    "    for i in range(len(X) - 1):\n",
    "        S += (Y[i] + Y[i + 1])*(X[i + 1] - X[i])/2 - ((X[i + 1] - X[i])**2)*(U[i + 1] - U[i])/2\n",
    "        #print((Y[i] + Y[i+1])*(X[i + 1] - X[i])/2)\n",
    "    return S"
   ]
  },
  {
   "cell_type": "markdown",
   "metadata": {},
   "source": [
    "$\\textbf{Экстраполяция Ричардсона}$\n",
    "\n",
    "Пусть происходит приближённое вычисление интеграла с шагом суммирования h и с порядком точности p, то есть:\n",
    "\n",
    "$\\int_{a}^{b}f(x)dx = I(h) + c h^p$\n",
    "\n",
    "Тогда несложно получить:\n",
    "$\\int_a^{b}f(x)dx = I(\\frac{h}{2}) + \\frac{I(\\frac{h}{2}) - I(h)}{2^p - 1} + O(h^{p + 1})$"
   ]
  },
  {
   "cell_type": "code",
   "execution_count": 11,
   "metadata": {},
   "outputs": [],
   "source": [
    "def R(I1, I2, p):\n",
    "    return (I2 - I1)/(2**p - 1)"
   ]
  },
  {
   "cell_type": "markdown",
   "metadata": {},
   "source": [
    "$\\textbf{Процесс Эйткена: Пусть существует порядок p для приближённого интегрирования, тогда для порядка аппроксимации:}$"
   ]
  },
  {
   "cell_type": "markdown",
   "metadata": {},
   "source": [
    "$p = \\frac{1}{2}\\log \\left(\\frac{I_{\\frac{h}{2}} - I_h}{I_{\\frac{h}{4}} - I_{\\frac{h}{2}}}\\right)$\n",
    "\n",
    "Далее I, I2, I4 - $I(h), I(\\frac{h}{2}, I(\\frac{h}{4})$"
   ]
  },
  {
   "cell_type": "code",
   "execution_count": 24,
   "metadata": {},
   "outputs": [],
   "source": [
    "def p(I, I2, I4):\n",
    "    return np.log((I2 - I)/(I4 - I2))/np.log(2)"
   ]
  },
  {
   "cell_type": "code",
   "execution_count": 25,
   "metadata": {},
   "outputs": [],
   "source": [
    "#ch^p\n",
    "def EitDelt(I, I2, I4):\n",
    "    return ((I2 - I)**2)/(2*I2 - I - I4)"
   ]
  },
  {
   "cell_type": "code",
   "execution_count": 26,
   "metadata": {},
   "outputs": [
    {
     "data": {
      "text/plain": [
       "0.5538746041743915"
      ]
     },
     "execution_count": 26,
     "metadata": {},
     "output_type": "execute_result"
    }
   ],
   "source": [
    "EitDelt(-0.0051325,0.386161 ,0.501019)"
   ]
  },
  {
   "cell_type": "code",
   "execution_count": 27,
   "metadata": {},
   "outputs": [
    {
     "data": {
      "text/plain": [
       "1.7683997993184286"
      ]
     },
     "execution_count": 27,
     "metadata": {},
     "output_type": "execute_result"
    }
   ],
   "source": [
    "p(-0.0051325,0.386161 ,0.501019)"
   ]
  },
  {
   "cell_type": "code",
   "execution_count": 28,
   "metadata": {},
   "outputs": [
    {
     "data": {
      "text/plain": [
       "0.539305"
      ]
     },
     "execution_count": 28,
     "metadata": {},
     "output_type": "execute_result"
    }
   ],
   "source": [
    "R(0.386161, 0.501019, 2) + 0.501019"
   ]
  },
  {
   "cell_type": "code",
   "execution_count": 17,
   "metadata": {},
   "outputs": [
    {
     "data": {
      "text/plain": [
       "0.5393055833333332"
      ]
     },
     "execution_count": 17,
     "metadata": {},
     "output_type": "execute_result"
    }
   ],
   "source": [
    "X = np.array([0.+0.25*i for i in range(9)])\n",
    "f = np.array([0., 0.489540, 0.647175, 0.697211, 0.642093, 0.464366, 0.130279, -0.419361, -1.294451])\n",
    "scipy.integrate.simps(f, X)"
   ]
  },
  {
   "cell_type": "code",
   "execution_count": 35,
   "metadata": {},
   "outputs": [],
   "source": [
    "#Функция для вычисления остатка\n",
    "def R(I, h, p):\n",
    "    return (h/2 - I(h))/(2**p - 1)"
   ]
  },
  {
   "cell_type": "markdown",
   "metadata": {},
   "source": [
    "$\\textbf{Вычисление интегралов от функций с особенностями.}$\n",
    "\n",
    "1.Несобственные интегралы 1,2 рода.\n",
    "\n",
    "2.Интегралы от быстроосциллирующих функций\n",
    "\n",
    "Пример:\n",
    "\n",
    "$$I = \\int_0^1\\frac{\\cos(x)}{\\sqrt(x)}dx$$\n",
    "\n",
    "Для интегрирования неограниченных функций комбинируют аналитические и численные методы.\\\\\n",
    "1)Замена переменной\n",
    "\n",
    "$$I = | x = t^2 | = 2\\int_0^1\\cos(t^2)dt$$\n",
    "\n",
    "2)Интегрирование по частям\n",
    "\n",
    "$$I = 2\\sqrt x \\cos(x)|_0^1 + 2\\int_0^1\\sqrt x\\sin(x)dx$$ (Особенность пропала)\n",
    "\n",
    "3)Метод явного выделения особенности Канторовича\n",
    "\n",
    "$$I = \\int_0^1\\frac{\\cos(x)}{\\sqrt(x)}dx = \\int_0^1\\frac{1}{\\sqrt(x)}dx + \\int_0^1\\frac{\\cos(x) - 1}{\\sqrt(x)}dx = 2\\sqrt(x)|_0^1 - 2\\int_0^1\\frac{\\sin^2(\\frac{x}{2})}{\\sqrt x}dx$$\n",
    "\n",
    "4) Разложение в ряд\n",
    "$$I = \\int\\limits_0^{\\delta} \\frac{\\cos x}{\\sqrt{x}} \\, dx + \\int\\limits_{\\delta}^{1} \\frac{\\cos x}{\\sqrt{x}} \\, dx = \\int\\limits_0^{\\delta} \\frac{1 - x^2/2 + x^4/24 + ...}{\\sqrt{x}} \\, dx + \\int\\limits_{\\delta}^{1} \\frac{\\cos x}{\\sqrt{x}} \\, dx$$\n",
    "\n",
    "\n",
    "\n",
    "\n",
    "Задача:\n",
    "Описать алгортм вычисления методом трапеций для заданной функции.\n",
    "\n",
    "$\\int_0^{\\frac{\\pi}{2}}\\ln (\\sin (x))dx$ - с точностью $\\epsilon = 10^{-4}$\n",
    "\n",
    "Решение:\n",
    "\n",
    "$$\\int_0^\\frac{\\pi}{2}\\ln(\\sin(x))dx = \\int_0^{\\frac{\\pi}{2}}\\ln(\\frac{\\sin(x)}{x})dx = (x\\ln(x) - x)|_0^{\\frac{\\pi}{2}} + \\int_0^{\\frac{\\pi}{2}}\\ln(\\frac{\\sin(x)}{x})dx $$ "
   ]
  },
  {
   "cell_type": "code",
   "execution_count": null,
   "metadata": {},
   "outputs": [],
   "source": []
  }
 ],
 "metadata": {
  "kernelspec": {
   "display_name": "Python 3",
   "language": "python",
   "name": "python3"
  },
  "language_info": {
   "codemirror_mode": {
    "name": "ipython",
    "version": 3
   },
   "file_extension": ".py",
   "mimetype": "text/x-python",
   "name": "python",
   "nbconvert_exporter": "python",
   "pygments_lexer": "ipython3",
   "version": "3.7.3"
  }
 },
 "nbformat": 4,
 "nbformat_minor": 2
}
