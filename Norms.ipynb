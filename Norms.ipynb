{
 "cells": [
  {
   "cell_type": "code",
   "execution_count": 37,
   "metadata": {},
   "outputs": [],
   "source": [
    "import numpy as np"
   ]
  },
  {
   "cell_type": "code",
   "execution_count": 42,
   "metadata": {},
   "outputs": [],
   "source": [
    "from scipy import linalg as spLA"
   ]
  },
  {
   "cell_type": "code",
   "execution_count": 3,
   "metadata": {},
   "outputs": [],
   "source": [
    "from numpy import linalg as LA"
   ]
  },
  {
   "cell_type": "markdown",
   "metadata": {},
   "source": [
    "Число обусловленностей:\n",
    "<br>\n",
    "$\\mu = \\|A\\| \\|A^{-1}\\|$\n",
    "<br>\n",
    "Лучшая оценка:\n",
    "<br>\n",
    "$1 \\leq \\nu(A,f) \\leq \\mu$\n",
    "<br>"
   ]
  },
  {
   "cell_type": "markdown",
   "metadata": {},
   "source": [
    "Нормы (в скобках даны их названия при вызове их в numpy)\n",
    "<br>\n",
    "Кубическая(np.inf):\n",
    "<br>\n",
    "$\\|u\\|_1 = \\max_{j}|u_j|$\n",
    "<br>\n",
    "$\\|A\\|_1 = \\max_{i}\\sum_{j}|a_{ij}|$\n",
    "<br>\n",
    "Октаэдрическая(1):\n",
    "<br>\n",
    "$\\|u\\|_2 = \\sum_{j}|u_j|$\n",
    "<br>\n",
    "$\\|A\\|_2 = \\max_{j}\\sum_{i}|a_{ij}|$\n",
    "<br>\n",
    "Фробениуса, евклидова(2):\n",
    "<br>\n",
    "$\\|u\\|_3 = \\sqrt{\\sum_{i,j} |a_{ij}|^2}$\n",
    "<br>\n",
    "$\\|A\\|_3 = \\sqrt{\\max_{j}|\\lambda_{j}(A^{*}A)|}$"
   ]
  },
  {
   "cell_type": "markdown",
   "metadata": {},
   "source": [
    "Вычисление всех норм тут:"
   ]
  },
  {
   "cell_type": "code",
   "execution_count": 25,
   "metadata": {},
   "outputs": [
    {
     "name": "stdout",
     "output_type": "stream",
     "text": [
      "Кубическая: 17.0\n",
      "Октаэдрическая: 30.0\n",
      "Фробениуса: 19.339079605813716\n"
     ]
    }
   ],
   "source": [
    "#Вектор:\n",
    "u = np.array([-6,17,7])\n",
    "A = np.array([[18,6,0],[6,6,-7],[0,-7,18]])\n",
    "#Кубическая:\n",
    "print('Кубическая:',LA.norm(u, np.inf))\n",
    "#Октаэдрическая:\n",
    "print('Октаэдрическая:',LA.norm(u, 1))\n",
    "#Фробениуса, евклидова:\n",
    "print('Фробениуса:',LA.norm(u, 2))"
   ]
  },
  {
   "cell_type": "code",
   "execution_count": 8,
   "metadata": {},
   "outputs": [
    {
     "name": "stdout",
     "output_type": "stream",
     "text": [
      "Кубическая: 1.347826086956522\n",
      "Октаэдрическая: 1.347826086956522\n",
      "Фробениуса: 1.0000000000000004\n"
     ]
    }
   ],
   "source": [
    "#Матрица:\n",
    "A = np.array([[18,6,0],[6,6,-7],[0,-7,18]])\n",
    "#Кубическая:\n",
    "print('Кубическая:',LA.norm(LA.inv(A), np.inf))\n",
    "#Октаэдрическая:\n",
    "print('Октаэдрическая:',LA.norm(LA.inv(A), 1))\n",
    "#Фробениуса, евклидова:\n",
    "print('Фробениуса:',LA.norm(LA.inv(A, 2))"
   ]
  },
  {
   "cell_type": "markdown",
   "metadata": {},
   "source": [
    "Число обусловленностей в различных нормах:"
   ]
  },
  {
   "cell_type": "code",
   "execution_count": 6,
   "metadata": {},
   "outputs": [
    {
     "name": "stdout",
     "output_type": "stream",
     "text": [
      "Кубическая: 33.69565217391305\n",
      "Октаэдрическая: 33.69565217391305\n",
      "Фробениуса: 22.999999999999964\n"
     ]
    }
   ],
   "source": [
    "#Число обусловленностей матрицы A в различных нормах:\n",
    "A = np.array([[18,6,0],[6,6,-7],[0,-7,18]])\n",
    "#Кубическая:\n",
    "print('Кубическая:',LA.cond(A, np.inf))\n",
    "#Октаэдрическая:\n",
    "print('Октаэдрическая:',LA.cond(A, 1))\n",
    "#Фробениуса, евклидова:\n",
    "print('Фробениуса:',LA.cond(A, 2))"
   ]
  },
  {
   "cell_type": "markdown",
   "metadata": {},
   "source": [
    "Заметим, что в случае симметричной матрицы максимальное и минимальное значение $\\nu(f,A)$ при заданной $A$, достигается:\n",
    "<br>\n",
    "1, когда $f$ отвечает минимальному по модулю собственному значению\n",
    "<br>\n",
    "$\\mu$, когда $f$ отвечает максимальному по модулю собственному значению"
   ]
  },
  {
   "cell_type": "code",
   "execution_count": null,
   "metadata": {},
   "outputs": [],
   "source": []
  }
 ],
 "metadata": {
  "kernelspec": {
   "display_name": "Python 3",
   "language": "python",
   "name": "python3"
  },
  "language_info": {
   "codemirror_mode": {
    "name": "ipython",
    "version": 3
   },
   "file_extension": ".py",
   "mimetype": "text/x-python",
   "name": "python",
   "nbconvert_exporter": "python",
   "pygments_lexer": "ipython3",
   "version": "3.7.3"
  }
 },
 "nbformat": 4,
 "nbformat_minor": 4
}
