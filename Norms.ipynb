{
 "cells": [
  {
   "cell_type": "code",
   "execution_count": 3,
   "metadata": {},
   "outputs": [],
   "source": [
    "import numpy as np"
   ]
  },
  {
   "cell_type": "code",
   "execution_count": 6,
   "metadata": {},
   "outputs": [],
   "source": [
    "from numpy import linalg as LA"
   ]
  },
  {
   "cell_type": "markdown",
   "metadata": {},
   "source": [
    "Число обусловленностей:\n",
    "<br>\n",
    "$\\mu = \\|A\\| \\|A^{-1}\\|$\n",
    "<br>\n",
    "Лучшая оценка:\n",
    "<br>\n",
    "$1 \\leq \\nu(A,f) \\leq \\mu$\n",
    "<br>"
   ]
  },
  {
   "cell_type": "markdown",
   "metadata": {},
   "source": [
    "Нормы (в скобках даны их названия при вызове их в numpy)\n",
    "<br>\n",
    "Кубическая(np.inf):\n",
    "<br>\n",
    "$\\|u\\|_1 = \\max_{j}|u_j|$\n",
    "<br>\n",
    "$\\|A\\|_1 = \\max_{i}\\sum_{j}|a_{ij}|$\n",
    "<br>\n",
    "Октаэдрическая(1):\n",
    "<br>\n",
    "$\\|u\\|_2 = \\sum_{j}|u_j|$\n",
    "<br>\n",
    "$\\|A\\|_2 = \\max_{j}\\sum_{i}|a_{ij}|$\n",
    "<br>\n",
    "Фробениуса, евклидова( Для вектора:'fro', для матрицы: 2):\n",
    "<br>\n",
    "$\\|u\\|_3 = \\sqrt{\\sum_{i,j} |a_{ij}|^2}$\n",
    "<br>\n",
    "$\\|A\\|_3 = \\sqrt{\\max_{j}|\\lambda_{j}(A^{*}A)|}$"
   ]
  },
  {
   "cell_type": "markdown",
   "metadata": {},
   "source": [
    "Вычисление всех норм тут:"
   ]
  },
  {
   "cell_type": "code",
   "execution_count": 17,
   "metadata": {},
   "outputs": [
    {
     "name": "stdout",
     "output_type": "stream",
     "text": [
      "Кубическая: 6.0\n",
      "Октаэдрическая: 6.0\n",
      "Фробениуса: 6.0\n"
     ]
    }
   ],
   "source": [
    "#Матрица:\n",
    "A = np.array([[6,0],[0,3]])\n",
    "#Кубическая:\n",
    "print('Кубическая:',LA.norm(A, np.inf))\n",
    "#Октаэдрическая:\n",
    "print('Октаэдрическая:',LA.norm(A, 1))\n",
    "#Фробениуса, евклидова:\n",
    "print('Фробениуса:',LA.norm(A, 2))"
   ]
  },
  {
   "cell_type": "markdown",
   "metadata": {},
   "source": [
    "Число обусловленностей в различных нормах:"
   ]
  },
  {
   "cell_type": "code",
   "execution_count": 18,
   "metadata": {},
   "outputs": [
    {
     "name": "stdout",
     "output_type": "stream",
     "text": [
      "Кубическая: 1.469387755102041\n",
      "Октаэдрическая: 1.469387755102041\n",
      "Фробениуса: 1.352423230528073\n"
     ]
    }
   ],
   "source": [
    "#Число обусловленностей матрицы A в различных нормах:\n",
    "A = np.array([[6,30],[30,3]])\n",
    "#Кубическая:\n",
    "print('Кубическая:',LA.cond(A, np.inf))\n",
    "#Октаэдрическая:\n",
    "print('Октаэдрическая:',LA.cond(A, 1))\n",
    "#Фробениуса, евклидова:\n",
    "print('Фробениуса:',LA.cond(A, 2))"
   ]
  },
  {
   "cell_type": "code",
   "execution_count": null,
   "metadata": {},
   "outputs": [],
   "source": []
  }
 ],
 "metadata": {
  "kernelspec": {
   "display_name": "Python 3",
   "language": "python",
   "name": "python3"
  },
  "language_info": {
   "codemirror_mode": {
    "name": "ipython",
    "version": 3
   },
   "file_extension": ".py",
   "mimetype": "text/x-python",
   "name": "python",
   "nbconvert_exporter": "python",
   "pygments_lexer": "ipython3",
   "version": "3.7.3"
  }
 },
 "nbformat": 4,
 "nbformat_minor": 4
}
