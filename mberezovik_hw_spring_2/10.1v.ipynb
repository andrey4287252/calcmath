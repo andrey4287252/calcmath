{
 "cells": [
  {
   "cell_type": "code",
   "execution_count": 1,
   "metadata": {},
   "outputs": [],
   "source": [
    "import numpy as np\n",
    "import math\n",
    "from matplotlib import pyplot as plt\n",
    "from numpy import linalg as LA"
   ]
  },
  {
   "cell_type": "markdown",
   "metadata": {},
   "source": [
    "Наше уравнение:\n",
    "$$\n",
    "u_t = u_{xx} + \\pi^2 \\sin(\\pi x)\\\\\n",
    "u(0,t) = u(1,t) = 0 \\\\\n",
    "u(x,0) = 0\n",
    "$$\n",
    "Точным решением данного уравнения является:\n",
    "$$\n",
    "u(x,t) = (1-e^{-\\pi^2t})\\sin(\\pi x)\n",
    "$$\n",
    "Мы же будем использовать следующую разностную схему:\n",
    "$$\n",
    "\\frac{y^{n+1}_m - y^n_m}{\\tau} = \\frac{y^{n}_{m+1} - 2 y^n_m + y^n_{m-1}}{h^2} + \\pi^2 \\sin(\\pi m h)\\\\\n",
    "y^n_0 = y^n_M = 0\\\\\n",
    "y^0_m = 0\n",
    "$$\n",
    "Откуда сразу выразим $y^{n+1}_m$:\n",
    "$$\n",
    "y^{n+1}_{m} = y^n_m + \\tau\\big(\\frac{y^{n}_{m+1} - 2 y^n_m + y^n_{m-1}}{h^2} + \\pi^2 \\sin(\\pi m h)\\big)\n",
    "$$\n",
    "Данная схема устойчива когда:\n",
    "$$\n",
    "\\tau/h^2 \\leq 1/2\n",
    "$$"
   ]
  },
  {
   "cell_type": "code",
   "execution_count": 12,
   "metadata": {},
   "outputs": [],
   "source": [
    "#Параметры сетки\n",
    "dx = 0.01\n",
    "dt = (dx)**2/4\n",
    "T_max = 1/(math.pi**2)\n",
    "N = int(T_max/dt)\n",
    "M = int(1/dx)"
   ]
  },
  {
   "cell_type": "code",
   "execution_count": 13,
   "metadata": {},
   "outputs": [],
   "source": [
    "#Начальные данные\n",
    "y = np.zeros((N+1,M+1))"
   ]
  },
  {
   "cell_type": "code",
   "execution_count": 14,
   "metadata": {},
   "outputs": [],
   "source": [
    "#Рассчет решения\n",
    "for i in range(N):\n",
    "    for j in range (1,M):\n",
    "        y[i+1][j] = y[i][j] + dt*((y[i][j+1] - 2*y[i][j] + y[i][j-1])/(dx)**2 + math.pi**2 * math.sin(math.pi*j*dx))"
   ]
  },
  {
   "cell_type": "code",
   "execution_count": 15,
   "metadata": {},
   "outputs": [
    {
     "data": {
      "text/plain": [
       "0.0037500000000000003"
      ]
     },
     "execution_count": 15,
     "metadata": {},
     "output_type": "execute_result"
    }
   ],
   "source": [
    "x = np.arange(0,1+dx,dx)\n",
    "n = 150\n",
    "n*dt"
   ]
  },
  {
   "cell_type": "code",
   "execution_count": 16,
   "metadata": {},
   "outputs": [
    {
     "data": {
      "text/plain": [
       "[<matplotlib.lines.Line2D at 0x7f61492eae50>]"
      ]
     },
     "execution_count": 16,
     "metadata": {},
     "output_type": "execute_result"
    },
    {
     "data": {
      "image/png": "[encoded data removed]",
      "text/plain": [
       "<Figure size 432x288 with 1 Axes>"
      ]
     },
     "metadata": {
      "needs_background": "light"
     },
     "output_type": "display_data"
    }
   ],
   "source": [
    "plt.plot(x,(1-math.e**(-math.pi**2 * n *dt)) * np.sin(math.pi*x)-y[n])"
   ]
  },
  {
   "cell_type": "code",
   "execution_count": null,
   "metadata": {},
   "outputs": [],
   "source": []
  }
 ],
 "metadata": {
  "kernelspec": {
   "display_name": "Python 3",
   "language": "python",
   "name": "python3"
  },
  "language_info": {
   "codemirror_mode": {
    "name": "ipython",
    "version": 3
   },
   "file_extension": ".py",
   "mimetype": "text/x-python",
   "name": "python",
   "nbconvert_exporter": "python",
   "pygments_lexer": "ipython3",
   "version": "3.7.4"
  }
 },
 "nbformat": 4,
 "nbformat_minor": 2
}
