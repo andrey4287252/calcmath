{
 "cells": [
  {
   "cell_type": "code",
   "execution_count": 68,
   "metadata": {},
   "outputs": [],
   "source": [
    "import itertools as it\n",
    "import numpy as np\n",
    "import matplotlib.pyplot as plt\n",
    "import pandas as pd\n",
    "import functools\n",
    "import math\n",
    "import fractions\n",
    "from scipy.interpolate import lagrange\n",
    "from numpy import linalg as LA"
   ]
  },
  {
   "cell_type": "code",
   "execution_count": 59,
   "metadata": {},
   "outputs": [],
   "source": [
    "def KronDel(x, y):\n",
    "    if x == y:\n",
    "        return 1.\n",
    "    else:\n",
    "        return 0."
   ]
  },
  {
   "cell_type": "code",
   "execution_count": 60,
   "metadata": {},
   "outputs": [],
   "source": [
    "def CanonicalMPI(func, x, k, say = 0):\n",
    "    for i in range(k):\n",
    "        if(say != 0):\n",
    "            print (i, \"th iteration, x is \", x)\n",
    "        x = func(x)\n",
    "    if(say != 0):\n",
    "            print (k, \"th iteration, x is \", x)\n",
    "    return x"
   ]
  },
  {
   "cell_type": "markdown",
   "metadata": {},
   "source": [
    "$\\textbf{Метод отрезков}$"
   ]
  },
  {
   "cell_type": "code",
   "execution_count": 21,
   "metadata": {},
   "outputs": [],
   "source": [
    "#g - функция выбора - пара точек на вход, пара на выходе\n",
    "def sections(g, f, a, b, k, say = 0):\n",
    "    I = np.array([a, b])\n",
    "    for i in range(k):\n",
    "        if(say != 0):\n",
    "            print(i, \"th iteration, x1 = \", I[0], \", x2 = \", I[1], \" |x1 - x2| = \", np.abs(I[0] - I[1]))\n",
    "        c = g(I)[0]\n",
    "        d = g(I)[1]\n",
    "        if (f(c) > f(d)):\n",
    "            I = np.array([c, b])\n",
    "            a = c\n",
    "        else:\n",
    "            I = np.array([a, d])\n",
    "            b = d\n",
    "    if(say != 0):\n",
    "            print(k, \"th iteration, x1 = \", I[0], \", x2 = \", I[1], \" |x1 - x2| = \", np.abs(I[0] - I[1]))\n",
    "    return I[0]"
   ]
  },
  {
   "cell_type": "code",
   "execution_count": 50,
   "metadata": {},
   "outputs": [
    {
     "data": {
      "text/plain": [
       "-3.4143342277530024e-05"
      ]
     },
     "execution_count": 50,
     "metadata": {},
     "output_type": "execute_result"
    }
   ],
   "source": [
    "#Пример:\n",
    "def g(I):\n",
    "    return np.array([I[0] + (1/3)*(I[1] - I[0]), I[0] + (2/3)*(I[1] - I[0])])\n",
    "def f1(x):\n",
    "    return x**2\n",
    "sections(g, f1, -1., 1., 25, 0)"
   ]
  },
  {
   "cell_type": "markdown",
   "metadata": {},
   "source": [
    "$\\textbf{Метод золотого сечения}$"
   ]
  },
  {
   "cell_type": "code",
   "execution_count": 32,
   "metadata": {},
   "outputs": [],
   "source": [
    "def coolg(I):\n",
    "    return np.array([I[0] + (I[1] - I[0])*((3-(5**0.5))/2), I[1] - (I[1] - I[0])*((3-(5**0.5))/2)])   "
   ]
  },
  {
   "cell_type": "code",
   "execution_count": 57,
   "metadata": {},
   "outputs": [
    {
     "data": {
      "text/plain": [
       "-9.644875678381916e-06"
      ]
     },
     "execution_count": 57,
     "metadata": {},
     "output_type": "execute_result"
    }
   ],
   "source": [
    "#Пример:\n",
    "sections(coolg, f1, -1., 1., 25, 0)"
   ]
  },
  {
   "cell_type": "markdown",
   "metadata": {},
   "source": [
    "$\\textbf{Метод парабол}$"
   ]
  },
  {
   "cell_type": "code",
   "execution_count": 47,
   "metadata": {},
   "outputs": [],
   "source": [
    "def Par(f, h, x0, k, say):\n",
    "    def temp(y):\n",
    "        return y - (h/2)*(f(y + h) - f(y - h))/(f(y + h) + f(y - h) - 2*f(y))\n",
    "    return CanonicalMPI(temp, x0, k, say)"
   ]
  },
  {
   "cell_type": "markdown",
   "metadata": {},
   "source": [
    "$\\textbf{Метод покоординатного спуска:}$"
   ]
  },
  {
   "cell_type": "code",
   "execution_count": 75,
   "metadata": {},
   "outputs": [],
   "source": [
    "#Пусть g(f0) - значение, минимизирующее f0 (f0 - ф-я одной переменной)\n",
    "def coord(g, f, I0, k, say = 0):\n",
    "    for l in range(k):\n",
    "        for i in range(len(I0)):\n",
    "            if(say != 0):\n",
    "                print(l, \"th iteration, \", i, \"th coordinate:\", I0)\n",
    "            def tmp(y):\n",
    "                J = np.array([I0[j]*(1 - KronDel(i,j)) + KronDel(i,j)*y for j in range(len(I0))])\n",
    "                return f(J)\n",
    "            I0[i] = g(tmp)\n",
    "        if(say != 0):\n",
    "                print(l, \"th iteration, \", len(I0), \"th coordinate:\", I0)\n",
    "    return I0"
   ]
  },
  {
   "cell_type": "code",
   "execution_count": 110,
   "metadata": {
    "collapsed": true
   },
   "outputs": [
    {
     "name": "stdout",
     "output_type": "stream",
     "text": [
      "0 th iteration,  0 th coordinate: [2. 3.]\n",
      "0 th iteration,  1 th coordinate: [1. 3.]\n",
      "0 th iteration,  2 th coordinate: [1. 2.]\n",
      "1 th iteration,  0 th coordinate: [1. 2.]\n",
      "1 th iteration,  1 th coordinate: [0.5 2. ]\n",
      "1 th iteration,  2 th coordinate: [0.5 1.5]\n",
      "2 th iteration,  0 th coordinate: [0.5 1.5]\n",
      "2 th iteration,  1 th coordinate: [0.25 1.5 ]\n",
      "2 th iteration,  2 th coordinate: [0.25 1.25]\n",
      "3 th iteration,  0 th coordinate: [0.25 1.25]\n",
      "3 th iteration,  1 th coordinate: [0.125 1.25 ]\n",
      "3 th iteration,  2 th coordinate: [0.125 1.125]\n",
      "4 th iteration,  0 th coordinate: [0.125 1.125]\n",
      "4 th iteration,  1 th coordinate: [0.0625 1.125 ]\n",
      "4 th iteration,  2 th coordinate: [0.0625 1.0625]\n",
      "5 th iteration,  0 th coordinate: [0.0625 1.0625]\n",
      "5 th iteration,  1 th coordinate: [0.03125 1.0625 ]\n",
      "5 th iteration,  2 th coordinate: [0.03125 1.03125]\n",
      "6 th iteration,  0 th coordinate: [0.03125 1.03125]\n",
      "6 th iteration,  1 th coordinate: [0.015625 1.03125 ]\n",
      "6 th iteration,  2 th coordinate: [0.015625 1.015625]\n",
      "7 th iteration,  0 th coordinate: [0.015625 1.015625]\n",
      "7 th iteration,  1 th coordinate: [0.0078125 1.015625 ]\n",
      "7 th iteration,  2 th coordinate: [0.0078125 1.0078125]\n",
      "8 th iteration,  0 th coordinate: [0.0078125 1.0078125]\n",
      "8 th iteration,  1 th coordinate: [0.00390625 1.0078125 ]\n",
      "8 th iteration,  2 th coordinate: [0.00390625 1.00390625]\n",
      "9 th iteration,  0 th coordinate: [0.00390625 1.00390625]\n",
      "9 th iteration,  1 th coordinate: [0.00195313 1.00390625]\n",
      "9 th iteration,  2 th coordinate: [0.00195313 1.00195312]\n"
     ]
    },
    {
     "data": {
      "text/plain": [
       "array([0.00195313, 1.00195312])"
      ]
     },
     "execution_count": 110,
     "metadata": {},
     "output_type": "execute_result"
    }
   ],
   "source": [
    "#Пример\n",
    "def G(F):\n",
    "    return Par(F, 0.01, 1, 100, 0)\n",
    "def f(I):\n",
    "    return I[0]**2 + (I[1] - I[0] - 1)**2\n",
    "coord(G, f, np.array([2., 3.]), 10, 1)"
   ]
  },
  {
   "cell_type": "markdown",
   "metadata": {},
   "source": [
    "$\\textbf{Метод градиентного спуска}$\n",
    "\n",
    "Идея:\n",
    "Итерируемся сдвигая x вдоль прямой на которой f больше всего убывает (против градиента) так чтобы на этой прямой f была минимальна."
   ]
  },
  {
   "cell_type": "code",
   "execution_count": 115,
   "metadata": {},
   "outputs": [],
   "source": [
    "def grad(g, f, df, I0, k, say = 0):\n",
    "    for i in range(k):\n",
    "        if(say != 0):\n",
    "            print(i,\"th iteration\", \"x = \", I0)\n",
    "        def temp(y):\n",
    "            return f(I0 - y*df(I0))\n",
    "        I0 = (I0 - g(temp)*df(I0))\n",
    "    if(say != 0):\n",
    "        print(k,\"th iteration\", \"x = \", I0)\n",
    "    return I0"
   ]
  },
  {
   "cell_type": "code",
   "execution_count": 116,
   "metadata": {
    "collapsed": true
   },
   "outputs": [
    {
     "name": "stdout",
     "output_type": "stream",
     "text": [
      "0 th iteration x =  [2. 3.]\n",
      "1 th iteration x =  [1. 3.]\n",
      "2 th iteration x =  [1. 2.]\n",
      "3 th iteration x =  [0.5 2. ]\n",
      "4 th iteration x =  [0.5 1.5]\n",
      "5 th iteration x =  [0.25 1.5 ]\n",
      "6 th iteration x =  [0.25 1.25]\n",
      "7 th iteration x =  [0.125 1.25 ]\n",
      "8 th iteration x =  [0.125 1.125]\n",
      "9 th iteration x =  [0.0625 1.125 ]\n",
      "10 th iteration x =  [0.0625 1.0625]\n",
      "11 th iteration x =  [0.03125 1.0625 ]\n",
      "12 th iteration x =  [0.03125 1.03125]\n",
      "13 th iteration x =  [0.015625 1.03125 ]\n",
      "14 th iteration x =  [0.015625 1.015625]\n",
      "15 th iteration x =  [0.0078125 1.015625 ]\n",
      "16 th iteration x =  [0.0078125 1.0078125]\n",
      "17 th iteration x =  [0.00390625 1.0078125 ]\n",
      "18 th iteration x =  [0.00390625 1.00390625]\n",
      "19 th iteration x =  [0.00195312 1.00390625]\n",
      "20 th iteration x =  [0.00195312 1.00195312]\n",
      "21 th iteration x =  [9.76562500e-04 1.00195312e+00]\n",
      "22 th iteration x =  [9.76562500e-04 1.00097656e+00]\n",
      "23 th iteration x =  [4.88281250e-04 1.00097656e+00]\n",
      "24 th iteration x =  [4.88281250e-04 1.00048828e+00]\n",
      "25 th iteration x =  [2.44140625e-04 1.00048828e+00]\n",
      "26 th iteration x =  [2.44140625e-04 1.00024414e+00]\n",
      "27 th iteration x =  [1.22070312e-04 1.00024414e+00]\n",
      "28 th iteration x =  [1.22070312e-04 1.00012207e+00]\n",
      "29 th iteration x =  [6.10351562e-05 1.00012207e+00]\n",
      "30 th iteration x =  [6.10351562e-05 1.00006104e+00]\n",
      "31 th iteration x =  [3.05175781e-05 1.00006104e+00]\n",
      "32 th iteration x =  [3.05175781e-05 1.00003052e+00]\n",
      "33 th iteration x =  [1.52587891e-05 1.00003052e+00]\n",
      "34 th iteration x =  [1.52587891e-05 1.00001526e+00]\n",
      "35 th iteration x =  [7.62939453e-06 1.00001526e+00]\n",
      "36 th iteration x =  [7.62939453e-06 1.00000763e+00]\n",
      "37 th iteration x =  [3.81469727e-06 1.00000763e+00]\n",
      "38 th iteration x =  [3.81469726e-06 1.00000381e+00]\n",
      "39 th iteration x =  [1.90734863e-06 1.00000381e+00]\n",
      "40 th iteration x =  [1.90734863e-06 1.00000191e+00]\n",
      "41 th iteration x =  [9.53674317e-07 1.00000191e+00]\n",
      "42 th iteration x =  [9.53674317e-07 1.00000095e+00]\n",
      "43 th iteration x =  [4.76837158e-07 1.00000095e+00]\n",
      "44 th iteration x =  [4.76837160e-07 1.00000048e+00]\n",
      "45 th iteration x =  [2.38418581e-07 1.00000048e+00]\n",
      "46 th iteration x =  [2.38418580e-07 1.00000024e+00]\n",
      "47 th iteration x =  [1.19209290e-07 1.00000024e+00]\n",
      "48 th iteration x =  [1.19209290e-07 1.00000012e+00]\n",
      "49 th iteration x =  [5.96046432e-08 1.00000012e+00]\n",
      "50 th iteration x =  [5.96046472e-08 1.00000006e+00]\n",
      "51 th iteration x =  [2.98023247e-08 1.00000006e+00]\n",
      "52 th iteration x =  [2.98023246e-08 1.00000003e+00]\n",
      "53 th iteration x =  [1.49011629e-08 1.00000003e+00]\n",
      "54 th iteration x =  [1.49011616e-08 1.00000001e+00]\n",
      "55 th iteration x =  [7.45058211e-09 1.00000001e+00]\n",
      "56 th iteration x =  [7.45057882e-09 1.00000001e+00]\n",
      "57 th iteration x =  [3.72528917e-09 1.00000001e+00]\n",
      "58 th iteration x =  [3.72528786e-09 1.00000000e+00]\n",
      "59 th iteration x =  [1.86264437e-09 1.00000000e+00]\n",
      "60 th iteration x =  [1.86264293e-09 1.00000000e+00]\n",
      "61 th iteration x =  [9.31323574e-10 1.00000000e+00]\n",
      "62 th iteration x =  [9.31318578e-10 1.00000000e+00]\n",
      "63 th iteration x =  [4.65660288e-10 1.00000000e+00]\n",
      "64 th iteration x =  [4.65655736e-10 1.00000000e+00]\n",
      "65 th iteration x =  [2.32828201e-10 1.00000000e+00]\n",
      "66 th iteration x =  [2.32825092e-10 1.00000000e+00]\n",
      "67 th iteration x =  [1.16412324e-10 1.00000000e+00]\n",
      "68 th iteration x =  [1.16411103e-10 1.00000000e+00]\n",
      "69 th iteration x =  [5.82067448e-11 1.00000000e+00]\n",
      "70 th iteration x =  [5.82036638e-11 1.00000000e+00]\n",
      "71 th iteration x =  [2.91016101e-11 1.00000000e+00]\n",
      "72 th iteration x =  [2.91004997e-11 1.00000000e+00]\n",
      "73 th iteration x =  [1.45521064e-11 1.00000000e+00]\n",
      "74 th iteration x =  [1.45476937e-11 1.00000000e+00]\n",
      "75 th iteration x =  [7.27207367e-12 1.00000000e+00]\n",
      "76 th iteration x =  [7.2732927e-12 1.0000000e+00]\n",
      "77 th iteration x =  [3.63543806e-12 1.00000000e+00]\n",
      "78 th iteration x =  [3.63819673e-12 1.00000000e+00]\n",
      "79 th iteration x =  [1.81991123e-12 1.00000000e+00]\n",
      "80 th iteration x =  [1.81965547e-12 1.00000000e+00]\n",
      "81 th iteration x =  [9.11342255e-13 1.00000000e+00]\n",
      "82 th iteration x =  [9.08140188e-13 1.00000000e+00]\n",
      "83 th iteration x =  [4.54568292e-13 1.00000000e+00]\n",
      "84 th iteration x =  [4.51828232e-13 1.00000000e+00]\n",
      "85 th iteration x =  [2.25476123e-13 1.00000000e+00]\n",
      "86 th iteration x =  [2.2515243e-13 1.0000000e+00]\n",
      "87 th iteration x =  [1.13732678e-13 1.00000000e+00]\n",
      "88 th iteration x =  [1.11131292e-13 1.00000000e+00]\n",
      "89 th iteration x =  [5.62663235e-14 1.00000000e+00]\n",
      "90 th iteration x =  [5.29562754e-14 1.00000000e+00]\n",
      "91 th iteration x =  [2.45422619e-14 1.00000000e+00]\n",
      "92 th iteration x =  [1.91703059e-14 1.00000000e+00]\n",
      "93 th iteration x =  [8.2063021e-15 1.0000000e+00]\n",
      "94 th iteration x =  [8.60753153e-15 1.00000000e+00]\n",
      "95 th iteration x =  [4.11544653e-15 1.00000000e+00]\n",
      "96 th iteration x =  [5.750796e-28 1.000000e+00]\n",
      "97 th iteration x =  [1.76990939e-14 1.00000000e+00]\n",
      "98 th iteration x =  [-6.31088724e-30  1.00000000e+00]\n",
      "99 th iteration x =  [4.14287093e-15 1.00000000e+00]\n",
      "100 th iteration x =  [1.57772181e-30 1.00000000e+00]\n"
     ]
    },
    {
     "data": {
      "text/plain": [
       "array([4., 0.])"
      ]
     },
     "execution_count": 116,
     "metadata": {},
     "output_type": "execute_result"
    }
   ],
   "source": [
    "#Пример\n",
    "def dF(L):\n",
    "    return np.array([2*L[0] - 2*(L[1] - L[0] - 1), 2*(L[1] - L[0] - 1)])\n",
    "grad(G, f, dF,np.array([2., 3.]), 100, 1)\n",
    "dF([2.,3.])"
   ]
  },
  {
   "cell_type": "code",
   "execution_count": null,
   "metadata": {},
   "outputs": [],
   "source": []
  }
 ],
 "metadata": {
  "kernelspec": {
   "display_name": "Python 3",
   "language": "python",
   "name": "python3"
  },
  "language_info": {
   "codemirror_mode": {
    "name": "ipython",
    "version": 3
   },
   "file_extension": ".py",
   "mimetype": "text/x-python",
   "name": "python",
   "nbconvert_exporter": "python",
   "pygments_lexer": "ipython3",
   "version": "3.7.3"
  }
 },
 "nbformat": 4,
 "nbformat_minor": 2
}
