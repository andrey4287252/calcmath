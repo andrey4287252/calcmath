{
 "cells": [
  {
   "cell_type": "code",
   "execution_count": 1,
   "metadata": {},
   "outputs": [],
   "source": [
    "import itertools as it\n",
    "import numpy as np\n",
    "import matplotlib.pyplot as plt\n",
    "import pandas as pd\n",
    "import functools\n",
    "import math\n",
    "import fractions\n",
    "from scipy.interpolate import lagrange\n",
    "from numpy import linalg as LA"
   ]
  },
  {
   "cell_type": "markdown",
   "metadata": {},
   "source": [
    "$\\textbf{Метод отрезков}$"
   ]
  },
  {
   "cell_type": "code",
   "execution_count": 21,
   "metadata": {},
   "outputs": [],
   "source": [
    "#g - функция выбора - пара точек на вход, пара на выходе\n",
    "def sections(g, f, a, b, k, say = 0):\n",
    "    I = np.array([a, b])\n",
    "    for i in range(k):\n",
    "        if(say != 0):\n",
    "            print(i, \"th iteration, x1 = \", I[0], \", x2 = \", I[1], \" |x1 - x2| = \", np.abs(I[0] - I[1]))\n",
    "        c = g(I)[0]\n",
    "        d = g(I)[1]\n",
    "        if (f(c) > f(d)):\n",
    "            I = np.array([c, b])\n",
    "            a = c\n",
    "        else:\n",
    "            I = np.array([a, d])\n",
    "            b = d\n",
    "    if(say != 0):\n",
    "            print(k, \"th iteration, x1 = \", I[0], \", x2 = \", I[1], \" |x1 - x2| = \", np.abs(I[0] - I[1]))\n",
    "    return I[0]"
   ]
  },
  {
   "cell_type": "code",
   "execution_count": 29,
   "metadata": {},
   "outputs": [
    {
     "data": {
      "text/plain": [
       "-3.4143342277530024e-05"
      ]
     },
     "execution_count": 29,
     "metadata": {},
     "output_type": "execute_result"
    }
   ],
   "source": [
    "#Пример:\n",
    "def g(I):\n",
    "    return np.array([I[0] + (1/3)*(I[1] - I[0]), I[0] + (2/3)*(I[1] - I[0])])\n",
    "def f(x):\n",
    "    return x**2\n",
    "sections(g, f, -1., 1., 25, 1)"
   ]
  },
  {
   "cell_type": "markdown",
   "metadata": {},
   "source": [
    "$\\textbf{Метод золотого сечения}$"
   ]
  },
  {
   "cell_type": "code",
   "execution_count": 32,
   "metadata": {},
   "outputs": [],
   "source": [
    "def coolg(I):\n",
    "    return np.array([I[0] + (I[1] - I[0])*((3-(5**0.5))/2), I[1] - (I[1] - I[0])*((3-(5**0.5))/2)])   "
   ]
  },
  {
   "cell_type": "code",
   "execution_count": 33,
   "metadata": {},
   "outputs": [
    {
     "name": "stdout",
     "output_type": "stream",
     "text": [
      "0 th iteration, x1 =  -1.0 , x2 =  1.0  |x1 - x2| =  2.0\n",
      "1 th iteration, x1 =  -1.0 , x2 =  0.2360679774997898  |x1 - x2| =  1.2360679774997898\n",
      "2 th iteration, x1 =  -0.5278640450004206 , x2 =  0.2360679774997898  |x1 - x2| =  0.7639320225002104\n",
      "3 th iteration, x1 =  -0.2360679774997897 , x2 =  0.2360679774997898  |x1 - x2| =  0.4721359549995795\n",
      "4 th iteration, x1 =  -0.2360679774997897 , x2 =  0.05572809000084131  |x1 - x2| =  0.29179606750063103\n",
      "5 th iteration, x1 =  -0.12461179749810723 , x2 =  0.05572809000084131  |x1 - x2| =  0.18033988749894853\n",
      "6 th iteration, x1 =  -0.05572809000084117 , x2 =  0.05572809000084131  |x1 - x2| =  0.11145618000168248\n",
      "7 th iteration, x1 =  -0.05572809000084117 , x2 =  0.013155617496424916  |x1 - x2| =  0.06888370749726608\n",
      "8 th iteration, x1 =  -0.029416855007991485 , x2 =  0.013155617496424916  |x1 - x2| =  0.0425724725044164\n",
      "9 th iteration, x1 =  -0.013155617496424781 , x2 =  0.013155617496424916  |x1 - x2| =  0.026311234992849698\n",
      "10 th iteration, x1 =  -0.013155617496424781 , x2 =  0.0031056200151419293  |x1 - x2| =  0.01626123751156671\n",
      "11 th iteration, x1 =  -0.00694437746614106 , x2 =  0.0031056200151419293  |x1 - x2| =  0.010049997481282989\n",
      "12 th iteration, x1 =  -0.0031056200151417935 , x2 =  0.0031056200151419293  |x1 - x2| =  0.006211240030283723\n",
      "13 th iteration, x1 =  -0.0031056200151417935 , x2 =  0.0007331374358574734  |x1 - x2| =  0.003838757450999267\n",
      "14 th iteration, x1 =  -0.0016393451434269827 , x2 =  0.0007331374358574734  |x1 - x2| =  0.002372482579284456\n",
      "15 th iteration, x1 =  -0.0007331374358573379 , x2 =  0.0007331374358574734  |x1 - x2| =  0.0014662748717148113\n",
      "16 th iteration, x1 =  -0.0007331374358573379 , x2 =  0.00017307027171230738  |x1 - x2| =  0.0009062077075696453\n",
      "17 th iteration, x1 =  -0.0003869968924328588 , x2 =  0.00017307027171230738  |x1 - x2| =  0.0005600671641451662\n",
      "18 th iteration, x1 =  -0.00017307027171217177 , x2 =  0.00017307027171230738  |x1 - x2| =  0.0003461405434244791\n",
      "19 th iteration, x1 =  -0.00017307027171217177 , x2 =  4.085634900851529e-05  |x1 - x2| =  0.00021392662072068706\n",
      "20 th iteration, x1 =  -9.135757369527686e-05 , x2 =  4.085634900851529e-05  |x1 - x2| =  0.00013221392270379215\n",
      "21 th iteration, x1 =  -4.085634900837966e-05 , x2 =  4.085634900851529e-05  |x1 - x2| =  8.171269801689494e-05\n",
      "22 th iteration, x1 =  -4.085634900837966e-05 , x2 =  9.644875678517556e-06  |x1 - x2| =  5.050122468689722e-05\n",
      "23 th iteration, x1 =  -2.1566597651480192e-05 , x2 =  9.644875678517556e-06  |x1 - x2| =  3.121147332999775e-05\n",
      "24 th iteration, x1 =  -9.644875678381916e-06 , x2 =  9.644875678517556e-06  |x1 - x2| =  1.9289751356899472e-05\n",
      "25 th iteration, x1 =  -9.644875678381916e-06 , x2 =  2.2768462947163624e-06  |x1 - x2| =  1.192172197309828e-05\n"
     ]
    },
    {
     "data": {
      "text/plain": [
       "-9.644875678381916e-06"
      ]
     },
     "execution_count": 33,
     "metadata": {},
     "output_type": "execute_result"
    }
   ],
   "source": [
    "#Пример:\n",
    "sections(coolg, f, -1., 1., 25, 1)"
   ]
  },
  {
   "cell_type": "code",
   "execution_count": null,
   "metadata": {},
   "outputs": [],
   "source": []
  }
 ],
 "metadata": {
  "kernelspec": {
   "display_name": "Python 3",
   "language": "python",
   "name": "python3"
  },
  "language_info": {
   "codemirror_mode": {
    "name": "ipython",
    "version": 3
   },
   "file_extension": ".py",
   "mimetype": "text/x-python",
   "name": "python",
   "nbconvert_exporter": "python",
   "pygments_lexer": "ipython3",
   "version": "3.7.3"
  }
 },
 "nbformat": 4,
 "nbformat_minor": 2
}
