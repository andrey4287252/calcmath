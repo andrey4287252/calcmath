{
 "cells": [
  {
   "cell_type": "code",
   "execution_count": 68,
   "metadata": {},
   "outputs": [],
   "source": [
    "import itertools as it\n",
    "import numpy as np\n",
    "import matplotlib.pyplot as plt\n",
    "import pandas as pd\n",
    "import functools\n",
    "import math\n",
    "import fractions\n",
    "from scipy.interpolate import lagrange\n",
    "from numpy import linalg as LA"
   ]
  },
  {
   "cell_type": "code",
   "execution_count": 59,
   "metadata": {},
   "outputs": [],
   "source": [
    "def KronDel(x, y):\n",
    "    if x == y:\n",
    "        return 1.\n",
    "    else:\n",
    "        return 0."
   ]
  },
  {
   "cell_type": "code",
   "execution_count": 60,
   "metadata": {},
   "outputs": [],
   "source": [
    "def CanonicalMPI(func, x, k, say = 0):\n",
    "    for i in range(k):\n",
    "        if(say != 0):\n",
    "            print (i, \"th iteration, x is \", x)\n",
    "        x = func(x)\n",
    "    if(say != 0):\n",
    "            print (k, \"th iteration, x is \", x)\n",
    "    return x"
   ]
  },
  {
   "cell_type": "markdown",
   "metadata": {},
   "source": [
    "$\\textbf{Метод отрезков}$"
   ]
  },
  {
   "cell_type": "code",
   "execution_count": 21,
   "metadata": {},
   "outputs": [],
   "source": [
    "#g - функция выбора - пара точек на вход, пара на выходе\n",
    "def sections(g, f, a, b, k, say = 0):\n",
    "    I = np.array([a, b])\n",
    "    for i in range(k):\n",
    "        if(say != 0):\n",
    "            print(i, \"th iteration, x1 = \", I[0], \", x2 = \", I[1], \" |x1 - x2| = \", np.abs(I[0] - I[1]))\n",
    "        c = g(I)[0]\n",
    "        d = g(I)[1]\n",
    "        if (f(c) > f(d)):\n",
    "            I = np.array([c, b])\n",
    "            a = c\n",
    "        else:\n",
    "            I = np.array([a, d])\n",
    "            b = d\n",
    "    if(say != 0):\n",
    "            print(k, \"th iteration, x1 = \", I[0], \", x2 = \", I[1], \" |x1 - x2| = \", np.abs(I[0] - I[1]))\n",
    "    return I[0]"
   ]
  },
  {
   "cell_type": "code",
   "execution_count": 50,
   "metadata": {},
   "outputs": [
    {
     "data": {
      "text/plain": [
       "-3.4143342277530024e-05"
      ]
     },
     "execution_count": 50,
     "metadata": {},
     "output_type": "execute_result"
    }
   ],
   "source": [
    "#Пример:\n",
    "def g(I):\n",
    "    return np.array([I[0] + (1/3)*(I[1] - I[0]), I[0] + (2/3)*(I[1] - I[0])])\n",
    "def f1(x):\n",
    "    return x**2\n",
    "sections(g, f1, -1., 1., 25, 0)"
   ]
  },
  {
   "cell_type": "markdown",
   "metadata": {},
   "source": [
    "$\\textbf{Метод золотого сечения}$"
   ]
  },
  {
   "cell_type": "code",
   "execution_count": 32,
   "metadata": {},
   "outputs": [],
   "source": [
    "def coolg(I):\n",
    "    return np.array([I[0] + (I[1] - I[0])*((3-(5**0.5))/2), I[1] - (I[1] - I[0])*((3-(5**0.5))/2)])   "
   ]
  },
  {
   "cell_type": "code",
   "execution_count": 57,
   "metadata": {},
   "outputs": [
    {
     "data": {
      "text/plain": [
       "-9.644875678381916e-06"
      ]
     },
     "execution_count": 57,
     "metadata": {},
     "output_type": "execute_result"
    }
   ],
   "source": [
    "#Пример:\n",
    "sections(coolg, f1, -1., 1., 25, 0)"
   ]
  },
  {
   "cell_type": "markdown",
   "metadata": {},
   "source": [
    "$\\textbf{Метод парабол}$"
   ]
  },
  {
   "cell_type": "code",
   "execution_count": 47,
   "metadata": {},
   "outputs": [],
   "source": [
    "def Par(f, h, x0, k, say):\n",
    "    def temp(y):\n",
    "        return y - (h/2)*(f(y + h) - f(y - h))/(f(y + h) + f(y - h) - 2*f(y))\n",
    "    return CanonicalMPI(temp, x0, k, say)"
   ]
  },
  {
   "cell_type": "markdown",
   "metadata": {},
   "source": [
    "$\\textbf{Метод покоординатного спуска:}$"
   ]
  },
  {
   "cell_type": "code",
   "execution_count": 65,
   "metadata": {},
   "outputs": [],
   "source": [
    "#Пусть g(f0) - значение, минимизирующее f0 (f0 - ф-я одной переменной)\n",
    "def coord(g, f, I0, k, say = 0):\n",
    "    for k in range(k):\n",
    "        for i in range(len(I0)):\n",
    "            if(say != 0):\n",
    "                print(k, \"th iteration, \", i, \"th coordinate:\", I0)\n",
    "            def tmp(y):\n",
    "                J = np.array([I0[j]*(1 - KronDel(i,j)) + KronDel(i,j)*y for j in range(len(I0))])\n",
    "                return f(J)\n",
    "            I0[i] = g(tmp)\n",
    "        if(say != 0):\n",
    "                print(k, \"th iteration, \", len(I0), \"th coordinate:\", I0)\n",
    "    return I0"
   ]
  },
  {
   "cell_type": "code",
   "execution_count": 70,
   "metadata": {
    "scrolled": true
   },
   "outputs": [
    {
     "name": "stdout",
     "output_type": "stream",
     "text": [
      "0 th iteration,  0 th coordinate: [2. 3.]\n",
      "0 th iteration,  1 th coordinate: [6.31397301e-20 3.00000000e+00]\n",
      "0 th iteration,  2 th coordinate: [6.31397301e-20 6.93097181e-01]\n",
      "1 th iteration,  0 th coordinate: [6.31397301e-20 6.93097181e-01]\n",
      "1 th iteration,  1 th coordinate: [1.08420217e-19 6.93097181e-01]\n",
      "1 th iteration,  2 th coordinate: [1.08420217e-19 6.93097181e-01]\n",
      "2 th iteration,  0 th coordinate: [1.08420217e-19 6.93097181e-01]\n",
      "2 th iteration,  1 th coordinate: [1.08420217e-19 6.93097181e-01]\n",
      "2 th iteration,  2 th coordinate: [1.08420217e-19 6.93097181e-01]\n",
      "3 th iteration,  0 th coordinate: [1.08420217e-19 6.93097181e-01]\n",
      "3 th iteration,  1 th coordinate: [1.08420217e-19 6.93097181e-01]\n",
      "3 th iteration,  2 th coordinate: [1.08420217e-19 6.93097181e-01]\n",
      "4 th iteration,  0 th coordinate: [1.08420217e-19 6.93097181e-01]\n",
      "4 th iteration,  1 th coordinate: [1.08420217e-19 6.93097181e-01]\n",
      "4 th iteration,  2 th coordinate: [1.08420217e-19 6.93097181e-01]\n",
      "5 th iteration,  0 th coordinate: [1.08420217e-19 6.93097181e-01]\n",
      "5 th iteration,  1 th coordinate: [1.08420217e-19 6.93097181e-01]\n",
      "5 th iteration,  2 th coordinate: [1.08420217e-19 6.93097181e-01]\n",
      "6 th iteration,  0 th coordinate: [1.08420217e-19 6.93097181e-01]\n",
      "6 th iteration,  1 th coordinate: [1.08420217e-19 6.93097181e-01]\n",
      "6 th iteration,  2 th coordinate: [1.08420217e-19 6.93097181e-01]\n",
      "7 th iteration,  0 th coordinate: [1.08420217e-19 6.93097181e-01]\n",
      "7 th iteration,  1 th coordinate: [1.08420217e-19 6.93097181e-01]\n",
      "7 th iteration,  2 th coordinate: [1.08420217e-19 6.93097181e-01]\n",
      "8 th iteration,  0 th coordinate: [1.08420217e-19 6.93097181e-01]\n",
      "8 th iteration,  1 th coordinate: [1.08420217e-19 6.93097181e-01]\n",
      "8 th iteration,  2 th coordinate: [1.08420217e-19 6.93097181e-01]\n",
      "9 th iteration,  0 th coordinate: [1.08420217e-19 6.93097181e-01]\n",
      "9 th iteration,  1 th coordinate: [1.08420217e-19 6.93097181e-01]\n",
      "9 th iteration,  2 th coordinate: [1.08420217e-19 6.93097181e-01]\n"
     ]
    },
    {
     "data": {
      "text/plain": [
       "array([1.08420217e-19, 6.93097181e-01])"
      ]
     },
     "execution_count": 70,
     "metadata": {},
     "output_type": "execute_result"
    }
   ],
   "source": [
    "#Пример\n",
    "def G(F):\n",
    "    return Par(F, 0.01, 1, 100, 0)\n",
    "def f(I):\n",
    "    return I[0]**2 + (np.exp(I[1]) - 2)**2\n",
    "coord(G, f, np.array([2., 3.]), 10, 1)"
   ]
  }
 ],
 "metadata": {
  "kernelspec": {
   "display_name": "Python 3",
   "language": "python",
   "name": "python3"
  },
  "language_info": {
   "codemirror_mode": {
    "name": "ipython",
    "version": 3
   },
   "file_extension": ".py",
   "mimetype": "text/x-python",
   "name": "python",
   "nbconvert_exporter": "python",
   "pygments_lexer": "ipython3",
   "version": "3.7.3"
  }
 },
 "nbformat": 4,
 "nbformat_minor": 2
}
