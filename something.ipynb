{
 "cells": [
  {
   "cell_type": "code",
   "execution_count": 1,
   "metadata": {},
   "outputs": [],
   "source": [
    "import numpy as np\n",
    "#МПИ\n",
    "def SimpleIteration(R, x, F):#R - матрица, x - столбец, F - правая часть (столбец)\n",
    "    return (R@x + F)\n",
    "#МПИ k раз\n",
    "def SimpleIterations(R,x,F,k):#R - матрица, x - столбец с которого итерируемся, F - правая часть(столбец), k- число итераций\n",
    "    for i in range(k):\n",
    "        x = SimpleIteration(R, x, F)\n",
    "    return x\n",
    "#k итераций методом Гаусса\n",
    "def GaussIterations(A, x, F, k):#A - матрица, x - столбец с которого итерируемся, F - правая часть, k- число итераций\n",
    "            D = np.diag(A)\n",
    "            U = np.triu(A)\n",
    "            L = np.tril(A)\n",
    "            Q = np.identitynty(len(A))\n",
    "            for i in range(len(A)):\n",
    "                Q[i,i] = 1/D[i,i]\n",
    "            R = -Q@(L + U)\n",
    "            f = Q@F\n",
    "            return SimpleIterations()\n",
    "def scal(u, v):#u, v - сомножители (столбцы)\n",
    "    return u@np.transpose(v)\n",
    "def MaxEigenIterations(A, x, k):#A - матрица, x - вектор с которого итерируемся, k -число итераций\n",
    "    u = SimpleIterations(A, x, 0, k-1)\n",
    "    return scal(SimpleIteration(A,u,0), u)/scal(u, u)\n",
    "\n",
    "    "
   ]
  },
  {
   "cell_type": "markdown",
   "metadata": {},
   "source": [
    "Памятка:\n",
    "\n",
    "Вычисление норм:\n",
    "\n",
    "numpy.linalg."
   ]
  },
  {
   "cell_type": "code",
   "execution_count": 2,
   "metadata": {},
   "outputs": [
    {
     "data": {
      "text/plain": [
       "5.9655172413793105"
      ]
     },
     "execution_count": 2,
     "metadata": {},
     "output_type": "execute_result"
    }
   ],
   "source": [
    "A = np.array([[5, -2],[-2, 2]], float)\n",
    "MaxEigenIterations(A, np.array([1, 0], float), 2)"
   ]
  },
  {
   "cell_type": "code",
   "execution_count": 3,
   "metadata": {},
   "outputs": [
    {
     "data": {
      "text/plain": [
       "array([2., 2.])"
      ]
     },
     "execution_count": 3,
     "metadata": {},
     "output_type": "execute_result"
    }
   ],
   "source": [
    "r = np.array([[0, 1], [1, 0]], float)\n",
    "x = np.array([0, 1], float)\n",
    "f = np.array([1, 2], float)\n",
    "SimpleIteration(r, x, f)\n"
   ]
  },
  {
   "cell_type": "code",
   "execution_count": 4,
   "metadata": {},
   "outputs": [
    {
     "data": {
      "text/plain": [
       "array([1, 0, 0])"
      ]
     },
     "execution_count": 4,
     "metadata": {},
     "output_type": "execute_result"
    }
   ],
   "source": [
    "r = np.array([[5,2,-3],[4,5,-4],[6,4,-4]])\n",
    "E = np.identity(3)\n",
    "f = np.array([4,5,6])\n",
    "x = np.array([1,0,0])\n",
    "SimpleIterations(E - 0.5*r, x, 0.5*f, 0)\n"
   ]
  },
  {
   "cell_type": "markdown",
   "metadata": {},
   "source": [
    "$u^{(s+1)} = u^{(s)} + \\tau (f - Au^{(s)})$"
   ]
  },
  {
   "cell_type": "markdown",
   "metadata": {},
   "source": [
    "Метод вращений.\n",
    "\n",
    "$T^TAT = \\Lambda$\n",
    "\n",
    "$\\tan (2\\alpha) = \\frac{2a_{ij}}{a_{ii} - a_{jj}}$"
   ]
  },
  {
   "cell_type": "markdown",
   "metadata": {},
   "source": [
    "МНК\n",
    "\n",
    "$\\Phi(\\vec{u}) = \\Sigma_i (\\Sigma_j a_{ij}u_j - f_i)^2 \\rightarrow min$\n",
    "\n",
    "$A_{nxm}\\vec{u}_n = \\vec{f}_m$\n",
    "\n",
    "$(A*A)_{nxn}\\vec{u} = (A*f)_n$"
   ]
  },
  {
   "cell_type": "code",
   "execution_count": 5,
   "metadata": {},
   "outputs": [
    {
     "ename": "TypeError",
     "evalue": "scal() missing 1 required positional argument: 'v'",
     "output_type": "error",
     "traceback": [
      "\u001b[0;31m---------------------------------------------------------------------------\u001b[0m",
      "\u001b[0;31mTypeError\u001b[0m                                 Traceback (most recent call last)",
      "\u001b[0;32m<ipython-input-5-07a378081ecd>\u001b[0m in \u001b[0;36m<module>\u001b[0;34m\u001b[0m\n\u001b[1;32m      2\u001b[0m \u001b[0mf\u001b[0m \u001b[0;34m=\u001b[0m \u001b[0mnp\u001b[0m\u001b[0;34m.\u001b[0m\u001b[0marray\u001b[0m\u001b[0;34m(\u001b[0m\u001b[0;34m[\u001b[0m\u001b[0;36m3\u001b[0m\u001b[0;34m,\u001b[0m \u001b[0;36m0.2\u001b[0m\u001b[0;34m,\u001b[0m \u001b[0;36m7.0\u001b[0m\u001b[0;34m,\u001b[0m \u001b[0;36m5.0\u001b[0m\u001b[0;34m]\u001b[0m\u001b[0;34m)\u001b[0m\u001b[0;34m\u001b[0m\u001b[0;34m\u001b[0m\u001b[0m\n\u001b[1;32m      3\u001b[0m \u001b[0mnp\u001b[0m\u001b[0;34m.\u001b[0m\u001b[0mlinalg\u001b[0m\u001b[0;34m.\u001b[0m\u001b[0minv\u001b[0m\u001b[0;34m(\u001b[0m\u001b[0mnp\u001b[0m\u001b[0;34m.\u001b[0m\u001b[0mtranspose\u001b[0m\u001b[0;34m(\u001b[0m\u001b[0mA\u001b[0m\u001b[0;34m)\u001b[0m\u001b[0;34m@\u001b[0m\u001b[0mA\u001b[0m\u001b[0;34m)\u001b[0m\u001b[0;34m@\u001b[0m\u001b[0;34m(\u001b[0m\u001b[0mnp\u001b[0m\u001b[0;34m.\u001b[0m\u001b[0mtranspose\u001b[0m\u001b[0;34m(\u001b[0m\u001b[0mA\u001b[0m\u001b[0;34m)\u001b[0m\u001b[0;34m@\u001b[0m\u001b[0mf\u001b[0m\u001b[0;34m)\u001b[0m\u001b[0;34m\u001b[0m\u001b[0;34m\u001b[0m\u001b[0m\n\u001b[0;32m----> 4\u001b[0;31m \u001b[0mscal\u001b[0m\u001b[0;34m(\u001b[0m\u001b[0;34m(\u001b[0m\u001b[0;34m)\u001b[0m\u001b[0;34m)\u001b[0m\u001b[0;34m\u001b[0m\u001b[0;34m\u001b[0m\u001b[0m\n\u001b[0m",
      "\u001b[0;31mTypeError\u001b[0m: scal() missing 1 required positional argument: 'v'"
     ]
    }
   ],
   "source": [
    "A = np.array([[1,1], [2,-1], [1,3],[3, 1]])\n",
    "f = np.array([3, 0.2, 7.0, 5.0])\n",
    "np.linalg.inv(np.transpose(A)@A)@(np.transpose(A)@f)\n",
    "scal(())"
   ]
  },
  {
   "cell_type": "code",
   "execution_count": null,
   "metadata": {},
   "outputs": [],
   "source": []
  },
  {
   "cell_type": "code",
   "execution_count": null,
   "metadata": {},
   "outputs": [],
   "source": []
  }
 ],
 "metadata": {
  "kernelspec": {
   "display_name": "Python 3",
   "language": "python",
   "name": "python3"
  },
  "language_info": {
   "codemirror_mode": {
    "name": "ipython",
    "version": 3
   },
   "file_extension": ".py",
   "mimetype": "text/x-python",
   "name": "python",
   "nbconvert_exporter": "python",
   "pygments_lexer": "ipython3",
   "version": "3.7.3"
  }
 },
 "nbformat": 4,
 "nbformat_minor": 4
}
