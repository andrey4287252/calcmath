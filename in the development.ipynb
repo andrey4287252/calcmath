{
 "cells": [
  {
   "cell_type": "code",
   "execution_count": 7,
   "metadata": {},
   "outputs": [],
   "source": [
    "import itertools as it\n",
    "import numpy as np\n",
    "import matplotlib.pyplot as plt\n",
    "import pandas as pd\n",
    "import functools\n",
    "import math\n",
    "import fractions\n",
    "from scipy.interpolate import lagrange\n",
    "\n",
    "from numpy import linalg as LA\n",
    "#МПИ\n",
    "def SimpleIteration(R, x, F):#R - матрица, x - столбец, F - правая часть (столбец)\n",
    "    T = R@x + F\n",
    "    return (T)\n",
    "#МПИ k раз\n",
    "def SimpleIterations(R,x,F,k):#R - матрица, x - столбец с которого итерируемся, F - правая часть(столбец), k- число итераций\n",
    "    for i in range(k):\n",
    "        x = SimpleIteration(R, x, F)\n",
    "    return x\n",
    "#k итераций методом Гаусса - Якоби \n",
    "def GaussJacobyIterations(A, x, F, k):#A - матрица, x - столбец с которого итерируемся, F - правая часть, k- число итераций\n",
    "            D = np.diag(np.diag(A))\n",
    "            Q = np.identity(len(A))\n",
    "            G = np.identity(len(A))\n",
    "            for i in range(len(A)):\n",
    "                Q[i][i] = 1/D[i][i]\n",
    "            R = -Q@(A - D)\n",
    "            f = Q@F\n",
    "            return SimpleIterations(R, x, f, k)\n",
    "#Скалярное произведение\n",
    "def scal(u, v):#u, v - сомножители (столбцы)\n",
    "    return u@np.transpose(v)\n",
    "#Итерационный метод вычисления максимального собственного вектора\n",
    "def MaxEigenIterations(A, x, k):#A - матрица, x - вектор с которого итерируемся, k -число итераций\n",
    "    u = SimpleIterations(A, x, 0, k-1)\n",
    "    return scal(SimpleIteration(A,u,0), u)/scal(u, u)"
   ]
  },
  {
   "cell_type": "code",
   "execution_count": 2,
   "metadata": {},
   "outputs": [
    {
     "name": "stdout",
     "output_type": "stream",
     "text": [
      "[[ 0.   -0.05  0.1  -0.15]\n",
      " [ 0.1   0.   -0.15  0.2 ]\n",
      " [-0.15  0.1   0.   -0.05]\n",
      " [-0.15  0.1  -0.05  0.  ]]\n"
     ]
    },
    {
     "data": {
      "text/plain": [
       "0.0051242326227329835"
      ]
     },
     "execution_count": 2,
     "metadata": {},
     "output_type": "execute_result"
    }
   ],
   "source": [
    "A = np.array([[20, -1, 2, -3], [2, 20, -3, 4], [-3, 2, 20, -1],[-3,2,-1,20]], float)\n",
    "D = np.diag(np.diag(A))\n",
    "E = np.identity(4)\n",
    "R = LA.inv(D)@A - E\n",
    "print(R)\n",
    "LA.norm(R, np.inf)\n",
    "LA.norm(LA.inv((np.tril(A)@np.triu(A))))"
   ]
  },
  {
   "cell_type": "code",
   "execution_count": 3,
   "metadata": {},
   "outputs": [],
   "source": [
    "def AbsMax(A):\n",
    "    return np.max(np.array([np.max(A), -np.min(A)]))"
   ]
  },
  {
   "cell_type": "code",
   "execution_count": 4,
   "metadata": {},
   "outputs": [
    {
     "data": {
      "text/plain": [
       "array([ 0.6, -0.8])"
      ]
     },
     "execution_count": 4,
     "metadata": {},
     "output_type": "execute_result"
    }
   ],
   "source": [
    "A = np.array([[3, 1], [1, 2]])\n",
    "x = np.array([0, 0])\n",
    "F = np.array([1, -1])\n",
    "np.linalg.solve(A, F)"
   ]
  },
  {
   "cell_type": "code",
   "execution_count": 5,
   "metadata": {},
   "outputs": [
    {
     "name": "stdout",
     "output_type": "stream",
     "text": [
      "[[ 0.1  0.2  0. ]\n",
      " [ 0.2 -0.1  0.1]\n",
      " [-0.3  0.   0.2]]\n",
      "1: [-3.05483029  1.25326371 -0.10443864]\n",
      "2: [-3.05483029  1.25326371 -0.10443864]\n"
     ]
    }
   ],
   "source": [
    "r = np.array([[0.1, 0.20, 0.0], [0.20, -0.10, 0.10], [-0.30, 0.0, 0.20]])\n",
    "f = np.array([-3.0, 2.0, -1.0])\n",
    "R = np.array([[0,2/9,0], [2/11, 0, 1/11], [-3/8, 0, 0]])\n",
    "F = np.array([-30/9, 20/11, -10/8])\n",
    "x = np.array([0, 0, 0])\n",
    "print(r)\n",
    "for i in range(100):\n",
    "    x = r@x + f\n",
    "print(\"1:\", x)\n",
    "for i in range(100):\n",
    "    x = R@x + F\n",
    "print(\"2:\",x)\n"
   ]
  },
  {
   "cell_type": "code",
   "execution_count": 6,
   "metadata": {},
   "outputs": [],
   "source": [
    "def IntVect(v, maxnum):\n",
    "    answ = 0\n",
    "    norm = np.linalg.norm(v)\n",
    "    for k in range(1, maxnum):\n",
    "        q = k*v\n",
    "        approx = np.array([0 for i in range(len(v))])\n",
    "        for i in range(len(v)):\n",
    "            if (q[i] - int(q[i])) < (int(q[i]) + 1 - q[i]):\n",
    "                approx[i] = int(q[i])\n",
    "            else:\n",
    "                approx[i] = int(q[i]) + 1\n",
    "        if k == 1:\n",
    "            norm = np.linalg.norm(q - approx, 2)\n",
    "        else:\n",
    "            if np.linalg.norm(q - approx) < norm:\n",
    "                answ = approx\n",
    "                norm = np.linalg.norm(q -approx)\n",
    "    return (answ, q)\n"
   ]
  },
  {
   "cell_type": "code",
   "execution_count": 7,
   "metadata": {},
   "outputs": [],
   "source": [
    "def SpecRad (A):\n",
    "        return AbsMax(np.linalg.eig(A)[0])"
   ]
  },
  {
   "cell_type": "code",
   "execution_count": 8,
   "metadata": {},
   "outputs": [
    {
     "ename": "NameError",
     "evalue": "name 'OptRel' is not defined",
     "output_type": "error",
     "traceback": [
      "\u001b[0;31m---------------------------------------------------------------------------\u001b[0m",
      "\u001b[0;31mNameError\u001b[0m                                 Traceback (most recent call last)",
      "\u001b[0;32m<ipython-input-8-26d616707c97>\u001b[0m in \u001b[0;36m<module>\u001b[0;34m\u001b[0m\n\u001b[1;32m      1\u001b[0m \u001b[0mA\u001b[0m \u001b[0;34m=\u001b[0m \u001b[0mnp\u001b[0m\u001b[0;34m.\u001b[0m\u001b[0marray\u001b[0m\u001b[0;34m(\u001b[0m\u001b[0;34m[\u001b[0m\u001b[0;34m[\u001b[0m\u001b[0;36m2\u001b[0m\u001b[0;34m,\u001b[0m \u001b[0;36m1\u001b[0m\u001b[0;34m]\u001b[0m\u001b[0;34m,\u001b[0m\u001b[0;34m[\u001b[0m\u001b[0;36m1\u001b[0m\u001b[0;34m,\u001b[0m \u001b[0;36m2\u001b[0m\u001b[0;34m]\u001b[0m\u001b[0;34m]\u001b[0m\u001b[0;34m)\u001b[0m\u001b[0;34m\u001b[0m\u001b[0;34m\u001b[0m\u001b[0m\n\u001b[0;32m----> 2\u001b[0;31m \u001b[0mOptRel\u001b[0m\u001b[0;34m(\u001b[0m\u001b[0mA\u001b[0m\u001b[0;34m)\u001b[0m\u001b[0;34m\u001b[0m\u001b[0;34m\u001b[0m\u001b[0m\n\u001b[0m",
      "\u001b[0;31mNameError\u001b[0m: name 'OptRel' is not defined"
     ]
    }
   ],
   "source": [
    "A = np.array([[2, 1],[1, 2]])\n",
    "OptRel(A)"
   ]
  },
  {
   "cell_type": "code",
   "execution_count": null,
   "metadata": {},
   "outputs": [],
   "source": [
    "def OptRel(A):\n",
    "    D = np.diag(A)\n",
    "    Q = np.identity(len(A))\n",
    "    G = np.identity(len(A))\n",
    "    for i in range(len(A)):\n",
    "        Q[i][i] = 1/D[i]\n",
    "        G[i][i] = D[i]\n",
    "    R = -Q@(A - G)\n",
    "    return (2/(1 + (1 - (SpecRad(R))**2)**0.5)\n",
    "    \n"
   ]
  },
  {
   "cell_type": "code",
   "execution_count": null,
   "metadata": {},
   "outputs": [],
   "source": []
  },
  {
   "cell_type": "markdown",
   "metadata": {},
   "source": []
  },
  {
   "cell_type": "code",
   "execution_count": null,
   "metadata": {},
   "outputs": [],
   "source": [
    "A = np.array([[2, 1], [1, 2]], float)\n",
    "f = np.array([1, 0], float)\n",
    "x = np.array([0, 0], float)\n",
    "GaussJacobyIterations(A, x, f, 100)"
   ]
  },
  {
   "cell_type": "markdown",
   "metadata": {},
   "source": [
    "$u^{(s+1)} = u^{(s)} + \\tau (f - Au^{(s)})$"
   ]
  },
  {
   "cell_type": "markdown",
   "metadata": {},
   "source": [
    "Метод вращений.\n",
    "\n",
    "$T^TAT = \\Lambda$\n",
    "\n",
    "$\\tan (2\\alpha) = \\frac{2a_{ij}}{a_{ii} - a_{jj}}$"
   ]
  },
  {
   "cell_type": "markdown",
   "metadata": {},
   "source": [
    "МНК:\n",
    "\n",
    "$\\Phi(\\vec{u}) = \\Sigma_i (\\Sigma_j a_{ij}u_j - f_i)^2 \\rightarrow min$\n",
    "\n",
    "$A_{nxm}\\vec{u}_n = \\vec{f}_m$\n",
    "\n",
    "$(A*A)_{nxn}\\vec{u} = (A*f)_n$"
   ]
  },
  {
   "cell_type": "markdown",
   "metadata": {},
   "source": [
    "Полиномы Чебышева $T_j(x)$\n",
    "<br>\n",
    "Их линейная комбинация:\n",
    "<br>\n",
    "$P_k(x) = \\sum_{j = 0}^{k} c_jT_j(x)$"
   ]
  },
  {
   "cell_type": "code",
   "execution_count": null,
   "metadata": {},
   "outputs": [],
   "source": [
    "import numpy as np\n",
    "from numpy import polynomial as POL"
   ]
  },
  {
   "cell_type": "code",
   "execution_count": null,
   "metadata": {},
   "outputs": [],
   "source": [
    "#x - вектор точек в которых необходимо узнать значения линейной комбинации многочленов Чебышева\n",
    "#c - вектор коэффициентов перед многочленами Чебышева (см.выше)\n",
    "x = np.array([3])\n",
    "c = np.array([2])\n",
    "POL.chebyshev.chebval(x,c)"
   ]
  },
  {
   "cell_type": "markdown",
   "metadata": {},
   "source": [
    "$\\textbf{Метод наискорейшего спуска}$"
   ]
  },
  {
   "cell_type": "code",
   "execution_count": null,
   "metadata": {},
   "outputs": [],
   "source": [
    "#A - матрица, u - начальный ветор, f - правая часть, k - число итераций\n",
    "def desc (A, u, f ,k):\n",
    "    for i in range(k):\n",
    "        r = A@u - f\n",
    "        if(scal(r,r) == 0):\n",
    "            return u\n",
    "        t = scal(r, r)/scal(A@r, r)\n",
    "        u = u - t*r\n",
    "    return u\n"
   ]
  },
  {
   "cell_type": "code",
   "execution_count": null,
   "metadata": {},
   "outputs": [],
   "source": [
    "#A - матрица, u - начальный ветор, f - правая часть, k - число итераций\n",
    "def minnev (A, u, f ,k):\n",
    "    for i in range(k):\n",
    "        r = A@u - f\n",
    "        if(scal(r,r) == 0):\n",
    "            return u\n",
    "        t = scal(A@r, r)/scal(A@r, A@r)\n",
    "        u = u - t*r\n",
    "    return u\n"
   ]
  },
  {
   "cell_type": "code",
   "execution_count": null,
   "metadata": {},
   "outputs": [],
   "source": [
    "A = np.array([[10*j + i for i in range(10)] for j in range(10)])\n",
    "print(A)"
   ]
  },
  {
   "cell_type": "code",
   "execution_count": null,
   "metadata": {},
   "outputs": [],
   "source": [
    "#Интерполяция многочленом проходящим через заданную сетку\n",
    "def SimplePolynomialInterpolation(x, y):\n",
    "    A = np.array([[x[j]**i for i in range(len(y))] for j in range(len(x))])\n",
    "    return np.linalg.solve(A, y)"
   ]
  },
  {
   "cell_type": "code",
   "execution_count": null,
   "metadata": {},
   "outputs": [],
   "source": [
    "x = np.array([0, 1])\n",
    "y = np.array([1, 0])\n",
    "SimplePolynomialInterpolation(x, y)"
   ]
  },
  {
   "cell_type": "code",
   "execution_count": null,
   "metadata": {},
   "outputs": [],
   "source": [
    "def integer_collinear_vector(numbers, max_denominator=1000000):\n",
    "    t = np.array([])\n",
    "    for i in range(len(numbers)):\n",
    "        if numbers[i] != 0:\n",
    "            a = np.array([numbers[i]])\n",
    "            t = np.concatenate((t, a))\n",
    "    norma = np.min(t)\n",
    "    numbers = [num / norma for num in numbers]\n",
    "    fracts = [fractions.Fraction(f).limit_denominator(max_denominator) for f in numbers]\n",
    "    denoms = [f.denominator for f in fracts]\n",
    "    denoms_gcd = functools.reduce(math.gcd, denoms)\n",
    "    denoms_lcm = functools.reduce(lambda a, b: a*b, [d // denoms_gcd for d in denoms]) * denoms_gcd\n",
    "    result_integers = [f.numerator * (denoms_lcm // f.denominator) for f in fracts]\n",
    "    return result_integers"
   ]
  },
  {
   "cell_type": "code",
   "execution_count": null,
   "metadata": {},
   "outputs": [],
   "source": [
    "A = np.array([[18, 6, 0], [6, 6, -7], [0, -7, 18]])\n",
    "B = np.linalg.inv(A)\n",
    "D = np.di\n",
    "E = np.identity(3)\n",
    "np.linalg.eig(B)"
   ]
  },
  {
   "cell_type": "code",
   "execution_count": null,
   "metadata": {},
   "outputs": [],
   "source": [
    "33.7/3**0.5"
   ]
  },
  {
   "cell_type": "code",
   "execution_count": null,
   "metadata": {},
   "outputs": [],
   "source": [
    "def f1(a, b):\n",
    "    return a + b\n",
    "def b(f, x, y):\n",
    "    return f(x, y)"
   ]
  },
  {
   "cell_type": "code",
   "execution_count": null,
   "metadata": {},
   "outputs": [],
   "source": [
    "b(f1, 1, 2)"
   ]
  },
  {
   "cell_type": "code",
   "execution_count": null,
   "metadata": {},
   "outputs": [],
   "source": [
    "for i in range(1):\n",
    "    print(i)"
   ]
  },
  {
   "cell_type": "code",
   "execution_count": null,
   "metadata": {},
   "outputs": [],
   "source": [
    "def Newton_Form_Iteration(f, x, p):\n",
    "    F = np.array([[(f(x[n:(n + p + 1)]) - f(x[(n - 1):(n + p)]))/(x[n + p - 1] - x[n])]"
   ]
  },
  {
   "cell_type": "code",
   "execution_count": 19,
   "metadata": {},
   "outputs": [
    {
     "data": {
      "text/plain": [
       "array([-0.13397, -0.36603, -0.5    , -0.5    ])"
      ]
     },
     "execution_count": 19,
     "metadata": {},
     "output_type": "execute_result"
    }
   ],
   "source": [
    "def ref(X, Y):\n",
    "    D = [X[i+1] - X[i] for i in range(len(X) - 1)]\n",
    "    F = [Y[i + 1] - Y[i] for i in range(len(Y) - 1)]\n",
    "    return D, F\n",
    "def iteration (D, F):\n",
    "    D = [D[i+1] + D[i] for i in range(len(X) - 1)]\n",
    "    F = [F[i+1] - F[i] for i in range(len(X) - 1)]\n",
    "    return D, F\n",
    "def answ (D, F):\n",
    "    return np.array([F[i]/D[i] for i in range(len(D))], float)\n",
    "\n",
    "X = np.array([0, 1, 2, 3, 4], float)\n",
    "Y = np.array([1, 0.86603, 0.5, 0., -0.5])\n",
    "ref(X, Y)\n",
    "answ(ref(X, Y)[0], ref(X,Y)[1])"
   ]
  },
  {
   "cell_type": "markdown",
   "metadata": {},
   "source": [
    "$\\textbf{Формула Ньютона - Котеса}$\n",
    "\n",
    "$\\int_{a}^{b} f(x)dx= \\sum_{i = 0}^{n - 1} f(\\xi_i)(x_{i + 1} - x_{i})$\n",
    "\n",
    "$\\xi_i = \\frac{x_{i+1} - x_{i}}{2}$\n",
    "\n"
   ]
  },
  {
   "cell_type": "code",
   "execution_count": 27,
   "metadata": {},
   "outputs": [],
   "source": [
    "def SimInt (X, Y):\n",
    "    S = 0.\n",
    "    for i in range(len(X) - 1):\n",
    "        S += (Y[i] + Y[i + 1])*(X[i + 1] - X[i])/2\n",
    "#        print((Y[i] + Y[i+1])*(X[i + 1] - X[i])/2)\n",
    "    return S"
   ]
  },
  {
   "cell_type": "markdown",
   "metadata": {},
   "source": [
    "\n",
    "$\\textbf{Формула трапеции}$\n",
    "\n",
    "$\\int_{a}^{b} f(x)dx= \\sum_{i = 0}^{n - 1} \\frac{(f(x_i) + f(x_{i + 1})}{2}(x_{i + 1} - x_{i})$\n",
    "\n",
    "$\\xi_i = \\frac{x_{i+1} - x_{i}}{2}$"
   ]
  },
  {
   "cell_type": "code",
   "execution_count": 16,
   "metadata": {},
   "outputs": [],
   "source": [
    "def TrapInt (X, Y):\n",
    "    S = 0.\n",
    "    for i in range(len(X) - 1):\n",
    "        S += (Y[i] + Y[i + 1])*(X[i + 1] - X[i])/2\n",
    "#        print((Y[i] + Y[i+1])*(X[i + 1] - X[i])/2)\n",
    "    return S"
   ]
  },
  {
   "cell_type": "markdown",
   "metadata": {},
   "source": [
    "$\\textbf{Квадратуры Гаусса}$\n",
    "$\\int_{a}^{b} f(x)dx = \\sum_{i = 1}^{n}c_i f(x_i)\n",
    "\n",
    "$\\{c_i\\}$ - веса квадратур (n штук)\n",
    "\n",
    "$\\{x_i\\}$ - узлы квадратур (n штук)\n",
    "\n",
    "Требуем, чтобы формула была точна для многочленов как можно большей степени\n",
    "\n",
    "$\\frac{b^k - a^k}{k + 1} = \\sum_{i = 1}^{n} c_i (x_i)^k$"
   ]
  },
  {
   "cell_type": "code",
   "execution_count": 29,
   "metadata": {},
   "outputs": [
    {
     "data": {
      "text/plain": [
       "0.7847469999999999"
      ]
     },
     "execution_count": 29,
     "metadata": {},
     "output_type": "execute_result"
    }
   ],
   "source": [
    "X = np.array([0.000, 0.125, 0.25, 0.375, 0.5, 0.625, 0.750, 0.875, 1.000], float)\n",
    "Y = np.array([1.0000, 0.984615, 0.941176, 0.876712, 0.8, 0.719101, 0.64, 0.566372, 0.5], float)\n",
    "TrapInt(X,Y)"
   ]
  },
  {
   "cell_type": "markdown",
   "metadata": {},
   "source": [
    "$\\textbf{Формула Эйлера-Маклорена}$\n",
    "$\\int_{a}^{b}f(x)dx = \\sum_{i = 0}^{n}(\\frac{(f(x_i) + f(x_{i + 1}))}{2}(x_{i + 1} - x_i) - \\frac{(x_{i+1} - x_{i})^2}{2}(f'(x_{i+1}) - f'(x_{i}))$"
   ]
  },
  {
   "cell_type": "code",
   "execution_count": 23,
   "metadata": {},
   "outputs": [],
   "source": [
    "def EuMac(X , Y, U):\n",
    "    S = 0.\n",
    "    for i in range(len(X) - 1):\n",
    "        S += (Y[i] + Y[i + 1])*(X[i + 1] - X[i])/2 - ((X[i + 1] - X[i])**2)*(U[i + 1] - U[i])/2\n",
    "        #print((Y[i] + Y[i+1])*(X[i + 1] - X[i])/2)\n",
    "    return S\n"
   ]
  },
  {
   "cell_type": "markdown",
   "metadata": {},
   "source": [
    "$\\textbf{Вычисление интегралов от функций с особенностями.}$\n",
    "\n",
    "1.Несобственные интегралы 1,2 рода.\n",
    "\n",
    "2.Интегралы от быстроосциллирующих функций\n",
    "\n",
    "Пример:\n",
    "\n",
    "$$I = \\int_0^1\\frac{\\cos(x)}{\\sqrt(x)}dx$$\n",
    "\n",
    "Для интегрирования неограниченных функций комбинируют аналитические и численные методы.\\\\\n",
    "1)Замена переменной\n",
    "\n",
    "$$I = | x = t^2 | = 2\\int_0^1\\cos(t^2)dt$$\n",
    "\n",
    "2)Интегрирование по частям\n",
    "\n",
    "$$I = 2\\sqrt x \\cos(x)|_0^1 + 2\\int_0^1\\sqrt x\\sin(x)dx$$ (Особенность пропала)\n",
    "\n",
    "3)Метод явного выделения особенности Канторовича\n",
    "\n",
    "$$I = \\int_0^1\\frac{\\cos(x)}{\\sqrt(x)}dx = \\int_0^1\\frac{1}{\\sqrt(x)}dx + \\int_0^1\\frac{\\cos(x) - 1}{\\sqrt(x)}dx = 2\\sqrt(x)|_0^1 - 2\\int_0^1\\frac{\\sin^2(\\frac{x}{2})}{\\sqrt x}dx$$\n",
    "\n",
    "4) Разложение в ряд\n",
    "$$I = \\int\\limits_0^{\\delta} \\frac{\\cos x}{\\sqrt{x}} \\, dx + \\int\\limits_{\\delta}^{1} \\frac{\\cos x}{\\sqrt{x}} \\, dx = \\int\\limits_0^{\\delta} \\frac{1 - x^2/2 + x^4/24 + ...}{\\sqrt{x}} \\, dx + \\int\\limits_{\\delta}^{1} \\frac{\\cos x}{\\sqrt{x}} \\, dx$$\n",
    "\n",
    "\n",
    "\n",
    "\n",
    "Задача:\n",
    "Описать алгортм вычисления методом трапеций для заданной функции.\n",
    "\n",
    "$\\int_0^{\\frac{\\pi}{2}}\\ln (\\sin (x))dx$ - с точностью $\\epsilon = 10^{-4}$\n",
    "\n",
    "Решение:\n",
    "\n",
    "$$\\int_0^\\frac{\\pi}{2}\\ln(\\sin(x))dx = \\int_0^{\\frac{\\pi}{2}}\\ln(\\frac{\\sin(x)}{x})dx = (x\\ln(x) - x)|_0^{\\frac{\\pi}{2}} + \\int_0^{\\frac{\\pi}{2}}\\ln(\\frac{\\sin(x)}{x})dx $$\n",
    "\n",
    " Задача:\n",
    " \n",
    " "
   ]
  },
  {
   "cell_type": "markdown",
   "metadata": {},
   "source": [
    "$\\textbf{Численное решение ОДУ}$\n",
    "\n",
    "1)Коши\n",
    "\n",
    "2)Краевые задачи\n",
    "\n",
    "3)Спектральные задачи\n",
    "\n",
    "$\\textbf{Основные определения}$\n",
    "\n",
    "Диф. задача:\n",
    "$\\mathcal{L}u = f,\\ u(x_0)=u_0$\n",
    "\n",
    "Сопоставляется:\n",
    "\n",
    "Разностная схема:\n",
    "$Ly = \\varphi,\\ y_0 = u_0 + ...$\n",
    "\n",
    "\n",
    "$\\textbf{Опр}$\n",
    "\n",
    "Разностная задача сходится к решению дифференциальной задачи, если $||[u]_{h} - y||_{Y}\\rightarrow 0$ при $h\\rightarrow 0$\n",
    "\n",
    "$[u]_h = \\{u_m\\}_{m=0}^N$\n",
    "\n",
    "Примеры разностных схем:\n",
    "\n",
    "1) Явная схема Эйлера:\n",
    "\n",
    "$\\frac{y_{m+1} - y_{m}}{h} = f(x_m, y_m)$\n",
    "\n",
    "$y_0 = u_0$\n",
    "\n",
    "\n",
    "2) Неявная схема Эйлера\n",
    "\n",
    "$\\frac{y_{m+1} - y_{m}}{h} = f(x_{m+1}, y_{m+1})$\n",
    "\n",
    "$y_0 = u_0$\n",
    "\n",
    "3) Схема с центральной разностью:\n",
    "\n",
    "$\\frac{y_{m+1} - y_{m-1}}{2h} = f(x_{m}, y_{m})$\n",
    "\n",
    "$y_{0} = u_{0}$\n",
    "\n",
    "Необх $y_{1} = ?$\n",
    "\n",
    "4) Метод трапеций\n",
    "\n",
    "$\\frac{y_{m+1} - y_{m}}{h} = \\frac{1}{2}(f_{m} + f_{m+1})$\n",
    "\n",
    "5) Схема Эйлера с пересчётом\n",
    "\n",
    "предиктор\n",
    "\n",
    "$\\frac{y_{m+\\frac{1}{2}} - y_{m}}{\\frac{h}{2}} = f_{m}$\n",
    "\n",
    "корректор\n",
    "\n",
    "$\\frac{y_{m+1} - y_{m}}{h} = f(x_{m} + \\frac{h}{2}, y_{m + \\frac{1}{2}})$\n",
    "\n",
    "$||[u]_{h} - y||_{Y} \\leq c\\cdot h^{p}$\n",
    "\n",
    "Сходимость порядка p. c - сеточно независимая константа\n",
    "\n",
    "\\textbf{Задача} Доказать сходимость и определить порядок сходимости метода трапеций для решения задачи:\n",
    "\n",
    "$u' = -8u$\n",
    "\n",
    "$u(0) = 2$\n",
    "\n",
    "Решение:\n",
    "\n",
    "$u(x) = 2e^{-8x}$\n",
    "\n",
    "$[u]^m_h = 2e^{-7x)m} = 2e^{-8mh}$\n",
    "\n",
    "$\\frac{y_{m+1} - y_{m}}{h} = -8\\frac{1}{2}(y_{m} + y_{m+1})$\n",
    "\n",
    "$y_{m+1} = y_{m}\\frac{1-4h}{1+4h}$\n",
    "\n",
    "$y_{m+1} = y_0(\\frac{1 - 4h}{1 + 4h})^m$\n",
    "\n",
    "$||[u]_h - y|| = max_{0\\leq m\\leq N}|2e^{-8mh} - 2(\\frac{1 - 4h}{1 + 4h})^m| = 2max_{0\\leq m\\leq N}|e^{-8mh} - e^{m(ln(1 - 4h)- ln(1 + 4h))}|\\leq 2\\cdot \\frac{128}{3}mh^3 = 2 \\frac{128}{3} X h^2$\n",
    "\n",
    "$\\textbf{Определение}$\n",
    "Невязкой разностной схемы называется результат подстановки в разностную схему сеточной проекции точного решения диф. задачи.\n",
    "$r_h = L[u]_h - \\varphi$\n",
    "\n",
    "$\\textbf{Определение:}Разностная схема называется аппроксимирующей данную дифференциальную систему, если $r_h \\rightarrow 0 при h\\rightarrow 0$\n",
    "\n",
    "$\\textbf{Определение} Разн. задача устойчива, если \\exists h_0\\exists \\epsilon : \\forall h\\leq h_0, \\forall \\epsilon^{(1)}, \\epsilon^{(2)}: ||\\epsilon^{(1)}||\\leq \\epsilon, ||\\epsilon^{(2)}||\\leq \\epsilon$\n",
    "\n",
    "Для решения возмущённых задач:\n",
    "\n",
    "$Ly^{(2)} = \\varphi + \\epsilon^{(1)}$\n",
    "    \n",
    "$Ly^{(1)} = \\varphi + \\epsilon^{(2)}$\n",
    "\n",
    "Выполнено:\n",
    "\n",
    "$||y^{(1)} - y^{(2)}||\\leq c_2(||\\epsilon^{(1)} + \\epsilon^{(2)}||)$\n",
    "\n",
    "Теорема:(Лакса-Рябенького-Филиппова)\n",
    "Если разностная задача аппроксимирует дифференциальную и устойчива, то решение разностной задачи сходится к решению дифференциальной (по норме), причём порядок сходимости равен порядку аппроксимации.\n",
    "\n",
    "$Ly = \\varphi$\n",
    "\n",
    "$L[u]_h = \\varphi + r_h$\n",
    "\n",
    "И задача устойчиваа, то $||y - u_h||\\leq c||r_h||$"
   ]
  },
  {
   "cell_type": "code",
   "execution_count": null,
   "metadata": {},
   "outputs": [],
   "source": [
    "\n"
   ]
  }
 ],
 "metadata": {
  "kernelspec": {
   "display_name": "Python 3",
   "language": "python",
   "name": "python3"
  },
  "language_info": {
   "codemirror_mode": {
    "name": "ipython",
    "version": 3
   },
   "file_extension": ".py",
   "mimetype": "text/x-python",
   "name": "python",
   "nbconvert_exporter": "python",
   "pygments_lexer": "ipython3",
   "version": "3.7.3"
  }
 },
 "nbformat": 4,
 "nbformat_minor": 4
}
