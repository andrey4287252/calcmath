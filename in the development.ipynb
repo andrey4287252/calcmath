{
 "cells": [
  {
   "cell_type": "code",
   "execution_count": 2,
   "metadata": {},
   "outputs": [],
   "source": [
    "import itertools as it\n",
    "import numpy as np\n",
    "import matplotlib.pyplot as plt\n",
    "import pandas as pd\n",
    "import functools\n",
    "import math\n",
    "import fractions\n",
    "\n",
    "\n",
    "from numpy import linalg as LA\n",
    "#МПИ\n",
    "def SimpleIteration(R, x, F):#R - матрица, x - столбец, F - правая часть (столбец)\n",
    "    T = R@x + F\n",
    "    return (T)\n",
    "#МПИ k раз\n",
    "def SimpleIterations(R,x,F,k):#R - матрица, x - столбец с которого итерируемся, F - правая часть(столбец), k- число итераций\n",
    "    for i in range(k):\n",
    "        x = SimpleIteration(R, x, F)\n",
    "    return x\n",
    "#k итераций методом Гаусса - Якоби \n",
    "def GaussJacobyIterations(A, x, F, k):#A - матрица, x - столбец с которого итерируемся, F - правая часть, k- число итераций\n",
    "            D = np.diag(np.diag(A))\n",
    "            Q = np.identity(len(A))\n",
    "            G = np.identity(len(A))\n",
    "            for i in range(len(A)):\n",
    "                Q[i][i] = 1/D[i][i]\n",
    "            R = -Q@(A - D)\n",
    "            f = Q@F\n",
    "            return SimpleIterations(R, x, f, k)\n",
    "#Скалярное произведение\n",
    "def scal(u, v):#u, v - сомножители (столбцы)\n",
    "    return u@np.transpose(v)\n",
    "#Итерационный метод вычисления максимального собственного вектора\n",
    "def MaxEigenIterations(A, x, k):#A - матрица, x - вектор с которого итерируемся, k -число итераций\n",
    "    u = SimpleIterations(A, x, 0, k-1)\n",
    "    return scal(SimpleIteration(A,u,0), u)/scal(u, u)"
   ]
  },
  {
   "cell_type": "code",
   "execution_count": 25,
   "metadata": {},
   "outputs": [
    {
     "name": "stdout",
     "output_type": "stream",
     "text": [
      "[[ 0.   -0.05  0.1  -0.15]\n",
      " [ 0.1   0.   -0.15  0.2 ]\n",
      " [-0.15  0.1   0.   -0.05]\n",
      " [-0.15  0.1  -0.05  0.  ]]\n"
     ]
    },
    {
     "data": {
      "text/plain": [
       "0.0051242326227329835"
      ]
     },
     "execution_count": 25,
     "metadata": {},
     "output_type": "execute_result"
    }
   ],
   "source": [
    "A = np.array([[20, -1, 2, -3], [2, 20, -3, 4], [-3, 2, 20, -1],[-3,2,-1,20]], float)\n",
    "D = np.diag(np.diag(A))\n",
    "E = np.identity(4)\n",
    "R = LA.inv(D)@A - E\n",
    "print(R)\n",
    "LA.norm(R, np.inf)\n",
    "LA.norm(LA.inv((np.tril(A)@np.triu(A))))"
   ]
  },
  {
   "cell_type": "code",
   "execution_count": 16,
   "metadata": {},
   "outputs": [],
   "source": [
    "def AbsMax(A):\n",
    "    return np.max(np.array([np.max(A), -np.min(A)]))"
   ]
  },
  {
   "cell_type": "code",
   "execution_count": 35,
   "metadata": {},
   "outputs": [
    {
     "data": {
      "text/plain": [
       "array([ 0.6, -0.8])"
      ]
     },
     "execution_count": 35,
     "metadata": {},
     "output_type": "execute_result"
    }
   ],
   "source": [
    "A = np.array([[3, 1], [1, 2]])\n",
    "x = np.array([0, 0])\n",
    "F = np.array([1, -1])\n",
    "np.linalg.solve(A, F)"
   ]
  },
  {
   "cell_type": "code",
   "execution_count": 74,
   "metadata": {},
   "outputs": [
    {
     "name": "stdout",
     "output_type": "stream",
     "text": [
      "[[ 0.1  0.2  0. ]\n",
      " [ 0.2 -0.1  0.1]\n",
      " [-0.3  0.   0.2]]\n",
      "1: [-3.05483029  1.25326371 -0.10443864]\n",
      "2: [-3.05483029  1.25326371 -0.10443864]\n"
     ]
    }
   ],
   "source": [
    "r = np.array([[0.1, 0.20, 0.0], [0.20, -0.10, 0.10], [-0.30, 0.0, 0.20]])\n",
    "f = np.array([-3.0, 2.0, -1.0])\n",
    "R = np.array([[0,2/9,0], [2/11, 0, 1/11], [-3/8, 0, 0]])\n",
    "F = np.array([-30/9, 20/11, -10/8])\n",
    "x = np.array([0, 0, 0])\n",
    "print(r)\n",
    "for i in range(100):\n",
    "    x = r@x + f\n",
    "print(\"1:\", x)\n",
    "for i in range(100):\n",
    "    x = R@x + F\n",
    "print(\"2:\",x)\n"
   ]
  },
  {
   "cell_type": "code",
   "execution_count": 40,
   "metadata": {},
   "outputs": [],
   "source": [
    "def IntVect(v, maxnum):\n",
    "    answ = 0\n",
    "    norm = np.linalg.norm(v)\n",
    "    for k in range(1, maxnum):\n",
    "        q = k*v\n",
    "        approx = np.array([0 for i in range(len(v))])\n",
    "        for i in range(len(v)):\n",
    "            if (q[i] - int(q[i])) < (int(q[i]) + 1 - q[i]):\n",
    "                approx[i] = int(q[i])\n",
    "            else:\n",
    "                approx[i] = int(q[i]) + 1\n",
    "        if k == 1:\n",
    "            norm = np.linalg.norm(q - approx, 2)\n",
    "        else:\n",
    "            if np.linalg.norm(q - approx) < norm:\n",
    "                answ = approx\n",
    "                norm = np.linalg.norm(q -approx)\n",
    "    return (answ, q)\n"
   ]
  },
  {
   "cell_type": "code",
   "execution_count": 120,
   "metadata": {},
   "outputs": [],
   "source": [
    "def SpecRad (A):\n",
    "        return AbsMax(np.linalg.eig(A)[0])"
   ]
  },
  {
   "cell_type": "code",
   "execution_count": 145,
   "metadata": {},
   "outputs": [
    {
     "name": "stdout",
     "output_type": "stream",
     "text": [
      "[[ 0.  -0.5]\n",
      " [-0.5  0. ]]\n",
      "0.5000000000000001\n",
      "1.0717967697244908\n"
     ]
    },
    {
     "data": {
      "text/plain": [
       "0"
      ]
     },
     "execution_count": 145,
     "metadata": {},
     "output_type": "execute_result"
    }
   ],
   "source": [
    "A = np.array([[2, 1],[1, 2]])\n",
    "OptRel(A)"
   ]
  },
  {
   "cell_type": "code",
   "execution_count": 144,
   "metadata": {},
   "outputs": [],
   "source": [
    "def OptRel(A):\n",
    "    D = np.diag(A)\n",
    "    Q = np.identity(len(A))\n",
    "    G = np.identity(len(A))\n",
    "    for i in range(len(A)):\n",
    "        Q[i][i] = 1/D[i]\n",
    "        G[i][i] = D[i]\n",
    "    R = -Q@(A - G)\n",
    "    return (2/(1 + (1 - (SpecRad(R))**2)**0.5)\n",
    "    \n"
   ]
  },
  {
   "cell_type": "code",
   "execution_count": 113,
   "metadata": {},
   "outputs": [
    {
     "data": {
      "text/plain": [
       "3"
      ]
     },
     "execution_count": 113,
     "metadata": {},
     "output_type": "execute_result"
    }
   ],
   "source": []
  },
  {
   "cell_type": "markdown",
   "metadata": {},
   "source": []
  },
  {
   "cell_type": "code",
   "execution_count": 14,
   "metadata": {},
   "outputs": [
    {
     "name": "stdout",
     "output_type": "stream",
     "text": [
      "[[ 0.  -0.5]\n",
      " [-0.5  0. ]] [0.5 0. ] [0. 0.]\n"
     ]
    },
    {
     "data": {
      "text/plain": [
       "array([ 0.66666667, -0.33333333])"
      ]
     },
     "execution_count": 14,
     "metadata": {},
     "output_type": "execute_result"
    }
   ],
   "source": [
    "A = np.array([[2, 1], [1, 2]], float)\n",
    "f = np.array([1, 0], float)\n",
    "x = np.array([0, 0], float)\n",
    "GaussJacobyIterations(A, x, f, 100)"
   ]
  },
  {
   "cell_type": "markdown",
   "metadata": {},
   "source": [
    "$u^{(s+1)} = u^{(s)} + \\tau (f - Au^{(s)})$"
   ]
  },
  {
   "cell_type": "markdown",
   "metadata": {},
   "source": [
    "Метод вращений.\n",
    "\n",
    "$T^TAT = \\Lambda$\n",
    "\n",
    "$\\tan (2\\alpha) = \\frac{2a_{ij}}{a_{ii} - a_{jj}}$"
   ]
  },
  {
   "cell_type": "markdown",
   "metadata": {},
   "source": [
    "МНК:\n",
    "\n",
    "$\\Phi(\\vec{u}) = \\Sigma_i (\\Sigma_j a_{ij}u_j - f_i)^2 \\rightarrow min$\n",
    "\n",
    "$A_{nxm}\\vec{u}_n = \\vec{f}_m$\n",
    "\n",
    "$(A*A)_{nxn}\\vec{u} = (A*f)_n$"
   ]
  },
  {
   "cell_type": "markdown",
   "metadata": {},
   "source": [
    "Полиномы Чебышева $T_j(x)$\n",
    "<br>\n",
    "Их линейная комбинация:\n",
    "<br>\n",
    "$P_k(x) = \\sum_{j = 0}^{k} c_jT_j(x)$"
   ]
  },
  {
   "cell_type": "code",
   "execution_count": 5,
   "metadata": {},
   "outputs": [],
   "source": [
    "import numpy as np\n",
    "from numpy import polynomial as POL"
   ]
  },
  {
   "cell_type": "code",
   "execution_count": 8,
   "metadata": {},
   "outputs": [
    {
     "data": {
      "text/plain": [
       "array([2.])"
      ]
     },
     "execution_count": 8,
     "metadata": {},
     "output_type": "execute_result"
    }
   ],
   "source": [
    "#x - вектор точек в которых необходимо узнать значения линейной комбинации многочленов Чебышева\n",
    "#c - вектор коэффициентов перед многочленами Чебышева (см.выше)\n",
    "x = np.array([3])\n",
    "c = np.array([2])\n",
    "POL.chebyshev.chebval(x,c)"
   ]
  },
  {
   "cell_type": "markdown",
   "metadata": {},
   "source": [
    "$\\textbf{Метод наискорейшего спуска}$"
   ]
  },
  {
   "cell_type": "code",
   "execution_count": 19,
   "metadata": {},
   "outputs": [],
   "source": [
    "#A - матрица, u - начальный ветор, f - правая часть, k - число итераций\n",
    "def desc (A, u, f ,k):\n",
    "    for i in range(k):\n",
    "        r = A@u - f\n",
    "        if(scal(r,r) == 0):\n",
    "            return u\n",
    "        t = scal(r, r)/scal(A@r, r)\n",
    "        u = u - t*r\n",
    "    return u\n"
   ]
  },
  {
   "cell_type": "code",
   "execution_count": 23,
   "metadata": {},
   "outputs": [],
   "source": [
    "#A - матрица, u - начальный ветор, f - правая часть, k - число итераций\n",
    "def minnev (A, u, f ,k):\n",
    "    for i in range(k):\n",
    "        r = A@u - f\n",
    "        if(scal(r,r) == 0):\n",
    "            return u\n",
    "        t = scal(A@r, r)/scal(A@r, A@r)\n",
    "        u = u - t*r\n",
    "    return u\n"
   ]
  },
  {
   "cell_type": "code",
   "execution_count": 39,
   "metadata": {},
   "outputs": [
    {
     "name": "stdout",
     "output_type": "stream",
     "text": [
      "[[ 0  1  2  3  4  5  6  7  8  9]\n",
      " [10 11 12 13 14 15 16 17 18 19]\n",
      " [20 21 22 23 24 25 26 27 28 29]\n",
      " [30 31 32 33 34 35 36 37 38 39]\n",
      " [40 41 42 43 44 45 46 47 48 49]\n",
      " [50 51 52 53 54 55 56 57 58 59]\n",
      " [60 61 62 63 64 65 66 67 68 69]\n",
      " [70 71 72 73 74 75 76 77 78 79]\n",
      " [80 81 82 83 84 85 86 87 88 89]\n",
      " [90 91 92 93 94 95 96 97 98 99]]\n"
     ]
    }
   ],
   "source": [
    "A = np.array([[10*j + i for i in range(10)] for j in range(10)])\n",
    "print(A)"
   ]
  },
  {
   "cell_type": "code",
   "execution_count": 42,
   "metadata": {},
   "outputs": [],
   "source": [
    "#Интерполяция многочленом проходящим через заданную сетку\n",
    "def SimplePolynomialInterpolation(x, y):\n",
    "    A = np.array([[x[j]**i for i in range(len(y))] for j in range(len(x))])\n",
    "    return np.linalg.solve(A, y)"
   ]
  },
  {
   "cell_type": "code",
   "execution_count": 47,
   "metadata": {},
   "outputs": [
    {
     "data": {
      "text/plain": [
       "array([ 1., -1.])"
      ]
     },
     "execution_count": 47,
     "metadata": {},
     "output_type": "execute_result"
    }
   ],
   "source": [
    "x = np.array([0, 1])\n",
    "y = np.array([1, 0])\n",
    "SimplePolynomialInterpolation(x, y)"
   ]
  },
  {
   "cell_type": "code",
   "execution_count": 57,
   "metadata": {},
   "outputs": [],
   "source": [
    "def integer_collinear_vector(numbers, max_denominator=1000000):\n",
    "    t = np.array([])\n",
    "    for i in range(len(numbers)):\n",
    "        if numbers[i] != 0:\n",
    "            a = np.array([numbers[i]])\n",
    "            t = np.concatenate((t, a))\n",
    "    norma = np.min(t)\n",
    "    numbers = [num / norma for num in numbers]\n",
    "    fracts = [fractions.Fraction(f).limit_denominator(max_denominator) for f in numbers]\n",
    "    denoms = [f.denominator for f in fracts]\n",
    "    denoms_gcd = functools.reduce(math.gcd, denoms)\n",
    "    denoms_lcm = functools.reduce(lambda a, b: a*b, [d // denoms_gcd for d in denoms]) * denoms_gcd\n",
    "    result_integers = [f.numerator * (denoms_lcm // f.denominator) for f in fracts]\n",
    "    return result_integers"
   ]
  },
  {
   "cell_type": "code",
   "execution_count": 62,
   "metadata": {},
   "outputs": [
    {
     "data": {
      "text/plain": [
       "(array([1.        , 0.05555556, 0.04347826]),\n",
       " array([[-3.10252614e-01,  7.59256602e-01, -5.72077554e-01],\n",
       "        [ 8.79049073e-01, -9.23163656e-16, -4.76731295e-01],\n",
       "        [ 3.61961383e-01,  6.50791373e-01,  6.67423812e-01]]))"
      ]
     },
     "execution_count": 62,
     "metadata": {},
     "output_type": "execute_result"
    }
   ],
   "source": [
    "A = np.array([[18, 6, 0], [6, 6, -7], [0, -7, 18]])\n",
    "B = np.linalg.inv(A)\n",
    "D = np.di\n",
    "E = np.identity(3)\n",
    "np.linalg.eig(B)"
   ]
  },
  {
   "cell_type": "code",
   "execution_count": 49,
   "metadata": {},
   "outputs": [
    {
     "data": {
      "text/plain": [
       "19.456704071690393"
      ]
     },
     "execution_count": 49,
     "metadata": {},
     "output_type": "execute_result"
    }
   ],
   "source": [
    "33.7/3**0.5"
   ]
  },
  {
   "cell_type": "code",
   "execution_count": 1,
   "metadata": {},
   "outputs": [],
   "source": [
    "def f1(a, b):\n",
    "    return a + b\n",
    "def b(f, x, y):\n",
    "    return f(x, y)"
   ]
  },
  {
   "cell_type": "code",
   "execution_count": 4,
   "metadata": {},
   "outputs": [
    {
     "data": {
      "text/plain": [
       "3"
      ]
     },
     "execution_count": 4,
     "metadata": {},
     "output_type": "execute_result"
    }
   ],
   "source": [
    "b(f1, 1, 2)"
   ]
  },
  {
   "cell_type": "code",
   "execution_count": 7,
   "metadata": {},
   "outputs": [
    {
     "name": "stdout",
     "output_type": "stream",
     "text": [
      "0\n"
     ]
    }
   ],
   "source": [
    "for i in range(1):\n",
    "    print(i)"
   ]
  },
  {
   "cell_type": "code",
   "execution_count": null,
   "metadata": {},
   "outputs": [],
   "source": []
  }
 ],
 "metadata": {
  "kernelspec": {
   "display_name": "Python 3",
   "language": "python",
   "name": "python3"
  },
  "language_info": {
   "codemirror_mode": {
    "name": "ipython",
    "version": 3
   },
   "file_extension": ".py",
   "mimetype": "text/x-python",
   "name": "python",
   "nbconvert_exporter": "python",
   "pygments_lexer": "ipython3",
   "version": "3.7.3"
  }
 },
 "nbformat": 4,
 "nbformat_minor": 4
}
