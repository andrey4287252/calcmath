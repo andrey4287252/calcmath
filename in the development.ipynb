{
 "cells": [
  {
   "cell_type": "code",
   "execution_count": 1,
   "metadata": {},
   "outputs": [],
   "source": [
    "import itertools as it\n",
    "import numpy as np\n",
    "import matplotlib.pyplot as plt\n",
    "import pandas as pd\n",
    "\n",
    "from numpy import linalg as LA\n",
    "#МПИ\n",
    "def SimpleIteration(R, x, F):#R - матрица, x - столбец, F - правая часть (столбец)\n",
    "    T = R@x + F\n",
    "    return (T)\n",
    "#МПИ k раз\n",
    "def SimpleIterations(R,x,F,k):#R - матрица, x - столбец с которого итерируемся, F - правая часть(столбец), k- число итераций\n",
    "    for i in range(k):\n",
    "        x = SimpleIteration(R, x, F)\n",
    "    return x\n",
    "#k итераций методом Гаусса - Якоби \n",
    "def GaussJacobyIterations(A, x, F, k):#A - матрица, x - столбец с которого итерируемся, F - правая часть, k- число итераций\n",
    "            D = np.diag(A)\n",
    "            Q = np.identity(len(A))\n",
    "            G = np.identity(len(A))\n",
    "            for i in range(len(A)):\n",
    "                Q[i][i] = 1/D[i]\n",
    "                G[i][i] = D[i]\n",
    "            R = -Q@(A - G)\n",
    "            f = Q@F\n",
    "            print(R, f, x)\n",
    "            return SimpleIterations(R, x, f, k)\n",
    "#Скалярное произведение\n",
    "def scal(u, v):#u, v - сомножители (столбцы)\n",
    "    return u@np.transpose(v)\n",
    "#Итерационный метод вычисления максимального собственного вектора\n",
    "def MaxEigenIterations(A, x, k):#A - матрица, x - вектор с которого итерируемся, k -число итераций\n",
    "    u = SimpleIterations(A, x, 0, k-1)\n",
    "    return scal(SimpleIteration(A,u,0), u)/scal(u, u)"
   ]
  },
  {
   "cell_type": "code",
   "execution_count": 119,
   "metadata": {},
   "outputs": [],
   "source": [
    "def AbsMax(A):\n",
    "    return np.max(np.array([np.max(A), -np.min(A)]))"
   ]
  },
  {
   "cell_type": "code",
   "execution_count": 109,
   "metadata": {},
   "outputs": [
    {
     "name": "stdout",
     "output_type": "stream",
     "text": [
      "[[ 0.  -0.5]\n",
      " [-0.5  0. ]] [ 0.5 -0.5] [0 0]\n"
     ]
    },
    {
     "data": {
      "text/plain": [
       "array([ 1., -1.])"
      ]
     },
     "execution_count": 109,
     "metadata": {},
     "output_type": "execute_result"
    }
   ],
   "source": [
    "A = np.array([[2, 1], [1, 2]])\n",
    "E = np.identity(2)\n",
    "x = np.array([0, 0])\n",
    "F = np.array([1, -1])\n",
    "GaussJacobyIterations(A ,x, F, 200)"
   ]
  },
  {
   "cell_type": "code",
   "execution_count": 40,
   "metadata": {},
   "outputs": [],
   "source": [
    "def IntVect(v, maxnum):\n",
    "    answ = 0\n",
    "    norm = np.linalg.norm(v)\n",
    "    for k in range(1, maxnum):\n",
    "        q = k*v\n",
    "        approx = np.array([0 for i in range(len(v))])\n",
    "        for i in range(len(v)):\n",
    "            if (q[i] - int(q[i])) < (int(q[i]) + 1 - q[i]):\n",
    "                approx[i] = int(q[i])\n",
    "            else:\n",
    "                approx[i] = int(q[i]) + 1\n",
    "        if k == 1:\n",
    "            norm = np.linalg.norm(q - approx, 2)\n",
    "        else:\n",
    "            if np.linalg.norm(q - approx) < norm:\n",
    "                answ = approx\n",
    "                norm = np.linalg.norm(q -approx)\n",
    "    return (answ, q)\n"
   ]
  },
  {
   "cell_type": "code",
   "execution_count": 120,
   "metadata": {},
   "outputs": [],
   "source": [
    "def SpecRad (A):\n",
    "        return AbsMax(np.linalg.eig(A)[0])"
   ]
  },
  {
   "cell_type": "code",
   "execution_count": 145,
   "metadata": {},
   "outputs": [
    {
     "name": "stdout",
     "output_type": "stream",
     "text": [
      "[[ 0.  -0.5]\n",
      " [-0.5  0. ]]\n",
      "0.5000000000000001\n",
      "1.0717967697244908\n"
     ]
    },
    {
     "data": {
      "text/plain": [
       "0"
      ]
     },
     "execution_count": 145,
     "metadata": {},
     "output_type": "execute_result"
    }
   ],
   "source": [
    "A = np.array([[2, 1],[1, 2]])\n",
    "OptRel(A)"
   ]
  },
  {
   "cell_type": "code",
   "execution_count": 144,
   "metadata": {},
   "outputs": [],
   "source": [
    "def OptRel(A):\n",
    "    D = np.diag(A)\n",
    "    Q = np.identity(len(A))\n",
    "    G = np.identity(len(A))\n",
    "    for i in range(len(A)):\n",
    "        Q[i][i] = 1/D[i]\n",
    "        G[i][i] = D[i]\n",
    "    R = -Q@(A - G)\n",
    "    return (2/(1 + (1 - (SpecRad(R))**2)**0.5)\n",
    "    \n"
   ]
  },
  {
   "cell_type": "code",
   "execution_count": 113,
   "metadata": {},
   "outputs": [
    {
     "data": {
      "text/plain": [
       "3"
      ]
     },
     "execution_count": 113,
     "metadata": {},
     "output_type": "execute_result"
    }
   ],
   "source": []
  },
  {
   "cell_type": "markdown",
   "metadata": {},
   "source": []
  },
  {
   "cell_type": "code",
   "execution_count": 18,
   "metadata": {},
   "outputs": [
    {
     "data": {
      "text/plain": [
       "array([ 0.66666667, -0.33333333])"
      ]
     },
     "execution_count": 18,
     "metadata": {},
     "output_type": "execute_result"
    }
   ],
   "source": [
    "A = np.array([[2, 1], [1, 2]], float)\n",
    "f = np.array([1, 0], float)\n",
    "x = np.array([0, 0], float)\n",
    "GaussJacobyIterations(A, x, f, 100)"
   ]
  },
  {
   "cell_type": "markdown",
   "metadata": {},
   "source": [
    "$u^{(s+1)} = u^{(s)} + \\tau (f - Au^{(s)})$"
   ]
  },
  {
   "cell_type": "markdown",
   "metadata": {},
   "source": [
    "Метод вращений.\n",
    "\n",
    "$T^TAT = \\Lambda$\n",
    "\n",
    "$\\tan (2\\alpha) = \\frac{2a_{ij}}{a_{ii} - a_{jj}}$"
   ]
  },
  {
   "cell_type": "markdown",
   "metadata": {},
   "source": [
    "МНК:\n",
    "\n",
    "$\\Phi(\\vec{u}) = \\Sigma_i (\\Sigma_j a_{ij}u_j - f_i)^2 \\rightarrow min$\n",
    "\n",
    "$A_{nxm}\\vec{u}_n = \\vec{f}_m$\n",
    "\n",
    "$(A*A)_{nxn}\\vec{u} = (A*f)_n$"
   ]
  },
  {
   "cell_type": "code",
   "execution_count": 50,
   "metadata": {
    "scrolled": true
   },
   "outputs": [
    {
     "data": {
      "image/png": "[encoded data removed]",
      "text/plain": [
       "<Figure size 432x288 with 1 Axes>"
      ]
     },
     "metadata": {
      "needs_background": "light"
     },
     "output_type": "display_data"
    }
   ],
   "source": [
    "fig = plt.figure()\n",
    "ax = fig.add_axes([0, 0, 1, 1])\n",
    "plt.xlabel('x')\n",
    "for k in (-1, 1):\n",
    "    for i in (-4, -3, -2):\n",
    "        for j in range(16):\n",
    "            plt.scatter(k*j*2**(i) ,0)"
   ]
  },
  {
   "cell_type": "code",
   "execution_count": null,
   "metadata": {},
   "outputs": [],
   "source": []
  }
 ],
 "metadata": {
  "kernelspec": {
   "display_name": "Python 3",
   "language": "python",
   "name": "python3"
  },
  "language_info": {
   "codemirror_mode": {
    "name": "ipython",
    "version": 3
   },
   "file_extension": ".py",
   "mimetype": "text/x-python",
   "name": "python",
   "nbconvert_exporter": "python",
   "pygments_lexer": "ipython3",
   "version": "3.7.3"
  }
 },
 "nbformat": 4,
 "nbformat_minor": 2
}
