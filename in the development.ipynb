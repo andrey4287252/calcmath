{
 "cells": [
  {
   "cell_type": "code",
   "execution_count": 2,
   "metadata": {},
   "outputs": [],
   "source": [
    "import numpy as np\n",
    "from numpy import linalg as LA\n",
    "#МПИ\n",
    "def SimpleIteration(R, x, F):#R - матрица, x - столбец, F - правая часть (столбец)\n",
    "    return (R@x + F)\n",
    "#МПИ k раз\n",
    "def SimpleIterations(R,x,F,k):#R - матрица, x - столбец с которого итерируемся, F - правая часть(столбец), k- число итераций\n",
    "    for i in range(k):\n",
    "        x = SimpleIteration(R, x, F)\n",
    "    return x\n",
    "#k итераций методом Гаусса - Якоби \n",
    "def GaussJacobyIterations(A, x, F, k):#A - матрица, x - столбец с которого итерируемся, F - правая часть, k- число итераций\n",
    "            D = np.diag(A)\n",
    "            Q = np.identity(len(A))\n",
    "            G = np.identity(len(A))\n",
    "            for i in range(len(A)):\n",
    "                Q[i][i] = 1/D[i]\n",
    "                G[i][i] = D[i]\n",
    "            R = -Q@(A - G)\n",
    "            f = Q@F\n",
    "            return SimpleIterations(R, x, f, k)\n",
    "#Скалярное произведение\n",
    "def scal(u, v):#u, v - сомножители (столбцы)\n",
    "    return u@np.transpose(v)\n",
    "#Итерационный метод вычисления максимального собственного вектора\n",
    "def MaxEigenIterations(A, x, k):#A - матрица, x - вектор с которого итерируемся, k -число итераций\n",
    "    u = SimpleIterations(A, x, 0, k-1)\n",
    "    return scal(SimpleIteration(A,u,0), u)/scal(u, u)\n",
    "\n",
    "    "
   ]
  },
  {
   "cell_type": "code",
   "execution_count": 40,
   "metadata": {},
   "outputs": [],
   "source": [
    "def IntVect(v, maxnum):\n",
    "    answ = 0\n",
    "    norm = np.linalg.norm(v)\n",
    "    for k in range(1, maxnum):\n",
    "        q = k*v\n",
    "        approx = np.array([0 for i in range(len(v))])\n",
    "        for i in range(len(v)):\n",
    "            if (q[i] - int(q[i])) < (int(q[i]) + 1 - q[i]):\n",
    "                approx[i] = int(q[i])\n",
    "            else:\n",
    "                approx[i] = int(q[i]) + 1\n",
    "        if k == 1:\n",
    "            norm = np.linalg.norm(q - approx, 2)\n",
    "        else:\n",
    "            if np.linalg.norm(q - approx) < norm:\n",
    "                answ = approx\n",
    "                norm = np.linalg.norm(q -approx)\n",
    "    return (answ, q)\n"
   ]
  },
  {
   "cell_type": "code",
   "execution_count": 5,
   "metadata": {},
   "outputs": [],
   "source": [
    "#Вычисление собственных векторов (python)\n",
    "def IntEigenVectors(A, maxnum = 1000):\n",
    "    V = np.linalg.eig(A)[1]\n",
    "    for v in V:\n",
    "        for i in range(maxnum):i          "
   ]
  },
  {
   "cell_type": "code",
   "execution_count": 14,
   "metadata": {},
   "outputs": [
    {
     "name": "stdout",
     "output_type": "stream",
     "text": [
      "[ 0.70710678 -0.70710678]\n",
      "[0.70710678 0.70710678]\n"
     ]
    }
   ],
   "source": [
    "A = np.array([[2, 1],[1, 2]])\n",
    "for v in np.linalg.eig(A)"
   ]
  },
  {
   "cell_type": "code",
   "execution_count": 18,
   "metadata": {},
   "outputs": [
    {
     "data": {
      "text/plain": [
       "array([ 0.66666667, -0.33333333])"
      ]
     },
     "execution_count": 18,
     "metadata": {},
     "output_type": "execute_result"
    }
   ],
   "source": [
    "A = np.array([[2, 1], [1, 2]], float)\n",
    "f = np.array([1, 0], float)\n",
    "x = np.array([0, 0], float)\n",
    "GaussJacobyIterations(A, x, f, 100)"
   ]
  },
  {
   "cell_type": "markdown",
   "metadata": {},
   "source": [
    "$u^{(s+1)} = u^{(s)} + \\tau (f - Au^{(s)})$"
   ]
  },
  {
   "cell_type": "markdown",
   "metadata": {},
   "source": [
    "Метод вращений.\n",
    "\n",
    "$T^TAT = \\Lambda$\n",
    "\n",
    "$\\tan (2\\alpha) = \\frac{2a_{ij}}{a_{ii} - a_{jj}}$"
   ]
  },
  {
   "cell_type": "markdown",
   "metadata": {},
   "source": [
    "МНК:\n",
    "\n",
    "$\\Phi(\\vec{u}) = \\Sigma_i (\\Sigma_j a_{ij}u_j - f_i)^2 \\rightarrow min$\n",
    "\n",
    "$A_{nxm}\\vec{u}_n = \\vec{f}_m$\n",
    "\n",
    "$(A*A)_{nxn}\\vec{u} = (A*f)_n$"
   ]
  }
 ],
 "metadata": {
  "kernelspec": {
   "display_name": "Python 3",
   "language": "python",
   "name": "python3"
  },
  "language_info": {
   "codemirror_mode": {
    "name": "ipython",
    "version": 3
   },
   "file_extension": ".py",
   "mimetype": "text/x-python",
   "name": "python",
   "nbconvert_exporter": "python",
   "pygments_lexer": "ipython3",
   "version": "3.7.3"
  }
 },
 "nbformat": 4,
 "nbformat_minor": 2
}
