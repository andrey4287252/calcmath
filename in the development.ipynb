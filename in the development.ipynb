{
 "cells": [
  {
   "cell_type": "code",
   "execution_count": 7,
   "metadata": {},
   "outputs": [],
   "source": [
    "import itertools as it\n",
    "import numpy as np\n",
    "import matplotlib.pyplot as plt\n",
    "import pandas as pd\n",
    "import functools\n",
    "import math\n",
    "import fractions\n",
    "from scipy.interpolate import lagrange\n",
    "\n",
    "from numpy import linalg as LA\n",
    "#МПИ\n",
    "def SimpleIteration(R, x, F):#R - матрица, x - столбец, F - правая часть (столбец)\n",
    "    T = R@x + F\n",
    "    return (T)\n",
    "#МПИ k раз\n",
    "def SimpleIterations(R,x,F,k):#R - матрица, x - столбец с которого итерируемся, F - правая часть(столбец), k- число итераций\n",
    "    for i in range(k):\n",
    "        x = SimpleIteration(R, x, F)\n",
    "    return x\n",
    "#k итераций методом Гаусса - Якоби \n",
    "def GaussJacobyIterations(A, x, F, k):#A - матрица, x - столбец с которого итерируемся, F - правая часть, k- число итераций\n",
    "            D = np.diag(np.diag(A))\n",
    "            Q = np.identity(len(A))\n",
    "            G = np.identity(len(A))\n",
    "            for i in range(len(A)):\n",
    "                Q[i][i] = 1/D[i][i]\n",
    "            R = -Q@(A - D)\n",
    "            f = Q@F\n",
    "            return SimpleIterations(R, x, f, k)\n",
    "#Скалярное произведение\n",
    "def scal(u, v):#u, v - сомножители (столбцы)\n",
    "    return u@np.transpose(v)\n",
    "#Итерационный метод вычисления максимального собственного вектора\n",
    "def MaxEigenIterations(A, x, k):#A - матрица, x - вектор с которого итерируемся, k -число итераций\n",
    "    u = SimpleIterations(A, x, 0, k-1)\n",
    "    return scal(SimpleIteration(A,u,0), u)/scal(u, u)"
   ]
  },
  {
   "cell_type": "code",
   "execution_count": 2,
   "metadata": {},
   "outputs": [
    {
     "name": "stdout",
     "output_type": "stream",
     "text": [
      "[[ 0.   -0.05  0.1  -0.15]\n",
      " [ 0.1   0.   -0.15  0.2 ]\n",
      " [-0.15  0.1   0.   -0.05]\n",
      " [-0.15  0.1  -0.05  0.  ]]\n"
     ]
    },
    {
     "data": {
      "text/plain": [
       "0.0051242326227329835"
      ]
     },
     "execution_count": 2,
     "metadata": {},
     "output_type": "execute_result"
    }
   ],
   "source": [
    "A = np.array([[20, -1, 2, -3], [2, 20, -3, 4], [-3, 2, 20, -1],[-3,2,-1,20]], float)\n",
    "D = np.diag(np.diag(A))\n",
    "E = np.identity(4)\n",
    "R = LA.inv(D)@A - E\n",
    "print(R)\n",
    "LA.norm(R, np.inf)\n",
    "LA.norm(LA.inv((np.tril(A)@np.triu(A))))"
   ]
  },
  {
   "cell_type": "code",
   "execution_count": 3,
   "metadata": {},
   "outputs": [],
   "source": [
    "def AbsMax(A):\n",
    "    return np.max(np.array([np.max(A), -np.min(A)]))"
   ]
  },
  {
   "cell_type": "code",
   "execution_count": 4,
   "metadata": {},
   "outputs": [
    {
     "data": {
      "text/plain": [
       "array([ 0.6, -0.8])"
      ]
     },
     "execution_count": 4,
     "metadata": {},
     "output_type": "execute_result"
    }
   ],
   "source": [
    "A = np.array([[3, 1], [1, 2]])\n",
    "x = np.array([0, 0])\n",
    "F = np.array([1, -1])\n",
    "np.linalg.solve(A, F)"
   ]
  },
  {
   "cell_type": "code",
   "execution_count": 5,
   "metadata": {},
   "outputs": [
    {
     "name": "stdout",
     "output_type": "stream",
     "text": [
      "[[ 0.1  0.2  0. ]\n",
      " [ 0.2 -0.1  0.1]\n",
      " [-0.3  0.   0.2]]\n",
      "1: [-3.05483029  1.25326371 -0.10443864]\n",
      "2: [-3.05483029  1.25326371 -0.10443864]\n"
     ]
    }
   ],
   "source": [
    "r = np.array([[0.1, 0.20, 0.0], [0.20, -0.10, 0.10], [-0.30, 0.0, 0.20]])\n",
    "f = np.array([-3.0, 2.0, -1.0])\n",
    "R = np.array([[0,2/9,0], [2/11, 0, 1/11], [-3/8, 0, 0]])\n",
    "F = np.array([-30/9, 20/11, -10/8])\n",
    "x = np.array([0, 0, 0])\n",
    "print(r)\n",
    "for i in range(100):\n",
    "    x = r@x + f\n",
    "print(\"1:\", x)\n",
    "for i in range(100):\n",
    "    x = R@x + F\n",
    "print(\"2:\",x)\n"
   ]
  },
  {
   "cell_type": "code",
   "execution_count": 6,
   "metadata": {},
   "outputs": [],
   "source": [
    "def IntVect(v, maxnum):\n",
    "    answ = 0\n",
    "    norm = np.linalg.norm(v)\n",
    "    for k in range(1, maxnum):\n",
    "        q = k*v\n",
    "        approx = np.array([0 for i in range(len(v))])\n",
    "        for i in range(len(v)):\n",
    "            if (q[i] - int(q[i])) < (int(q[i]) + 1 - q[i]):\n",
    "                approx[i] = int(q[i])\n",
    "            else:\n",
    "                approx[i] = int(q[i]) + 1\n",
    "        if k == 1:\n",
    "            norm = np.linalg.norm(q - approx, 2)\n",
    "        else:\n",
    "            if np.linalg.norm(q - approx) < norm:\n",
    "                answ = approx\n",
    "                norm = np.linalg.norm(q -approx)\n",
    "    return (answ, q)\n"
   ]
  },
  {
   "cell_type": "code",
   "execution_count": 7,
   "metadata": {},
   "outputs": [],
   "source": [
    "def SpecRad (A):\n",
    "        return AbsMax(np.linalg.eig(A)[0])"
   ]
  },
  {
   "cell_type": "code",
   "execution_count": 8,
   "metadata": {},
   "outputs": [
    {
     "ename": "NameError",
     "evalue": "name 'OptRel' is not defined",
     "output_type": "error",
     "traceback": [
      "\u001b[0;31m---------------------------------------------------------------------------\u001b[0m",
      "\u001b[0;31mNameError\u001b[0m                                 Traceback (most recent call last)",
      "\u001b[0;32m<ipython-input-8-26d616707c97>\u001b[0m in \u001b[0;36m<module>\u001b[0;34m\u001b[0m\n\u001b[1;32m      1\u001b[0m \u001b[0mA\u001b[0m \u001b[0;34m=\u001b[0m \u001b[0mnp\u001b[0m\u001b[0;34m.\u001b[0m\u001b[0marray\u001b[0m\u001b[0;34m(\u001b[0m\u001b[0;34m[\u001b[0m\u001b[0;34m[\u001b[0m\u001b[0;36m2\u001b[0m\u001b[0;34m,\u001b[0m \u001b[0;36m1\u001b[0m\u001b[0;34m]\u001b[0m\u001b[0;34m,\u001b[0m\u001b[0;34m[\u001b[0m\u001b[0;36m1\u001b[0m\u001b[0;34m,\u001b[0m \u001b[0;36m2\u001b[0m\u001b[0;34m]\u001b[0m\u001b[0;34m]\u001b[0m\u001b[0;34m)\u001b[0m\u001b[0;34m\u001b[0m\u001b[0;34m\u001b[0m\u001b[0m\n\u001b[0;32m----> 2\u001b[0;31m \u001b[0mOptRel\u001b[0m\u001b[0;34m(\u001b[0m\u001b[0mA\u001b[0m\u001b[0;34m)\u001b[0m\u001b[0;34m\u001b[0m\u001b[0;34m\u001b[0m\u001b[0m\n\u001b[0m",
      "\u001b[0;31mNameError\u001b[0m: name 'OptRel' is not defined"
     ]
    }
   ],
   "source": [
    "A = np.array([[2, 1],[1, 2]])\n",
    "OptRel(A)"
   ]
  },
  {
   "cell_type": "code",
   "execution_count": null,
   "metadata": {},
   "outputs": [],
   "source": [
    "def OptRel(A):\n",
    "    D = np.diag(A)\n",
    "    Q = np.identity(len(A))\n",
    "    G = np.identity(len(A))\n",
    "    for i in range(len(A)):\n",
    "        Q[i][i] = 1/D[i]\n",
    "        G[i][i] = D[i]\n",
    "    R = -Q@(A - G)\n",
    "    return (2/(1 + (1 - (SpecRad(R))**2)**0.5)\n",
    "    \n"
   ]
  },
  {
   "cell_type": "code",
   "execution_count": null,
   "metadata": {},
   "outputs": [],
   "source": []
  },
  {
   "cell_type": "markdown",
   "metadata": {},
   "source": []
  },
  {
   "cell_type": "code",
   "execution_count": null,
   "metadata": {},
   "outputs": [],
   "source": [
    "A = np.array([[2, 1], [1, 2]], float)\n",
    "f = np.array([1, 0], float)\n",
    "x = np.array([0, 0], float)\n",
    "GaussJacobyIterations(A, x, f, 100)"
   ]
  },
  {
   "cell_type": "markdown",
   "metadata": {},
   "source": [
    "$u^{(s+1)} = u^{(s)} + \\tau (f - Au^{(s)})$"
   ]
  },
  {
   "cell_type": "markdown",
   "metadata": {},
   "source": [
    "Метод вращений.\n",
    "\n",
    "$T^TAT = \\Lambda$\n",
    "\n",
    "$\\tan (2\\alpha) = \\frac{2a_{ij}}{a_{ii} - a_{jj}}$"
   ]
  },
  {
   "cell_type": "markdown",
   "metadata": {},
   "source": [
    "МНК:\n",
    "\n",
    "$\\Phi(\\vec{u}) = \\Sigma_i (\\Sigma_j a_{ij}u_j - f_i)^2 \\rightarrow min$\n",
    "\n",
    "$A_{nxm}\\vec{u}_n = \\vec{f}_m$\n",
    "\n",
    "$(A*A)_{nxn}\\vec{u} = (A*f)_n$"
   ]
  },
  {
   "cell_type": "markdown",
   "metadata": {},
   "source": [
    "Полиномы Чебышева $T_j(x)$\n",
    "<br>\n",
    "Их линейная комбинация:\n",
    "<br>\n",
    "$P_k(x) = \\sum_{j = 0}^{k} c_jT_j(x)$"
   ]
  },
  {
   "cell_type": "code",
   "execution_count": null,
   "metadata": {},
   "outputs": [],
   "source": [
    "import numpy as np\n",
    "from numpy import polynomial as POL"
   ]
  },
  {
   "cell_type": "code",
   "execution_count": 2,
   "metadata": {},
   "outputs": [
    {
     "ename": "NameError",
     "evalue": "name 'np' is not defined",
     "output_type": "error",
     "traceback": [
      "\u001b[0;31m---------------------------------------------------------------------------\u001b[0m",
      "\u001b[0;31mNameError\u001b[0m                                 Traceback (most recent call last)",
      "\u001b[0;32m<ipython-input-2-d170b38cec69>\u001b[0m in \u001b[0;36m<module>\u001b[0;34m\u001b[0m\n\u001b[1;32m      1\u001b[0m \u001b[0;31m#x - вектор точек в которых необходимо узнать значения линейной комбинации многочленов Чебышева\u001b[0m\u001b[0;34m\u001b[0m\u001b[0;34m\u001b[0m\u001b[0;34m\u001b[0m\u001b[0m\n\u001b[1;32m      2\u001b[0m \u001b[0;31m#c - вектор коэффициентов перед многочленами Чебышева (см.выше)\u001b[0m\u001b[0;34m\u001b[0m\u001b[0;34m\u001b[0m\u001b[0;34m\u001b[0m\u001b[0m\n\u001b[0;32m----> 3\u001b[0;31m \u001b[0mx\u001b[0m \u001b[0;34m=\u001b[0m \u001b[0mnp\u001b[0m\u001b[0;34m.\u001b[0m\u001b[0marray\u001b[0m\u001b[0;34m(\u001b[0m\u001b[0;34m[\u001b[0m\u001b[0;36m3\u001b[0m\u001b[0;34m]\u001b[0m\u001b[0;34m)\u001b[0m\u001b[0;34m\u001b[0m\u001b[0;34m\u001b[0m\u001b[0m\n\u001b[0m\u001b[1;32m      4\u001b[0m \u001b[0mc\u001b[0m \u001b[0;34m=\u001b[0m \u001b[0mnp\u001b[0m\u001b[0;34m.\u001b[0m\u001b[0marray\u001b[0m\u001b[0;34m(\u001b[0m\u001b[0;34m[\u001b[0m\u001b[0;36m2\u001b[0m\u001b[0;34m]\u001b[0m\u001b[0;34m)\u001b[0m\u001b[0;34m\u001b[0m\u001b[0;34m\u001b[0m\u001b[0m\n\u001b[1;32m      5\u001b[0m \u001b[0mPOL\u001b[0m\u001b[0;34m.\u001b[0m\u001b[0mchebyshev\u001b[0m\u001b[0;34m.\u001b[0m\u001b[0mchebval\u001b[0m\u001b[0;34m(\u001b[0m\u001b[0mx\u001b[0m\u001b[0;34m,\u001b[0m\u001b[0mc\u001b[0m\u001b[0;34m)\u001b[0m\u001b[0;34m\u001b[0m\u001b[0;34m\u001b[0m\u001b[0m\n",
      "\u001b[0;31mNameError\u001b[0m: name 'np' is not defined"
     ]
    }
   ],
   "source": [
    "#x - вектор точек в которых необходимо узнать значения линейной комбинации многочленов Чебышева\n",
    "#c - вектор коэффициентов перед многочленами Чебышева (см.выше)\n",
    "x = np.array([3])\n",
    "c = np.array([2])\n",
    "POL.chebyshev.chebval(x,c)"
   ]
  },
  {
   "cell_type": "code",
   "execution_count": null,
   "metadata": {},
   "outputs": [],
   "source": [
    "def integer_collinear_vector(numbers, max_denominator=1000000):\n",
    "    t = np.array([])\n",
    "    for i in range(len(numbers)):\n",
    "        if numbers[i] != 0:\n",
    "            a = np.array([numbers[i]])\n",
    "            t = np.concatenate((t, a))\n",
    "    norma = np.min(t)\n",
    "    numbers = [num / norma for num in numbers]\n",
    "    fracts = [fractions.Fraction(f).limit_denominator(max_denominator) for f in numbers]\n",
    "    denoms = [f.denominator for f in fracts]\n",
    "    denoms_gcd = functools.reduce(math.gcd, denoms)\n",
    "    denoms_lcm = functools.reduce(lambda a, b: a*b, [d // denoms_gcd for d in denoms]) * denoms_gcd\n",
    "    result_integers = [f.numerator * (denoms_lcm // f.denominator) for f in fracts]\n",
    "    return result_integers"
   ]
  },
  {
   "cell_type": "code",
   "execution_count": null,
   "metadata": {},
   "outputs": [],
   "source": [
    "A = np.array([[18, 6, 0], [6, 6, -7], [0, -7, 18]])\n",
    "B = np.linalg.inv(A)\n",
    "D = np.di\n",
    "E = np.identity(3)\n",
    "np.linalg.eig(B)"
   ]
  },
  {
   "cell_type": "markdown",
   "metadata": {},
   "source": [
    "$\\textbf{Интерполяция данных обобщёнными многочленами}$"
   ]
  },
  {
   "cell_type": "code",
   "execution_count": 1,
   "metadata": {},
   "outputs": [
    {
     "ename": "SyntaxError",
     "evalue": "invalid syntax (<ipython-input-1-d9e99b698964>, line 5)",
     "output_type": "error",
     "traceback": [
      "\u001b[0;36m  File \u001b[0;32m\"<ipython-input-1-d9e99b698964>\"\u001b[0;36m, line \u001b[0;32m5\u001b[0m\n\u001b[0;31m    A = np.array([[disc_scal(i(P, k[l]), i(P, k[j]), X) for j in range(len(k))] for l in range(len(k))])\u001b[0m\n\u001b[0m    ^\u001b[0m\n\u001b[0;31mSyntaxError\u001b[0m\u001b[0;31m:\u001b[0m invalid syntax\n"
     ]
    }
   ],
   "source": [
    "#Не протестирована\n",
    "#Здесь P - семейство функций, по первому индексу (целое число), выдающий функцию с данным номером, а по второму значение функции\n",
    "def QPolyInterpolation (P, k, X, Y):\n",
    "    print((i(P, k[0])(X[0]))\n",
    "    A = np.array([[disc_scal(i(P, k[l]), i(P, k[j]), X) for j in range(len(k))] for l in range(len(k))])\n",
    "    PS = np.array([[P[i][X[j]] for j in range(len(X))] for j in range(len(k))])\n",
    "    F = PS@Y\n",
    "    return LA.solve(A, F)"
   ]
  },
  {
   "cell_type": "code",
   "execution_count": null,
   "metadata": {},
   "outputs": [],
   "source": [
    "def f1(a, b):\n",
    "    return a + b\n",
    "def b(f, x, y):\n",
    "    return f(x, y)"
   ]
  },
  {
   "cell_type": "code",
   "execution_count": null,
   "metadata": {},
   "outputs": [],
   "source": [
    "b(f1, 1, 2)"
   ]
  },
  {
   "cell_type": "code",
   "execution_count": null,
   "metadata": {},
   "outputs": [],
   "source": [
    "for i in range(1):\n",
    "    print(i)"
   ]
  },
  {
   "cell_type": "code",
   "execution_count": null,
   "metadata": {},
   "outputs": [],
   "source": [
    "def Newton_Form_Iteration(f, x, p):\n",
    "    F = np.array([[(f(x[n:(n + p + 1)]) - f(x[(n - 1):(n + p)]))/(x[n + p - 1] - x[n])]"
   ]
  },
  {
   "cell_type": "code",
   "execution_count": 19,
   "metadata": {},
   "outputs": [
    {
     "data": {
      "text/plain": [
       "array([-0.13397, -0.36603, -0.5    , -0.5    ])"
      ]
     },
     "execution_count": 19,
     "metadata": {},
     "output_type": "execute_result"
    }
   ],
   "source": [
    "def ref(X, Y):\n",
    "    D = [X[i+1] - X[i] for i in range(len(X) - 1)]\n",
    "    F = [Y[i + 1] - Y[i] for i in range(len(Y) - 1)]\n",
    "    return D, F\n",
    "def iteration (D, F):\n",
    "    D = [D[i+1] + D[i] for i in range(len(X) - 1)]\n",
    "    F = [F[i+1] - F[i] for i in range(len(X) - 1)]\n",
    "    return D, F\n",
    "def answ (D, F):\n",
    "    return np.array([F[i]/D[i] for i in range(len(D))], float)\n",
    "\n",
    "X = np.array([0, 1, 2, 3, 4], float)\n",
    "Y = np.array([1, 0.86603, 0.5, 0., -0.5])\n",
    "ref(X, Y)\n",
    "answ(ref(X, Y)[0], ref(X,Y)[1])"
   ]
  }
 ],
 "metadata": {
  "kernelspec": {
   "display_name": "Python 3",
   "language": "python",
   "name": "python3"
  },
  "language_info": {
   "codemirror_mode": {
    "name": "ipython",
    "version": 3
   },
   "file_extension": ".py",
   "mimetype": "text/x-python",
   "name": "python",
   "nbconvert_exporter": "python",
   "pygments_lexer": "ipython3",
   "version": "3.7.3"
  }
 },
 "nbformat": 4,
 "nbformat_minor": 4
}
