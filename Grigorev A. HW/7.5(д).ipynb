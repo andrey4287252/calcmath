{
 "cells": [
  {
   "cell_type": "code",
   "execution_count": 11,
   "metadata": {},
   "outputs": [
    {
     "name": "stdout",
     "output_type": "stream",
     "text": [
      "0 th iteration,  0 th coordinate: [2. 3.]\n",
      "0 th iteration,  1 th coordinate: [0.64802115 3.        ]\n",
      "0 th iteration: [6.48021152e-01 1.04122103e-18]\n",
      "1 th iteration,  0 th coordinate: [6.48021152e-01 1.04122103e-18]\n",
      "1 th iteration,  1 th coordinate: [-2.00002400e-05  1.04122103e-18]\n",
      "1 th iteration: [-2.00002400e-05  7.65494796e-20]\n",
      "2 th iteration,  0 th coordinate: [-2.00002400e-05  7.65494796e-20]\n",
      "2 th iteration,  1 th coordinate: [-2.00002400e-05  7.65494796e-20]\n",
      "2 th iteration: [-2.00002400e-05  7.65494796e-20]\n",
      "3 th iteration,  0 th coordinate: [-2.00002400e-05  7.65494796e-20]\n",
      "3 th iteration,  1 th coordinate: [-2.00002400e-05  7.65494796e-20]\n",
      "3 th iteration: [-2.00002400e-05  7.65494796e-20]\n",
      "4 th iteration,  0 th coordinate: [-2.00002400e-05  7.65494796e-20]\n",
      "4 th iteration,  1 th coordinate: [-2.00002400e-05  7.65494796e-20]\n",
      "4 th iteration: [-2.00002400e-05  7.65494796e-20]\n",
      "5 th iteration,  0 th coordinate: [-2.00002400e-05  7.65494796e-20]\n",
      "5 th iteration,  1 th coordinate: [-2.00002400e-05  7.65494796e-20]\n",
      "5 th iteration: [-2.00002400e-05  7.65494796e-20]\n",
      "6 th iteration,  0 th coordinate: [-2.00002400e-05  7.65494796e-20]\n",
      "6 th iteration,  1 th coordinate: [-2.00002400e-05  7.65494796e-20]\n",
      "6 th iteration: [-2.00002400e-05  7.65494796e-20]\n",
      "7 th iteration,  0 th coordinate: [-2.00002400e-05  7.65494796e-20]\n",
      "7 th iteration,  1 th coordinate: [-2.00002400e-05  7.65494796e-20]\n",
      "7 th iteration: [-2.00002400e-05  7.65494796e-20]\n",
      "8 th iteration,  0 th coordinate: [-2.00002400e-05  7.65494796e-20]\n",
      "8 th iteration,  1 th coordinate: [-2.00002400e-05  7.65494796e-20]\n",
      "8 th iteration: [-2.00002400e-05  7.65494796e-20]\n",
      "9 th iteration,  0 th coordinate: [-2.00002400e-05  7.65494796e-20]\n",
      "9 th iteration,  1 th coordinate: [-2.00002400e-05  7.65494796e-20]\n",
      "9 th iteration: [-2.00002400e-05  7.65494796e-20]\n"
     ]
    },
    {
     "data": {
      "text/plain": [
       "2.0000320008638342e-09"
      ]
     },
     "execution_count": 11,
     "metadata": {},
     "output_type": "execute_result"
    }
   ],
   "source": [
    "def KronDel(x, y):\n",
    "    if x == y:\n",
    "        return 1.\n",
    "    else:\n",
    "        return 0.\n",
    "def CanonicalMPI(func, x, k, say = 0):\n",
    "    for i in range(k):\n",
    "        if(say != 0):\n",
    "            print (i, \"th iteration, x is \", x)\n",
    "        x = func(x)\n",
    "    if(say != 0):\n",
    "            print (k, \"th iteration, x is \", x)\n",
    "    return x\n",
    "def coord(g, f, I0, k, say = 0):\n",
    "    for l in range(k):\n",
    "        for i in range(len(I0)):\n",
    "            if(say != 0):\n",
    "                print(l, \"th iteration, \", i, \"th coordinate:\", I0)\n",
    "            def tmp(y):\n",
    "                J = np.array([I0[j]*(1 - KronDel(i,j)) + KronDel(i,j)*y for j in range(len(I0))])\n",
    "                return f(J)\n",
    "            I0[i] = g(tmp)\n",
    "        if(say != 0):\n",
    "                print(l, \"th iteration:\", I0)\n",
    "    return I0\n",
    "def Par(f, h, x0, k, say):\n",
    "    def temp(y):\n",
    "        return y - (h/2)*(f(y + h) - f(y - h))/(f(y + h) + f(y - h) - 2*f(y))\n",
    "    return CanonicalMPI(temp, x0, k, say)\n",
    "def G(F):\n",
    "    return Par(F, 0.01, 1, 100, 0)\n",
    "def f(I):\n",
    "    return 2*I[0]**3  - I[0]*I[1]**2 + 5*I[0]**2 + I[1]**2\n",
    "f(coord(G, f, np.array([2., 3.]), 10, 1))"
   ]
  }
 ],
 "metadata": {
  "kernelspec": {
   "display_name": "Python 3",
   "language": "python",
   "name": "python3"
  },
  "language_info": {
   "codemirror_mode": {
    "name": "ipython",
    "version": 3
   },
   "file_extension": ".py",
   "mimetype": "text/x-python",
   "name": "python",
   "nbconvert_exporter": "python",
   "pygments_lexer": "ipython3",
   "version": "3.7.3"
  }
 },
 "nbformat": 4,
 "nbformat_minor": 2
}
