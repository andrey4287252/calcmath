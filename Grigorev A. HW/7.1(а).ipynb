{
 "cells": [
  {
   "cell_type": "code",
   "execution_count": 1,
   "metadata": {},
   "outputs": [],
   "source": [
    "import numpy as np\n",
    "import pandas as pd\n",
    "import functools\n",
    "import math\n",
    "import fractions\n",
    "import itertools as it\n",
    "from numpy import linalg as LA\n",
    "from scipy.interpolate import lagrange\n",
    "from numpy.polynomial.polynomial import Polynomial"
   ]
  },
  {
   "cell_type": "code",
   "execution_count": 2,
   "metadata": {},
   "outputs": [],
   "source": [
    "#g - функция выбора - пара точек на вход, пара на выходе\n",
    "def sections(g, f, a, b, k, say = 0):\n",
    "    I = np.array([a, b])\n",
    "    for i in range(k):\n",
    "        if(say != 0):\n",
    "            print(i, \"th iteration, x1 = \", I[0], \", x2 = \", I[1], \" |x1 - x2| = \", np.abs(I[0] - I[1]))\n",
    "        c = g(I)[0]\n",
    "        d = g(I)[1]\n",
    "        if (f(c) > f(d)):\n",
    "            I = np.array([c, b])\n",
    "            a = c\n",
    "        else:\n",
    "            I = np.array([a, d])\n",
    "            b = d\n",
    "    if(say != 0):\n",
    "            print(k, \"th iteration, x1 = \", I[0], \", x2 = \", I[1], \" |x1 - x2| = \", np.abs(I[0] - I[1]))\n",
    "    return I[0]"
   ]
  },
  {
   "cell_type": "code",
   "execution_count": 6,
   "metadata": {},
   "outputs": [
    {
     "name": "stdout",
     "output_type": "stream",
     "text": [
      "0 th iteration, x1 =  0.25 , x2 =  5.0  |x1 - x2| =  4.75\n",
      "1 th iteration, x1 =  0.25 , x2 =  3.4166666666666665  |x1 - x2| =  3.1666666666666665\n",
      "2 th iteration, x1 =  0.25 , x2 =  2.3611111111111107  |x1 - x2| =  2.1111111111111107\n",
      "3 th iteration, x1 =  0.25 , x2 =  1.657407407407407  |x1 - x2| =  1.407407407407407\n",
      "4 th iteration, x1 =  0.25 , x2 =  1.1882716049382713  |x1 - x2| =  0.9382716049382713\n",
      "5 th iteration, x1 =  0.25 , x2 =  0.8755144032921809  |x1 - x2| =  0.6255144032921809\n",
      "6 th iteration, x1 =  0.25 , x2 =  0.6670096021947872  |x1 - x2| =  0.4170096021947872\n",
      "7 th iteration, x1 =  0.3890032007315957 , x2 =  0.6670096021947872  |x1 - x2| =  0.2780064014631915\n",
      "8 th iteration, x1 =  0.3890032007315957 , x2 =  0.5743408017070567  |x1 - x2| =  0.18533760097546098\n",
      "9 th iteration, x1 =  0.4507824010567494 , x2 =  0.5743408017070567  |x1 - x2| =  0.12355840065030732\n",
      "10 th iteration, x1 =  0.4507824010567494 , x2 =  0.5331546681569542  |x1 - x2| =  0.08237226710020484\n",
      "11 th iteration, x1 =  0.4782398234234843 , x2 =  0.5331546681569542  |x1 - x2| =  0.054914844733469914\n",
      "12 th iteration, x1 =  0.4782398234234843 , x2 =  0.5148497199124642  |x1 - x2| =  0.03660989648897989\n",
      "13 th iteration, x1 =  0.4904431222531443 , x2 =  0.5148497199124642  |x1 - x2| =  0.024406597659319906\n",
      "14 th iteration, x1 =  0.4904431222531443 , x2 =  0.5067141873593576  |x1 - x2| =  0.01627106510621329\n",
      "15 th iteration, x1 =  0.49586681062188204 , x2 =  0.5067141873593576  |x1 - x2| =  0.010847376737475545\n"
     ]
    },
    {
     "data": {
      "text/plain": [
       "0.49586681062188204"
      ]
     },
     "execution_count": 6,
     "metadata": {},
     "output_type": "execute_result"
    }
   ],
   "source": [
    "def g(I):\n",
    "    return np.array([I[0] + (1/3)*(I[1] - I[0]), I[0] + (2/3)*(I[1] - I[0])])\n",
    "def f(x):\n",
    "    return 2*x**2 - np.log(x)\n",
    "sections(g, f, 1./4., 5., 15, 1)"
   ]
  },
  {
   "cell_type": "code",
   "execution_count": null,
   "metadata": {},
   "outputs": [],
   "source": []
  }
 ],
 "metadata": {
  "kernelspec": {
   "display_name": "Python 3",
   "language": "python",
   "name": "python3"
  },
  "language_info": {
   "codemirror_mode": {
    "name": "ipython",
    "version": 3
   },
   "file_extension": ".py",
   "mimetype": "text/x-python",
   "name": "python",
   "nbconvert_exporter": "python",
   "pygments_lexer": "ipython3",
   "version": "3.7.3"
  }
 },
 "nbformat": 4,
 "nbformat_minor": 2
}
