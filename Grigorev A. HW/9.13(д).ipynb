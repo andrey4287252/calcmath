{
 "cells": [
  {
   "cell_type": "code",
   "execution_count": 2,
   "metadata": {},
   "outputs": [],
   "source": [
    "import numpy as np\n",
    "import pandas as pd\n",
    "import functools\n",
    "import math\n",
    "import fractions\n",
    "import itertools as it\n",
    "import scipy.integrate\n",
    "import scipy.interpolate"
   ]
  },
  {
   "cell_type": "code",
   "execution_count": 22,
   "metadata": {},
   "outputs": [
    {
     "name": "stdout",
     "output_type": "stream",
     "text": [
      "natural:  -0.05649354925151796\n",
      "not-a-knot:  -0.05614064900595498\n"
     ]
    }
   ],
   "source": [
    "X = np.array([0., 1., 2., 3., 4.])\n",
    "Y = np.array([1., 1.5403, 1.5839, 2.0100, 3.3464])\n",
    "S = scipy.interpolate.CubicSpline(X, Y, bc_type='natural')\n",
    "print(\"natural: \",scipy.integrate.quad(lambda x: S(x)*np.sin(30*x), 0, 4)[0])\n",
    "B = scipy.interpolate.CubicSpline(X, Y)\n",
    "print(\"not-a-knot: \",scipy.integrate.quad(lambda x: B(x)*np.sin(30*x), 0, 4)[0])"
   ]
  }
 ],
 "metadata": {
  "kernelspec": {
   "display_name": "Python 3",
   "language": "python",
   "name": "python3"
  },
  "language_info": {
   "codemirror_mode": {
    "name": "ipython",
    "version": 3
   },
   "file_extension": ".py",
   "mimetype": "text/x-python",
   "name": "python",
   "nbconvert_exporter": "python",
   "pygments_lexer": "ipython3",
   "version": "3.7.3"
  }
 },
 "nbformat": 4,
 "nbformat_minor": 2
}
