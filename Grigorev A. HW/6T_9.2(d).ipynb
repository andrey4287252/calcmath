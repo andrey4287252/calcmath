{
 "cells": [
  {
   "cell_type": "code",
   "execution_count": 1,
   "metadata": {},
   "outputs": [],
   "source": [
    "import itertools as it\n",
    "import numpy as np\n",
    "import matplotlib.pyplot as plt\n",
    "import pandas as pd\n",
    "import functools\n",
    "import math\n",
    "import fractions\n",
    "from scipy.interpolate import lagrange\n",
    "\n",
    "from numpy import linalg as LA"
   ]
  },
  {
   "cell_type": "code",
   "execution_count": 20,
   "metadata": {},
   "outputs": [
    {
     "name": "stdout",
     "output_type": "stream",
     "text": [
      "f'(2) =  -0.10666666666666652\n"
     ]
    }
   ],
   "source": [
    "A = np.array([[1., -2., 4., -8., 16.], [1., -1., 1., -1., 1], [1., 0.,0.,0.,0.], [1., 2., 4., 8., 16.], [1., 3., 9., 27., 81.]], float)\n",
    "F = np.array([1., 0.5, 0.3, 0.2, 0.1], float)\n",
    "B = LA.inv(A)\n",
    "print(\"f'(2) = \", np.dot(B, F)[1])"
   ]
  },
  {
   "cell_type": "code",
   "execution_count": 21,
   "metadata": {},
   "outputs": [],
   "source": [
    "def SimplePolynomialInterpolation(x, y):\n",
    "    A = np.array([[x[j]**i for i in range(len(y))] for j in range(len(x))])\n",
    "    return np.linalg.solve(A, y)"
   ]
  },
  {
   "cell_type": "code",
   "execution_count": 26,
   "metadata": {},
   "outputs": [
    {
     "name": "stdout",
     "output_type": "stream",
     "text": [
      "f'(2) =  -0.1054761904761905\n"
     ]
    }
   ],
   "source": [
    "X = np.array([0., 1., 2., 5., 7.])\n",
    "Y = np.array([1., 0.5, 0.3, 0.2, 0.1])\n",
    "X -= 2\n",
    "print(\"f'(2) = \", SimplePolynomialInterpolation(X, Y)[1])"
   ]
  }
 ],
 "metadata": {
  "kernelspec": {
   "display_name": "Python 3",
   "language": "python",
   "name": "python3"
  },
  "language_info": {
   "codemirror_mode": {
    "name": "ipython",
    "version": 3
   },
   "file_extension": ".py",
   "mimetype": "text/x-python",
   "name": "python",
   "nbconvert_exporter": "python",
   "pygments_lexer": "ipython3",
   "version": "3.7.3"
  }
 },
 "nbformat": 4,
 "nbformat_minor": 2
}
