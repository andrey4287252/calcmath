{
 "cells": [
  {
   "cell_type": "code",
   "execution_count": 1,
   "metadata": {},
   "outputs": [],
   "source": [
    "import numpy as np\n",
    "import pandas as pd\n",
    "import functools\n",
    "import math\n",
    "import fractions\n",
    "import itertools as it\n",
    "from numpy import linalg as LA"
   ]
  },
  {
   "cell_type": "code",
   "execution_count": 10,
   "metadata": {},
   "outputs": [],
   "source": [
    "def scal(x,y):\n",
    "    m = x@(y.transpose())\n",
    "    return m"
   ]
  },
  {
   "cell_type": "code",
   "execution_count": 11,
   "metadata": {},
   "outputs": [],
   "source": [
    "#Выдаёт линейную систему, решение которой минимизирует сумму квадратов отклонений\n",
    "def MNK_mat(A, f):\n",
    "    return (np.transpose(A)@A, np.transpose(A)@f)"
   ]
  },
  {
   "cell_type": "code",
   "execution_count": 21,
   "metadata": {},
   "outputs": [
    {
     "name": "stdout",
     "output_type": "stream",
     "text": [
      "Degree:  2 ; Pol: [ 3.55745003e+10 -3.83202594e+07  1.03367965e+04]\n",
      "Degree:  3 ; Pol: [ 3.55745001e+10 -3.83202591e+07  1.03367964e+04  2.24389131e-10]\n",
      "Degree:  4 ; Pol: [-3.92448065e+09  2.09662650e+06 -1.11905975e-03 -3.82798583e-07\n",
      " -9.86232126e-11]\n",
      "Degree:  5 ; Pol: [ 1.78858122e+08 -4.53584456e+02 -2.31824894e-01 -1.18504266e-04\n",
      " -6.05780273e-08 -3.13575775e-11]\n",
      "Bc: 174029936.1570146\n"
     ]
    }
   ],
   "source": [
    "x = np.array([1910 + 10*i for i in range(10)])\n",
    "y = np.array([92228496., 106021537., 123202624., 132164569., 151325798., 179323175., 203211926., 226545805., 248709873., 281421906.])\n",
    "for N in range(2, 6, 1):\n",
    "    A = np.array([[x[j]**i for i in range(N+1)] for j in range(len(x))])\n",
    "    v = LA.solve(MNK_mat(A, y)[0], MNK_mat(A, y)[1])\n",
    "    print(\"Degree: \", N, \"; Pol:\", v)\n",
    "f = np.array([2010.**i for i in range(N + 1)])\n",
    "print(\"Bc:\", scal(f, v))"
   ]
  },
  {
   "cell_type": "code",
   "execution_count": 22,
   "metadata": {},
   "outputs": [
    {
     "name": "stdout",
     "output_type": "stream",
     "text": [
      "Degree:  2 ; Pol: [1.65887714e+08 2.09661478e+06 1.03367964e+04]\n",
      "Degree:  3 ; Pol: [ 1.65887714e+08  2.15551115e+06  1.03367964e+04 -4.02022941e+01]\n",
      "Degree:  4 ; Pol: [ 1.65421570e+08  2.15551115e+06  1.23167929e+04 -4.02022941e+01\n",
      " -9.65851952e-01]\n",
      "Degree:  5 ; Pol: [ 1.65421570e+08  2.46400145e+06  1.23167929e+04 -6.70708267e+02\n",
      " -9.65851952e-01  2.44066828e-01]\n",
      "Bc: 340607731.93333066\n"
     ]
    }
   ],
   "source": [
    "x = np.array([1910 + 10*i for i in range(10)])\n",
    "x -= np.array([1955 for i in range(len(x))])\n",
    "y = np.array([92228496., 106021537., 123202624., 132164569., 151325798., 179323175., 203211926., 226545805., 248709873., 281421906.])\n",
    "for N in range(2, 6, 1):\n",
    "    A = np.array([[x[j]**i for i in range(N+1)] for j in range(len(x))])\n",
    "    v = LA.solve(MNK_mat(A, y)[0], MNK_mat(A, y)[1])\n",
    "    print(\"Degree: \", N, \"; Pol:\", v)\n",
    "f = np.array([(2010. - 1955.)**i for i in range(N + 1)])\n",
    "print(\"Bc:\", scal(f, v))"
   ]
  },
  {
   "cell_type": "code",
   "execution_count": null,
   "metadata": {},
   "outputs": [],
   "source": []
  }
 ],
 "metadata": {
  "kernelspec": {
   "display_name": "Python 3",
   "language": "python",
   "name": "python3"
  },
  "language_info": {
   "codemirror_mode": {
    "name": "ipython",
    "version": 3
   },
   "file_extension": ".py",
   "mimetype": "text/x-python",
   "name": "python",
   "nbconvert_exporter": "python",
   "pygments_lexer": "ipython3",
   "version": "3.7.3"
  }
 },
 "nbformat": 4,
 "nbformat_minor": 2
}
