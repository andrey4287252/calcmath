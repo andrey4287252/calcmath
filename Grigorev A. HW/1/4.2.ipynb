{
 "cells": [
  {
   "cell_type": "code",
   "execution_count": 1,
   "metadata": {},
   "outputs": [],
   "source": [
    "import numpy as np\n",
    "import pandas as pd\n",
    "import functools\n",
    "import math\n",
    "import fractions\n",
    "import itertools as it\n",
    "from numpy import linalg as LA"
   ]
  },
  {
   "cell_type": "code",
   "execution_count": 6,
   "metadata": {},
   "outputs": [],
   "source": [
    "def scal(x,y):\n",
    "    m = x@(y.transpose())\n",
    "    return m"
   ]
  },
  {
   "cell_type": "code",
   "execution_count": 19,
   "metadata": {},
   "outputs": [
    {
     "name": "stdout",
     "output_type": "stream",
     "text": [
      "0.1192721278916117 0.0537231878789703\n"
     ]
    }
   ],
   "source": [
    "H = np.array([4., 10., 15., 20., 30., 40., 60., 80])\n",
    "B = np.array([13.0, 14.0, 15.4, 16.3, 17.2, 17.8, 18.5, 18.8])\n",
    "p = np.array([1 for i in range(len(H))])\n",
    "N = 100\n",
    "for i in range(N):\n",
    "    A = np.array([[scal(p, B*B), scal(p, H*B*B)], [scal(p, B*B*H), scal(p, H*H*B*B)]])    \n",
    "    F = np.array([scal(p, H*B), scal(p, H*H*B)])\n",
    "    v = LA.solve(A, F)\n",
    "    a = v[0]\n",
    "    b = v[1]\n",
    "    p = np.array([1/((a + b*H[k])**2) for k in range(len(H))])\n",
    "print(a , b)"
   ]
  },
  {
   "cell_type": "code",
   "execution_count": null,
   "metadata": {},
   "outputs": [],
   "source": []
  }
 ],
 "metadata": {
  "kernelspec": {
   "display_name": "Python 3",
   "language": "python",
   "name": "python3"
  },
  "language_info": {
   "codemirror_mode": {
    "name": "ipython",
    "version": 3
   },
   "file_extension": ".py",
   "mimetype": "text/x-python",
   "name": "python",
   "nbconvert_exporter": "python",
   "pygments_lexer": "ipython3",
   "version": "3.7.3"
  }
 },
 "nbformat": 4,
 "nbformat_minor": 2
}
