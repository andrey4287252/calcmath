{
 "cells": [
  {
   "cell_type": "code",
   "execution_count": 1,
   "metadata": {},
   "outputs": [],
   "source": [
    "import numpy as np\n",
    "import pandas as pd\n",
    "import functools\n",
    "import math\n",
    "import fractions\n",
    "import itertools as it\n",
    "from numpy import linalg as LA\n",
    "from scipy.interpolate import lagrange\n",
    "from numpy.polynomial.polynomial import Polynomial"
   ]
  },
  {
   "cell_type": "code",
   "execution_count": 2,
   "metadata": {},
   "outputs": [],
   "source": [
    "def CanonicalMPI(func, x, k, say = 0):\n",
    "    for i in range(k):\n",
    "        if(say != 0):\n",
    "            print (i, \"th iteration, x is \", x)\n",
    "        x = func(x)\n",
    "    if(say != 0):\n",
    "            print (k, \"th iteration, x is \", x)\n",
    "    return x\n",
    "def HDNewt(f, J, x0, k, say = 0):\n",
    "    def tmp(y):\n",
    "        return y - np.linalg.inv(J(y))@(f(y))\n",
    "    return CanonicalMPI(tmp, x0, k, say)"
   ]
  },
  {
   "cell_type": "code",
   "execution_count": 18,
   "metadata": {},
   "outputs": [
    {
     "name": "stdout",
     "output_type": "stream",
     "text": [
      "0 th iteration, x is  [0.5 0.5]\n",
      "1 th iteration, x is  [0.37254197 0.3528777 ]\n",
      "2 th iteration, x is  [0.36126248 0.31690567]\n",
      "3 th iteration, x is  [0.36026608 0.31531039]\n",
      "4 th iteration, x is  [0.36026429 0.31530658]\n",
      "5 th iteration, x is  [0.36026429 0.31530658]\n",
      "6 th iteration, x is  [0.36026429 0.31530658]\n",
      "7 th iteration, x is  [0.36026429 0.31530658]\n",
      "8 th iteration, x is  [0.36026429 0.31530658]\n",
      "9 th iteration, x is  [0.36026429 0.31530658]\n",
      "10 th iteration, x is  [0.36026429 0.31530658]\n"
     ]
    },
    {
     "data": {
      "text/plain": [
       "array([0., 0.])"
      ]
     },
     "execution_count": 18,
     "metadata": {},
     "output_type": "execute_result"
    }
   ],
   "source": [
    "def f(I):\n",
    "    return np.array([(I[0] - 1.4)**2 - (I[1] - 0.6)**2 - 1, 4.2*I[0]**2 + 8.8*I[1]**2 - 1.42])\n",
    "def J(I):\n",
    "    return np.array([[2*(I[0] - 1.4), -2.*(I[1] - 0.6)],[8.4*I[0], 17.6*I[1]]])\n",
    "A1 = HDNewt(f, J, np.array([0.5, 0.5]), 10, 1)\n",
    "f(A1)"
   ]
  },
  {
   "cell_type": "code",
   "execution_count": 24,
   "metadata": {},
   "outputs": [
    {
     "name": "stdout",
     "output_type": "stream",
     "text": [
      "0 th iteration, x is  [ 0.  -0.5]\n",
      "1 th iteration, x is  [-0.01964286 -0.41136364]\n",
      "2 th iteration, x is  [-0.0153808  -0.40168772]\n",
      "3 th iteration, x is  [-0.01531816 -0.40156153]\n",
      "4 th iteration, x is  [-0.01531815 -0.40156151]\n",
      "5 th iteration, x is  [-0.01531815 -0.40156151]\n",
      "6 th iteration, x is  [-0.01531815 -0.40156151]\n",
      "7 th iteration, x is  [-0.01531815 -0.40156151]\n",
      "8 th iteration, x is  [-0.01531815 -0.40156151]\n",
      "9 th iteration, x is  [-0.01531815 -0.40156151]\n",
      "10 th iteration, x is  [-0.01531815 -0.40156151]\n"
     ]
    },
    {
     "data": {
      "text/plain": [
       "array([2.22044605e-16, 0.00000000e+00])"
      ]
     },
     "execution_count": 24,
     "metadata": {},
     "output_type": "execute_result"
    }
   ],
   "source": [
    "A2 = HDNewt(f, J, np.array([0.0, -0.5]), 10, 1)\n",
    "f(A2)"
   ]
  },
  {
   "cell_type": "code",
   "execution_count": null,
   "metadata": {},
   "outputs": [],
   "source": []
  }
 ],
 "metadata": {
  "kernelspec": {
   "display_name": "Python 3",
   "language": "python",
   "name": "python3"
  },
  "language_info": {
   "codemirror_mode": {
    "name": "ipython",
    "version": 3
   },
   "file_extension": ".py",
   "mimetype": "text/x-python",
   "name": "python",
   "nbconvert_exporter": "python",
   "pygments_lexer": "ipython3",
   "version": "3.7.3"
  }
 },
 "nbformat": 4,
 "nbformat_minor": 2
}
