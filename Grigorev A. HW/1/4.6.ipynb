{
 "cells": [
  {
   "cell_type": "code",
   "execution_count": 4,
   "metadata": {},
   "outputs": [
    {
     "name": "stdout",
     "output_type": "stream",
     "text": [
      "i:  0 answ:  3.0\n",
      "i:  1 answ:  0.541198985129407\n",
      "i:  2 answ:  -0.7071091266443394\n",
      "i:  3 answ:  1.3065604569487086\n"
     ]
    }
   ],
   "source": [
    "import numpy as np\n",
    "\n",
    "def scal(x,y):\n",
    "    m = x@(y.transpose())\n",
    "    return m\n",
    "\n",
    "F = np.array([[np.cos(i*3.14159*(1 + 2*j)/8) for j in range(4)] for i in range(4)])\n",
    "y = np.array([2, 1, 3, 0])\n",
    "for i in range(4):\n",
    "    print(\"i: \", i, \"answ: \", (1/2)*scal(F[i], y))"
   ]
  },
  {
   "cell_type": "code",
   "execution_count": null,
   "metadata": {},
   "outputs": [],
   "source": []
  }
 ],
 "metadata": {
  "kernelspec": {
   "display_name": "Python 3",
   "language": "python",
   "name": "python3"
  },
  "language_info": {
   "codemirror_mode": {
    "name": "ipython",
    "version": 3
   },
   "file_extension": ".py",
   "mimetype": "text/x-python",
   "name": "python",
   "nbconvert_exporter": "python",
   "pygments_lexer": "ipython3",
   "version": "3.7.3"
  }
 },
 "nbformat": 4,
 "nbformat_minor": 2
}
