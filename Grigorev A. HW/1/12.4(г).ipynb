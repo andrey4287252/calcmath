{
 "cells": [
  {
   "cell_type": "code",
   "execution_count": 24,
   "metadata": {},
   "outputs": [],
   "source": [
    "import itertools as it\n",
    "import numpy as np\n",
    "import matplotlib.pyplot as plt\n",
    "import pandas as pd\n",
    "import functools\n",
    "import math\n",
    "import fractions\n",
    "from scipy.interpolate import lagrange\n",
    "from numpy import linalg as LA"
   ]
  },
  {
   "cell_type": "code",
   "execution_count": 25,
   "metadata": {},
   "outputs": [],
   "source": [
    "def se(f, a, b, k, say = 0):\n",
    "    x1 = a\n",
    "    x2 = b\n",
    "    for i in range(k):\n",
    "        c = (x1*f(x2) - x2*f(x1))/(f(x2) -  f(x1))\n",
    "        if(f(x1)*f(c) < 0):\n",
    "            x2 = c\n",
    "        else:\n",
    "            x1 = c\n",
    "        if(say != 0):\n",
    "            print (i, \"th iteration, x is \", x1)\n",
    "    if(say != 0):\n",
    "            print (k, \"th iteration, x is \", x1)\n",
    "    return x1"
   ]
  },
  {
   "cell_type": "code",
   "execution_count": 26,
   "metadata": {},
   "outputs": [],
   "source": [
    "def f(x):\n",
    "    return (x - 3)*np.cos(x) - 1"
   ]
  },
  {
   "cell_type": "code",
   "execution_count": 30,
   "metadata": {},
   "outputs": [
    {
     "name": "stdout",
     "output_type": "stream",
     "text": [
      "0 th iteration, x is  4.93580720924367\n",
      "1 th iteration, x is  5.1837078810164465\n",
      "2 th iteration, x is  5.1837078810164465\n",
      "3 th iteration, x is  5.187231951711337\n",
      "4 th iteration, x is  5.187232027770684\n",
      "5 th iteration, x is  5.187232027770684\n",
      "6 th iteration, x is  5.187232027772317\n",
      "7 th iteration, x is  5.187232027772317\n",
      "8 th iteration, x is  5.187232027772317\n",
      "9 th iteration, x is  5.187232027772317\n",
      "10 th iteration, x is  5.187232027772317\n",
      "11 th iteration, x is  5.187232027772317\n",
      "12 th iteration, x is  5.187232027772317\n",
      "13 th iteration, x is  5.187232027772317\n",
      "14 th iteration, x is  5.187232027772317\n",
      "15 th iteration, x is  5.187232027772317\n",
      "Answer is:  5.187232027772317\n"
     ]
    }
   ],
   "source": [
    "answ = se(f, 4. ,6. , 15, 1)\n",
    "print(\"Answer is: \", answ)"
   ]
  },
  {
   "cell_type": "code",
   "execution_count": 31,
   "metadata": {},
   "outputs": [
    {
     "data": {
      "text/plain": [
       "-1.7763568394002505e-15"
      ]
     },
     "execution_count": 31,
     "metadata": {},
     "output_type": "execute_result"
    }
   ],
   "source": [
    "f(answ)"
   ]
  },
  {
   "cell_type": "code",
   "execution_count": null,
   "metadata": {},
   "outputs": [],
   "source": []
  }
 ],
 "metadata": {
  "kernelspec": {
   "display_name": "Python 3",
   "language": "python",
   "name": "python3"
  },
  "language_info": {
   "codemirror_mode": {
    "name": "ipython",
    "version": 3
   },
   "file_extension": ".py",
   "mimetype": "text/x-python",
   "name": "python",
   "nbconvert_exporter": "python",
   "pygments_lexer": "ipython3",
   "version": "3.7.3"
  }
 },
 "nbformat": 4,
 "nbformat_minor": 2
}
