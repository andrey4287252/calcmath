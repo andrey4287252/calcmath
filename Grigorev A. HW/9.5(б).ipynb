{
 "cells": [
  {
   "cell_type": "code",
   "execution_count": 1,
   "metadata": {},
   "outputs": [],
   "source": [
    "import numpy as np\n",
    "import pandas as pd\n",
    "import functools\n",
    "import math\n",
    "import fractions\n",
    "import itertools as it\n",
    "import scipy.integrate"
   ]
  },
  {
   "cell_type": "code",
   "execution_count": 2,
   "metadata": {},
   "outputs": [],
   "source": [
    "def TrapInt (X, Y):\n",
    "    S = 0.\n",
    "    for i in range(len(X) - 1):\n",
    "        S += (Y[i] + Y[i + 1])*(X[i + 1] - X[i])/2\n",
    "    return S"
   ]
  },
  {
   "cell_type": "code",
   "execution_count": 21,
   "metadata": {},
   "outputs": [
    {
     "name": "stdout",
     "output_type": "stream",
     "text": [
      "I(2h) =  0.3669885625\n",
      "I(h) =  0.37173687499999997\n",
      "Уточнённый результат: 0.3654057916666667\n",
      "По Симпсону: 0.36540579166666665\n"
     ]
    }
   ],
   "source": [
    "X1 = np.array([0., 0.125, 0.25, 0.375, 0.5, 0.625, 0.75, 0.875, 1.])\n",
    "Y1 = np.array([0.000000, 0.021470, 0.293050, 0.494105, 0.541341, 0.516855, 0.468617, 0.416531, 0.367879])\n",
    "I1 = TrapInt(X1, Y1)\n",
    "X2 = X1[::2]\n",
    "Y2 = Y1[::2]\n",
    "I2 = TrapInt(X2, Y2)\n",
    "h = 0.125\n",
    "p = 2\n",
    "d = (I1 - I2)/(2**p - 1)\n",
    "print(\"I(2h) = \", I1)\n",
    "print(\"I(h) = \", I2)\n",
    "print(\"Уточнённый результат:\", I1 + d)\n",
    "print(\"По Симпсону:\", scipy.integrate.simps(Y1, X1))"
   ]
  }
 ],
 "metadata": {
  "kernelspec": {
   "display_name": "Python 3",
   "language": "python",
   "name": "python3"
  },
  "language_info": {
   "codemirror_mode": {
    "name": "ipython",
    "version": 3
   },
   "file_extension": ".py",
   "mimetype": "text/x-python",
   "name": "python",
   "nbconvert_exporter": "python",
   "pygments_lexer": "ipython3",
   "version": "3.7.3"
  }
 },
 "nbformat": 4,
 "nbformat_minor": 2
}
