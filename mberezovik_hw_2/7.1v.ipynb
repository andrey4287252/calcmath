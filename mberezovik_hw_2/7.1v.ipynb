{
 "cells": [
  {
   "cell_type": "code",
   "execution_count": 17,
   "metadata": {},
   "outputs": [],
   "source": [
    "import numpy as np\n",
    "import matplotlib.pyplot as plt\n",
    "import math"
   ]
  },
  {
   "cell_type": "markdown",
   "metadata": {},
   "source": [
    "### Изучение функции "
   ]
  },
  {
   "cell_type": "markdown",
   "metadata": {},
   "source": [
    "$$\n",
    "    f(t) = \\frac{t^4}{4} - 2t^2\n",
    "$$"
   ]
  },
  {
   "cell_type": "code",
   "execution_count": 31,
   "metadata": {},
   "outputs": [],
   "source": [
    "def f(t):\n",
    "    return (t**(4)/4)- 2*t**(2)"
   ]
  },
  {
   "cell_type": "code",
   "execution_count": 36,
   "metadata": {},
   "outputs": [
    {
     "data": {
      "image/png": "[encoded data removed]",
      "text/plain": [
       "<Figure size 432x288 with 1 Axes>"
      ]
     },
     "metadata": {
      "needs_background": "light"
     },
     "output_type": "display_data"
    }
   ],
   "source": [
    "x = np.arange(0,4,0.001)\n",
    "f_vect = np.vectorize(f)\n",
    "y = f_vect(x)\n",
    "plt.plot(x,y)\n",
    "plt.show()"
   ]
  },
  {
   "cell_type": "markdown",
   "metadata": {},
   "source": [
    "Функция четная, следовательно если мы найдем точку локального минимума в правой полуплоскости, то автоматически найдем и в левой"
   ]
  },
  {
   "cell_type": "markdown",
   "metadata": {},
   "source": [
    "### Дихотомия "
   ]
  },
  {
   "cell_type": "code",
   "execution_count": 53,
   "metadata": {},
   "outputs": [
    {
     "name": "stdout",
     "output_type": "stream",
     "text": [
      "1.9999987405796826 2.0000002294119628\n"
     ]
    }
   ],
   "source": [
    "#Начальные параметры:\n",
    "delta_rel = 10**(-3.)\n",
    "x = np.array([1.5,3.])\n",
    "eps = 10**(-6)\n",
    "\n",
    "length_0 = x[1]-x[0]\n",
    "N = math.trunc(math.log2(length_0/(2*eps))) + 1\n",
    "\n",
    "for i in range(N):\n",
    "    length = (x[1]-x[0])\n",
    "    delta = delta_rel*length\n",
    "    u = np.array([(x[0]+x[1])/2 - delta, (x[0]+x[1])/2 + delta])\n",
    "    if (f(u[0]) <= f(u[1])):\n",
    "        x[1] = u[1]\n",
    "    else:\n",
    "        x[0] = u[0]\n",
    "print(x[0],x[1])"
   ]
  },
  {
   "cell_type": "markdown",
   "metadata": {},
   "source": [
    "### Сведение к алгебраическому уравнению "
   ]
  },
  {
   "cell_type": "markdown",
   "metadata": {},
   "source": [
    "$$\n",
    "    \\frac{df}{dt} = t(t^2 - 4)\n",
    "    \\\\\n",
    "    t_{min} = \\pm 2\n",
    "$$"
   ]
  }
 ],
 "metadata": {
  "kernelspec": {
   "display_name": "Python 3",
   "language": "python",
   "name": "python3"
  },
  "language_info": {
   "codemirror_mode": {
    "name": "ipython",
    "version": 3
   },
   "file_extension": ".py",
   "mimetype": "text/x-python",
   "name": "python",
   "nbconvert_exporter": "python",
   "pygments_lexer": "ipython3",
   "version": "3.7.4"
  }
 },
 "nbformat": 4,
 "nbformat_minor": 2
}
