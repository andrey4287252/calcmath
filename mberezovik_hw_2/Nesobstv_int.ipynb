{
 "cells": [
  {
   "cell_type": "code",
   "execution_count": 1,
   "metadata": {},
   "outputs": [],
   "source": [
    "import numpy as np\n",
    "import math\n",
    "import matplotlib.pyplot as plt"
   ]
  },
  {
   "cell_type": "markdown",
   "metadata": {},
   "source": [
    "Интеграл:\n",
    "$$\n",
    "    \\int_{1}^{\\infty} e^{-x^2} sin(x) dx\n",
    "$$\n",
    "Заметим что:\n",
    "$$\n",
    "    | \\int_{M}^{\\infty} e^{-x^2} sin(x) dx| \\leqslant \\int_{M}^{\\infty} e^{-x} dx \\leqslant e^{-M}\n",
    "$$\n",
    "Откуда можем выбрать:\n",
    "$$\n",
    "    M = -ln(\\frac{\\varepsilon}{2})\n",
    "$$\n",
    "Как видно внизу в качестве $M$ можно взять $M = 8$<br>\n",
    "Далее будем считать интеграл:\n",
    "$$\n",
    "    \\int_{1}^{M} e^{-x^2} sin(x) dx\n",
    "$$\n",
    "c точностью $\\varepsilon/2$. Для простоты будем считать его с помощью интегрирования по прямоугольникам с центральной точкой"
   ]
  },
  {
   "cell_type": "code",
   "execution_count": 3,
   "metadata": {},
   "outputs": [
    {
     "data": {
      "text/plain": [
       "7.600902459542082"
      ]
     },
     "execution_count": 3,
     "metadata": {},
     "output_type": "execute_result"
    }
   ],
   "source": [
    "eps = 10**(-3)\n",
    "M = -math.log(eps/2)\n",
    "M"
   ]
  },
  {
   "cell_type": "markdown",
   "metadata": {},
   "source": [
    "$$\n",
    "    f''(x) = e^{-x^2}((4x^2 - 3)sin(x) - 4xcos(x)) \n",
    "$$\n",
    "На отрезке $[1;M]$:\n",
    "$$\n",
    "    \\| f''\\| \\leqslant e ((4\\cdot 64+3) + 4\\cdot 8) =791\n",
    "$$\n",
    "Тогда следует выбирать шаг:\n",
    "$$\n",
    "    h \\leqslant \\sqrt\\frac{12 \\varepsilon}{7\\cdot 791} \\leqslant 0.001472\n",
    "$$\n",
    "Мы будем брать $h = 0.001$"
   ]
  },
  {
   "cell_type": "code",
   "execution_count": 4,
   "metadata": {},
   "outputs": [
    {
     "data": {
      "text/plain": [
       "791.0200120815821"
      ]
     },
     "execution_count": 4,
     "metadata": {},
     "output_type": "execute_result"
    }
   ],
   "source": [
    "math.e *((4*64+3) +32)"
   ]
  },
  {
   "cell_type": "code",
   "execution_count": 5,
   "metadata": {
    "scrolled": true
   },
   "outputs": [
    {
     "data": {
      "text/plain": [
       "0.001472154399798699"
      ]
     },
     "execution_count": 5,
     "metadata": {},
     "output_type": "execute_result"
    }
   ],
   "source": [
    "math.sqrt(12*eps/(7*791))"
   ]
  },
  {
   "cell_type": "code",
   "execution_count": 9,
   "metadata": {},
   "outputs": [],
   "source": [
    "def int_rectangle_medium(f,a,b,h):\n",
    "    x = np.arange(a,b,h)\n",
    "    summ = 0\n",
    "    for i in range(x.size-1):\n",
    "        summ += f(x[i] + h/2)\n",
    "    summ *= h\n",
    "    return summ"
   ]
  },
  {
   "cell_type": "code",
   "execution_count": 10,
   "metadata": {},
   "outputs": [],
   "source": [
    "def func(x):\n",
    "    return math.exp(-x**2)*math.sin(x)"
   ]
  },
  {
   "cell_type": "code",
   "execution_count": 15,
   "metadata": {},
   "outputs": [
    {
     "name": "stdout",
     "output_type": "stream",
     "text": [
      "0.1297381837381765\n"
     ]
    }
   ],
   "source": [
    "print(int_rectangle_medium(func,1.,8.,10**(-3)))"
   ]
  },
  {
   "cell_type": "code",
   "execution_count": null,
   "metadata": {},
   "outputs": [],
   "source": []
  }
 ],
 "metadata": {
  "kernelspec": {
   "display_name": "Python 3",
   "language": "python",
   "name": "python3"
  },
  "language_info": {
   "codemirror_mode": {
    "name": "ipython",
    "version": 3
   },
   "file_extension": ".py",
   "mimetype": "text/x-python",
   "name": "python",
   "nbconvert_exporter": "python",
   "pygments_lexer": "ipython3",
   "version": "3.7.4"
  }
 },
 "nbformat": 4,
 "nbformat_minor": 2
}
