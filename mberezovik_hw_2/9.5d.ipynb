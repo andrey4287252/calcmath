{
 "cells": [
  {
   "cell_type": "code",
   "execution_count": 1,
   "metadata": {},
   "outputs": [],
   "source": [
    "import numpy as np\n",
    "import math\n",
    "import matplotlib.pyplot as plt"
   ]
  },
  {
   "cell_type": "code",
   "execution_count": 2,
   "metadata": {},
   "outputs": [],
   "source": [
    "x = np.array([0,0.125,0.25,0.375,0.5,0.625,0.75,0.875,1],dtype = float)\n",
    "fx = np.array([0,0.124670,0.247234,0.364902,0.473112,0.563209,0.616193,0.579699,0.000000],dtype = float)"
   ]
  },
  {
   "cell_type": "code",
   "execution_count": 6,
   "metadata": {},
   "outputs": [
    {
     "data": {
      "text/plain": [
       "0.371127375"
      ]
     },
     "execution_count": 6,
     "metadata": {},
     "output_type": "execute_result"
    }
   ],
   "source": [
    "#Метод трапеций\n",
    "trapz = 0 \n",
    "h = 0.125\n",
    "N = x.size\n",
    "for i in range(N-1):\n",
    "    trapz += (fx[i+1] + fx[i])/2\n",
    "trapz *= h\n",
    "trapz"
   ]
  },
  {
   "cell_type": "code",
   "execution_count": 8,
   "metadata": {},
   "outputs": [
    {
     "data": {
      "text/plain": [
       "0.33413475"
      ]
     },
     "execution_count": 8,
     "metadata": {},
     "output_type": "execute_result"
    }
   ],
   "source": [
    "#Метод трапеций на сетке с шагом в раза больше\n",
    "trapz_2h = 0\n",
    "for i in range(0,N-1,2):\n",
    "    trapz_2h += (fx[i+2] + fx[i])/2\n",
    "trapz_2h *= 2*h\n",
    "trapz_2h"
   ]
  },
  {
   "cell_type": "code",
   "execution_count": 10,
   "metadata": {},
   "outputs": [
    {
     "data": {
      "text/plain": [
       "0.38345825"
      ]
     },
     "execution_count": 10,
     "metadata": {},
     "output_type": "execute_result"
    }
   ],
   "source": [
    "#Экстраполяция ричардсона:\n",
    "Int_rich = trapz + (trapz - trapz_2h)/3\n",
    "Int_rich"
   ]
  },
  {
   "cell_type": "code",
   "execution_count": 11,
   "metadata": {},
   "outputs": [
    {
     "data": {
      "text/plain": [
       "0.38345825"
      ]
     },
     "execution_count": 11,
     "metadata": {},
     "output_type": "execute_result"
    }
   ],
   "source": [
    "#Формула Симпсона\n",
    "simp = 0\n",
    "for i in range(0,N-1,2):\n",
    "    simp += (fx[i+2] + 4*fx[i+1] + fx[i])/6\n",
    "simp *= 2*h\n",
    "simp"
   ]
  },
  {
   "cell_type": "code",
   "execution_count": null,
   "metadata": {},
   "outputs": [],
   "source": []
  }
 ],
 "metadata": {
  "kernelspec": {
   "display_name": "Python 3",
   "language": "python",
   "name": "python3"
  },
  "language_info": {
   "codemirror_mode": {
    "name": "ipython",
    "version": 3
   },
   "file_extension": ".py",
   "mimetype": "text/x-python",
   "name": "python",
   "nbconvert_exporter": "python",
   "pygments_lexer": "ipython3",
   "version": "3.7.4"
  }
 },
 "nbformat": 4,
 "nbformat_minor": 2
}
