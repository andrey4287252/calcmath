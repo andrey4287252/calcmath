{
 "cells": [
  {
   "cell_type": "code",
   "execution_count": 1,
   "metadata": {},
   "outputs": [],
   "source": [
    "import math\n",
    "import matplotlib.pyplot as plt\n",
    "import numpy as np"
   ]
  },
  {
   "cell_type": "markdown",
   "metadata": {},
   "source": [
    "$$\n",
    "    \\frac{d^2 y}{dx^2} = y sin(x)\n",
    "    \\\\\n",
    "    y(0) = 0\n",
    "    \\\\\n",
    "    y'(0)=1\n",
    "    \\\\\n",
    "    x \\in [0;1]\n",
    "$$"
   ]
  },
  {
   "cell_type": "markdown",
   "metadata": {},
   "source": [
    "а) Следующая система из двух уравнений эквивалента исходной\n",
    "$$\n",
    "    \\frac{dz_2}{dx} = z_1 sin(x)\n",
    "    \\\\\n",
    "    \\frac{dz_1}{dx} = z_2\n",
    "    \\\\\n",
    "    z_1(0) = 0\n",
    "    \\\\\n",
    "    z_2(0) = 1\n",
    "    \\\\\n",
    "    x \\in [0;1]\n",
    "$$\n",
    "То есть решение $z_1(x)$ будет являться решением исходного уравнения и наоборот, если $y(x)$ решение исходного то $z_1(x) = y(x); z_2(x) = y'(x)$ это решение этой системы. Такую систему мы далее решаем любым методом для систем."
   ]
  },
  {
   "cell_type": "markdown",
   "metadata": {},
   "source": [
    "б)Построим алгоритм основанный на замене нашего исходного уравнения, разностным уравнением второго порядка:\n",
    "$$\n",
    "    \\frac{y_{n+1}' - y_n '}{h} = f(x_n,y_n)\n",
    "    \\\\\n",
    "    \\frac{y_{n+1} - y_{n}}{h} = y_n '\n",
    "$$"
   ]
  },
  {
   "cell_type": "markdown",
   "metadata": {},
   "source": [
    "в) Решим задачу способом б):"
   ]
  },
  {
   "cell_type": "code",
   "execution_count": 51,
   "metadata": {},
   "outputs": [],
   "source": [
    "def f(x,y):\n",
    "    return y*math.sin(x)"
   ]
  },
  {
   "cell_type": "code",
   "execution_count": 76,
   "metadata": {},
   "outputs": [],
   "source": [
    "N = 10000\n",
    "a = 0\n",
    "b = 1\n",
    "h = (b-a)/(N-1)\n",
    "x = np.linspace(a,b,N)\n",
    "y = np.zeros(N)\n",
    "dy = np.zeros(N)\n",
    "y[0] = 0\n",
    "dy[0] = 1"
   ]
  },
  {
   "cell_type": "code",
   "execution_count": 77,
   "metadata": {},
   "outputs": [],
   "source": [
    "for i in range(1,N):\n",
    "    dy[i] = dy[i-1] + h*f(x[i-1],y[i-1])\n",
    "    y[i] = y[i-1] + h*dy[i-1]"
   ]
  },
  {
   "cell_type": "code",
   "execution_count": 78,
   "metadata": {},
   "outputs": [
    {
     "data": {
      "image/png": "[encoded data removed]",
      "text/plain": [
       "<Figure size 432x288 with 1 Axes>"
      ]
     },
     "metadata": {
      "needs_background": "light"
     },
     "output_type": "display_data"
    }
   ],
   "source": [
    "plt.plot(x,y)\n",
    "plt.show()"
   ]
  },
  {
   "cell_type": "code",
   "execution_count": 79,
   "metadata": {},
   "outputs": [
    {
     "data": {
      "text/plain": [
       "[<matplotlib.lines.Line2D at 0x7f76176e6590>]"
      ]
     },
     "execution_count": 79,
     "metadata": {},
     "output_type": "execute_result"
    },
    {
     "data": {
      "image/png": "[encoded data removed]",
      "text/plain": [
       "<Figure size 432x288 with 1 Axes>"
      ]
     },
     "metadata": {
      "needs_background": "light"
     },
     "output_type": "display_data"
    }
   ],
   "source": [
    "plt.plot(x,dy)"
   ]
  },
  {
   "cell_type": "code",
   "execution_count": null,
   "metadata": {},
   "outputs": [],
   "source": []
  }
 ],
 "metadata": {
  "kernelspec": {
   "display_name": "Python 3",
   "language": "python",
   "name": "python3"
  },
  "language_info": {
   "codemirror_mode": {
    "name": "ipython",
    "version": 3
   },
   "file_extension": ".py",
   "mimetype": "text/x-python",
   "name": "python",
   "nbconvert_exporter": "python",
   "pygments_lexer": "ipython3",
   "version": "3.7.4"
  }
 },
 "nbformat": 4,
 "nbformat_minor": 2
}
