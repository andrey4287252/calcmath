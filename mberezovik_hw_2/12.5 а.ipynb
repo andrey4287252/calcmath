{
 "cells": [
  {
   "cell_type": "code",
   "execution_count": 1,
   "metadata": {},
   "outputs": [],
   "source": [
    "import numpy as np\n",
    "import math\n",
    "from matplotlib import pyplot as plt"
   ]
  },
  {
   "cell_type": "markdown",
   "metadata": {},
   "source": [
    "$$\n",
    "    F_1(x,y) = sin(x+1) - y - 1.2 \\\\\n",
    "    F_2(x,y) = 2x + cos\\ y - 2\n",
    "$$"
   ]
  },
  {
   "cell_type": "code",
   "execution_count": 40,
   "metadata": {},
   "outputs": [],
   "source": [
    "x_1 = np.arange(-20,20,0.1)\n",
    "y_1 = np.array([(math.sin(l + 1) - 1.2) for l in x_1])\n",
    "y_2 = np.arange(-20,20,0.1)\n",
    "x_2 = np.array([(2- math.cos(l))/2 for l in y_2])"
   ]
  },
  {
   "cell_type": "code",
   "execution_count": 64,
   "metadata": {},
   "outputs": [
    {
     "data": {
      "image/png": "[encoded data removed]",
      "text/plain": [
       "<Figure size 432x288 with 1 Axes>"
      ]
     },
     "metadata": {
      "needs_background": "light"
     },
     "output_type": "display_data"
    }
   ],
   "source": [
    "plt.plot(x_1,y_1)\n",
    "plt.plot(x_2,y_2)\n",
    "\n",
    "plt.ylim(-0.5,-0.1)\n",
    "plt.xlim(0,1.5)\n",
    "plt.show()"
   ]
  },
  {
   "cell_type": "markdown",
   "metadata": {},
   "source": [
    "Примерная локализация корня:\n",
    "$$\n",
    "    x \\in [0.4;0.6] ;\\ y \\in [-0.1;-0.5]\n",
    "$$"
   ]
  },
  {
   "cell_type": "markdown",
   "metadata": {},
   "source": [
    "$$\n",
    "    f_1(x,y) = (2 - cosy)/2\n",
    "    \\\\\n",
    "    f_2(x,y) = sin(x+1) -1.2\n",
    "    \\\\\n",
    "    J =\n",
    "    \\begin{pmatrix}\n",
    "        \\frac{\\partial f_1}{\\partial x} & \\frac{\\partial f_1}{\\partial y} \\\\\n",
    "        \\frac{\\partial f_2}{\\partial x} & \\frac{\\partial f_2}{\\partial y}\n",
    "    \\end{pmatrix}\n",
    "    \\\\\n",
    "    \\frac{\\partial f_1}{\\partial x} = 0\n",
    "    \\\\\n",
    "    \\frac{\\partial f_1}{\\partial y} = sin(y)/2\n",
    "    \\\\\n",
    "    \\frac{\\partial f_2}{\\partial x} = cos(x+1)\n",
    "    \\\\\n",
    "    \\frac{\\partial f_2}{\\partial y} = 0\n",
    "$$"
   ]
  },
  {
   "cell_type": "code",
   "execution_count": 72,
   "metadata": {},
   "outputs": [],
   "source": [
    "def f(x,y):\n",
    "    w = np.zeros(2)\n",
    "    w[0] = (2. - math.cos(y))/2.\n",
    "    w[1] = math.sin(x+1) - 1.2\n",
    "    return w"
   ]
  },
  {
   "cell_type": "code",
   "execution_count": 76,
   "metadata": {},
   "outputs": [
    {
     "name": "stdout",
     "output_type": "stream",
     "text": [
      "[ 0.50996671 -0.20250501]\n",
      "[ 0.51021708 -0.20184955]\n",
      "[ 0.51015127 -0.20183436]\n",
      "[ 0.51014975 -0.20183835]\n",
      "[ 0.51015015 -0.20183844]\n",
      "[ 0.51015016 -0.20183842]\n",
      "[ 0.51015016 -0.20183842]\n",
      "[ 0.51015016 -0.20183842]\n",
      "[ 0.51015016 -0.20183842]\n",
      "[ 0.51015016 -0.20183842]\n",
      "[ 0.51015016 -0.20183842]\n",
      "[ 0.51015016 -0.20183842]\n",
      "[ 0.51015016 -0.20183842]\n",
      "[ 0.51015016 -0.20183842]\n",
      "[ 0.51015016 -0.20183842]\n",
      "[ 0.51015016 -0.20183842]\n",
      "[ 0.51015016 -0.20183842]\n",
      "[ 0.51015016 -0.20183842]\n",
      "[ 0.51015016 -0.20183842]\n",
      "[ 0.51015016 -0.20183842]\n"
     ]
    }
   ],
   "source": [
    "u = np.array([0.5, -0.2]) \n",
    "N = 20\n",
    "q = 0.5\n",
    "for i in range(N):\n",
    "    u = f(u[0],u[1])\n",
    "    print(u)"
   ]
  },
  {
   "cell_type": "code",
   "execution_count": null,
   "metadata": {},
   "outputs": [],
   "source": []
  }
 ],
 "metadata": {
  "kernelspec": {
   "display_name": "Python 3",
   "language": "python",
   "name": "python3"
  },
  "language_info": {
   "codemirror_mode": {
    "name": "ipython",
    "version": 3
   },
   "file_extension": ".py",
   "mimetype": "text/x-python",
   "name": "python",
   "nbconvert_exporter": "python",
   "pygments_lexer": "ipython3",
   "version": "3.7.4"
  }
 },
 "nbformat": 4,
 "nbformat_minor": 4
}
